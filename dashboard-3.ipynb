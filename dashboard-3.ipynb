{
 "cells": [
  {
   "cell_type": "markdown",
   "metadata": {},
   "source": [
    "# San Francisco Rental Prices Dashboard\n",
    "\n",
    "In this notebook, you will compile the visualizations from the previous analysis into functions that can be used for a Panel dashboard."
   ]
  },
  {
   "cell_type": "code",
   "execution_count": 76,
   "metadata": {},
   "outputs": [],
   "source": [
    "# imports\n",
    "import panel as pn\n",
    "pn.extension('plotly')\n",
    "import plotly.express as px\n",
    "import pandas as pd\n",
    "import hvplot.pandas\n",
    "import matplotlib.pyplot as plt\n",
    "import os\n",
    "from pathlib import Path\n",
    "from dotenv import load_dotenv"
   ]
  },
  {
   "cell_type": "code",
   "execution_count": 77,
   "metadata": {},
   "outputs": [],
   "source": [
    "# Read the Mapbox API key\n",
    "load_dotenv()\n",
    "map_box_api = os.getenv(\"MAPBOX_KEY\")\n",
    "px.set_mapbox_access_token(map_box_api)"
   ]
  },
  {
   "cell_type": "markdown",
   "metadata": {},
   "source": [
    "# Import Data"
   ]
  },
  {
   "cell_type": "code",
   "execution_count": 78,
   "metadata": {},
   "outputs": [],
   "source": [
    "# Import the necessary CSVs to Pandas DataFrames\n",
    "file_path = Path(\"Data/sfo_neighborhoods_census_data.csv\")\n",
    "sf_data = pd.read_csv(file_path, index_col=\"year\")\n",
    "\n",
    "file_path = Path(\"Data/neighborhoods_coordinates.csv\")\n",
    "df_neighborhood_locations = pd.read_csv(file_path)"
   ]
  },
  {
   "cell_type": "code",
   "execution_count": null,
   "metadata": {},
   "outputs": [],
   "source": []
  },
  {
   "cell_type": "markdown",
   "metadata": {},
   "source": [
    "## Panel Visualizations\n",
    "\n",
    "In this section, you will copy the code for each plot type from your analysis notebook and place it into separate functions that Panel can use to create panes for the dashboard. \n",
    "\n",
    "These functions will convert the plot object to a Panel pane.\n",
    "\n",
    "Be sure to include any DataFrame transformation/manipulation code required along with the plotting code.\n",
    "\n",
    "Return a Panel pane object from each function that can be used to build the dashboard.\n",
    "\n",
    "Note: Remove any `.show()` lines from the code. We want to return the plots instead of showing them. The Panel dashboard will then display the plots."
   ]
  },
  {
   "cell_type": "code",
   "execution_count": 79,
   "metadata": {},
   "outputs": [],
   "source": [
    "# Define Panel Visualization Functions\n",
    "def housing_units_per_year():\n",
    "    \"Housing Units Per Year.\"\n",
    "    housing_units = sf_data[\"housing_units\"]\n",
    "    housing_units = housing_units.groupby([sf_data.index]).mean()\n",
    "    housing_units_fig = plt.figure()\n",
    "    housing_units_plot = housing_units.plot.bar(x='year', ylim=[370000, 385000], title=\"Average Number of Housing Units Sold per Year\")\n",
    "    plt.close(housing_units_fig)\n",
    "    \n",
    "    return pn.pane.Matplotlib(housing_units_fig)\n",
    "\n",
    "def sunburst():\n",
    "    \"\"\"Sunburst Plot.\"\"\"\n",
    "    \n",
    "    # YOUR CODE HERE!\n",
    "    \n"
   ]
  },
  {
   "cell_type": "code",
   "execution_count": 80,
   "metadata": {},
   "outputs": [],
   "source": [
    "def average_gross_rent():\n",
    "    \"Average Gross Rent in San Francisco Per Year.\"\n",
    "    average_rent_sqr_foot = sf_data[\"gross_rent\"].groupby([sf_data.index]).mean()\n",
    "    gross_rent_fig = plt.figure()\n",
    "    average_rent_plot = (average_rent_sqr_foot.plot.line(x='year', y='gross_rent', title=\"Average Gross Rent in San Francisco per Year\"))\n",
    "    plt.close(gross_rent_fig)\n",
    "    \n",
    "    return pn.pane.Matplotlib(gross_rent_fig)\n",
    "\n"
   ]
  },
  {
   "cell_type": "code",
   "execution_count": 81,
   "metadata": {},
   "outputs": [],
   "source": [
    "def average_sales_price():\n",
    "    \"Average Sales Price Per Year.\"\n",
    "    average_price_sqr_foot = sf_data[\"sale_price_sqr_foot\"].groupby([sf_data.index]).mean()\n",
    "    sales_price_fig = plt.figure()\n",
    "    average_price_plot = (average_price_sqr_foot.plot.line(x='year', y='sale_price_sqr_foot', title=\"Average Sales Price per Year\"))\n",
    "    plt.close(sales_price_fig)\n",
    "    \n",
    "    return pn.pane.Matplotlib(sales_price_fig)\n",
    "\n"
   ]
  },
  {
   "cell_type": "code",
   "execution_count": 82,
   "metadata": {},
   "outputs": [],
   "source": [
    "def average_price_by_neighborhood():\n",
    "    \"Average Price by Neighberhood\"\n",
    "    sf_data_new = sf_data.groupby([sf_data.index ,\"neighborhood\"]).mean()\n",
    "    sfo_sales = sf_data_new[\"sale_price_sqr_foot\"]\n",
    "    sfo_sales_df = pd.DataFrame(sfo_sales).reset_index()\n",
    "    avg_price_plot = sfo_sales_df.hvplot(y = 'sale_price_sqr_foot', x = 'year', groupby='neighborhood')\n",
    "\n",
    "    return avg_price_plot\n",
    "\n"
   ]
  },
  {
   "cell_type": "code",
   "execution_count": 83,
   "metadata": {},
   "outputs": [],
   "source": [
    "\n",
    "   \n",
    "def top_most_expensive_neighborhoods():\n",
    "    \"Top 10 Most Expensive Neighborhoods.\"\n",
    "    top_10_most_expensive = sf_data.sort_values(by='sale_price_sqr_foot', ascending=False)\n",
    "    #top_10_most_expensive.reset_index()\n",
    "    most_exp_plot = top_10_most_expensive.hvplot.bar(\n",
    "    x=\"neighborhood\", \n",
    "    y=\"sale_price_sqr_foot\",\n",
    "    height=400, \n",
    "    width=1000,\n",
    "    color='neighborhood',\n",
    "    groupby='year'\n",
    ")\n",
    "\n",
    "    return most_exp_plot\n",
    "\n",
    "\n",
    "\n"
   ]
  },
  {
   "cell_type": "code",
   "execution_count": 84,
   "metadata": {},
   "outputs": [],
   "source": [
    "def most_expensive_neighborhoods_rent_sales():\n",
    "    \"Comparison of Rent and Sales Prices of Most Expensive Neighborhoods.\"   \n",
    "    avg_value_per_neighborhood = sf_data.groupby([sf_data[\"neighborhood\"]]).mean()\n",
    "    avg_value_per_neighborhood = avg_value_per_neighborhood.reset_index()\n",
    "    top_10_most_expensive = avg_value_per_neighborhood.nlargest(10, 'sale_price_sqr_foot').reset_index()\n",
    "    topten_plot = px.bar(top_10_most_expensive,\n",
    "    x=\"neighborhood\", \n",
    "    y=\"sale_price_sqr_foot\", \n",
    "    title=\"Top 10 Most Expensive Neighborhoods in San Francisco\", \n",
    "    )\n",
    "\n",
    "    return topten_plot\n",
    "\n"
   ]
  },
  {
   "cell_type": "code",
   "execution_count": 101,
   "metadata": {},
   "outputs": [],
   "source": [
    "def parallel_coordinates():\n",
    "    \"\"\"Parallel Coordinates Plot.\"\"\"\n",
    "    \n",
    "    avg_value_per_neighborhood = sf_data.groupby([sf_data[\"neighborhood\"]]).mean()    \n",
    "    top_10_most_expensive = avg_value_per_neighborhood.nlargest(10, 'sale_price_sqr_foot').reset_index()\n",
    "    top_10_parallel = px.parallel_coordinates(\n",
    "    top_10_most_expensive, \n",
    "    color='sale_price_sqr_foot')\n",
    "\n",
    "    return top_10_parallel"
   ]
  },
  {
   "cell_type": "code",
   "execution_count": 102,
   "metadata": {},
   "outputs": [],
   "source": [
    "def parallel_categories():\n",
    "    \"Parallel Categories Plot.\"\n",
    "    avg_value_per_neighborhood = sf_data.groupby([sf_data[\"neighborhood\"]]).mean()  \n",
    "    top_ten_ex_neighborhood = avg_value_per_neighborhood.nlargest(10, 'sale_price_sqr_foot').reset_index()\n",
    "    top_ten_parallel_categories = px.parallel_categories(\n",
    "    top_ten_ex_neighborhood,\n",
    "    dimensions=[\"neighborhood\", \"sale_price_sqr_foot\", \"housing_units\", \"gross_rent\"],\n",
    "    color=\"sale_price_sqr_foot\",\n",
    "    color_continuous_scale=px.colors.sequential.Inferno,\n",
    ")\n",
    "\n",
    "    return top_ten_parallel_categories"
   ]
  },
  {
   "cell_type": "code",
   "execution_count": 103,
   "metadata": {},
   "outputs": [],
   "source": [
    "def neighborhood_map():\n",
    "    \"Neighborhood Map.\"\n",
    "\n",
    "    file_path = Path(\"Data/neighborhoods_coordinates.csv\")\n",
    "    df_neighborhood_location = pd.read_csv(file_path)\n",
    "    avg_value_per_neighborhood = sf_data.groupby([sf_data[\"neighborhood\"]]).mean()  \n",
    "    avg_value_per_neighborhood = avg_value_per_neighborhood.reset_index()\n",
    "    avg_value_location = pd.concat([avg_value_per_neighborhood, df_neighborhood_location], axis=\"columns\", join=\"inner\")\n",
    "\n",
    "    location_map = px.scatter_mapbox(\n",
    "    avg_value_location,\n",
    "    lat=\"Lat\",\n",
    "    lon=\"Lon\",\n",
    "    size=\"sale_price_sqr_foot\",\n",
    "    color=\"gross_rent\",\n",
    "    color_continuous_scale=px.colors.cyclical.IceFire,\n",
    "    title=\"Average Sale Price per Square Foot and Gross Rent in San Francisco\",\n",
    "    zoom=11,\n",
    "    width=800,\n",
    ")\n",
    "    \n",
    "\n",
    "    return location_map\n",
    "\n"
   ]
  },
  {
   "cell_type": "markdown",
   "metadata": {},
   "source": [
    "## Panel Dashboard\n",
    "\n",
    "In this section, you will combine all of the plots into a single dashboard view using Panel. Be creative with your dashboard design!"
   ]
  },
  {
   "cell_type": "code",
   "execution_count": 104,
   "metadata": {},
   "outputs": [],
   "source": [
    "# Create a Title for the Dashboard\n",
    "# Create a tab layout for the dashboard\n",
    "# Create the dashboard\n",
    "\n",
    "panel_column = pn.Column(\"## San Francisco Real Estate  Anaylsis 2010-2016\", housing_units_per_year(),\n",
    "                    average_gross_rent(),\n",
    "                    average_sales_price(),\n",
    "                    average_price_by_neighborhood())\n",
    "scatter_column = pn.Column( \"##Most Expensive San Francisco Neighborhoods\", top_most_expensive_neighborhoods(),\n",
    ")           \n",
    "# Create tabs\n",
    "\n",
    "SF_dashboard = pn.Tabs(\n",
    "    (\"Price Data\", panel_column),\n",
    "    (\"Most Expensive Neighborhoods\", scatter_column))\n"
   ]
  },
  {
   "cell_type": "code",
   "execution_count": 105,
   "metadata": {},
   "outputs": [
    {
     "data": {},
     "metadata": {},
     "output_type": "display_data"
    },
    {
     "data": {},
     "metadata": {},
     "output_type": "display_data"
    },
    {
     "data": {
      "application/vnd.holoviews_exec.v0+json": "",
      "text/html": [
       "<div id='3795'>\n",
       "\n",
       "\n",
       "\n",
       "\n",
       "\n",
       "  <div class=\"bk-root\" id=\"816baa03-c2d8-4157-b930-a4d5fe4a9900\" data-root-id=\"3795\"></div>\n",
       "</div>\n",
       "<script type=\"application/javascript\">(function(root) {\n",
       "  function embed_document(root) {\n",
       "    var docs_json = {\"4ce3790f-2927-41be-acce-7b173965505a\":{\"defs\":[{\"extends\":null,\"module\":null,\"name\":\"ReactiveHTML1\",\"overrides\":[],\"properties\":[]},{\"extends\":null,\"module\":null,\"name\":\"FlexBox1\",\"overrides\":[],\"properties\":[{\"default\":\"flex-start\",\"kind\":null,\"name\":\"align_content\"},{\"default\":\"flex-start\",\"kind\":null,\"name\":\"align_items\"},{\"default\":\"row\",\"kind\":null,\"name\":\"flex_direction\"},{\"default\":\"wrap\",\"kind\":null,\"name\":\"flex_wrap\"},{\"default\":\"flex-start\",\"kind\":null,\"name\":\"justify_content\"}]},{\"extends\":null,\"module\":null,\"name\":\"TemplateActions1\",\"overrides\":[],\"properties\":[{\"default\":0,\"kind\":null,\"name\":\"open_modal\"},{\"default\":0,\"kind\":null,\"name\":\"close_modal\"}]},{\"extends\":null,\"module\":null,\"name\":\"MaterialTemplateActions1\",\"overrides\":[],\"properties\":[{\"default\":0,\"kind\":null,\"name\":\"open_modal\"},{\"default\":0,\"kind\":null,\"name\":\"close_modal\"}]}],\"roots\":{\"references\":[{\"attributes\":{\"children\":[{\"id\":\"3882\"},{\"id\":\"3883\"}],\"margin\":[0,0,0,0],\"name\":\"Column05736\"},\"id\":\"3881\",\"type\":\"Column\"},{\"attributes\":{\"children\":[{\"id\":\"3878\"}],\"css_classes\":[\"panel-widget-box\"],\"margin\":[5,5,5,5],\"name\":\"WidgetBox05685\"},\"id\":\"3877\",\"type\":\"Column\"},{\"attributes\":{},\"id\":\"3849\",\"type\":\"AllLabels\"},{\"attributes\":{},\"id\":\"3836\",\"type\":\"Selection\"},{\"attributes\":{},\"id\":\"3812\",\"type\":\"LinearScale\"},{\"attributes\":{\"data\":{\"sale_price_sqr_foot\":{\"__ndarray__\":\"Dkc7WO0yckCafszcbwhxQIGRs5ot42ZAJzog0LQ8eEAWMinKGEd+QI0V5FDt0IJAVCHcmLVPdUA=\",\"dtype\":\"float64\",\"order\":\"little\",\"shape\":[7]},\"year\":[2010,2011,2012,2013,2014,2015,2016]},\"selected\":{\"id\":\"3836\"},\"selection_policy\":{\"id\":\"3864\"}},\"id\":\"3835\",\"type\":\"ColumnDataSource\"},{\"attributes\":{\"source\":{\"id\":\"3835\"}},\"id\":\"3842\",\"type\":\"CDSView\"},{\"attributes\":{},\"id\":\"3897\",\"type\":\"CategoricalTicker\"},{\"attributes\":{\"active_multi\":null,\"tools\":[{\"id\":\"3886\"},{\"id\":\"3903\"},{\"id\":\"3904\"},{\"id\":\"3905\"},{\"id\":\"3906\"},{\"id\":\"3907\"}]},\"id\":\"3909\",\"type\":\"Toolbar\"},{\"attributes\":{\"text\":\"year: 2010\",\"text_color\":\"black\",\"text_font_size\":\"12pt\"},\"id\":\"3888\",\"type\":\"Title\"},{\"attributes\":{},\"id\":\"3903\",\"type\":\"SaveTool\"},{\"attributes\":{\"axis_label\":\"year\",\"formatter\":{\"id\":\"3844\"},\"major_label_policy\":{\"id\":\"3846\"},\"ticker\":{\"id\":\"3815\"}},\"id\":\"3814\",\"type\":\"LinearAxis\"},{\"attributes\":{\"axis\":{\"id\":\"3896\"},\"grid_line_color\":null,\"ticker\":null},\"id\":\"3898\",\"type\":\"Grid\"},{\"attributes\":{\"child\":{\"id\":\"3881\"},\"name\":\"Column05736\",\"title\":\"Most Expensive Neighborhoods\"},\"id\":\"3977\",\"type\":\"Panel\"},{\"attributes\":{\"height\":288,\"margin\":[5,5,5,5],\"name\":\"Matplotlib05653\",\"text\":\"&lt;img src=&quot;data:image/png;base64,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&quot; width=&quot;432px&quot; height=&quot;288px&quot; alt=&quot;&quot;&gt;&lt;/img&gt;\",\"width\":432},\"id\":\"3798\",\"type\":\"panel.models.markup.HTML\"},{\"attributes\":{},\"id\":\"3810\",\"type\":\"LinearScale\"},{\"attributes\":{},\"id\":\"3904\",\"type\":\"PanTool\"},{\"attributes\":{\"axis\":{\"id\":\"3899\"},\"dimension\":1,\"grid_line_color\":null,\"ticker\":null},\"id\":\"3902\",\"type\":\"Grid\"},{\"attributes\":{\"line_alpha\":0.1,\"line_color\":\"#30a2da\",\"line_width\":2,\"x\":{\"field\":\"year\"},\"y\":{\"field\":\"sale_price_sqr_foot\"}},\"id\":\"3839\",\"type\":\"Line\"},{\"attributes\":{},\"id\":\"3905\",\"type\":\"WheelZoomTool\"},{\"attributes\":{\"end\":1130.008474840318,\"reset_end\":644.0175329447045,\"reset_start\":141.1976609302527,\"start\":0.0,\"tags\":[[[\"sale_price_sqr_foot\",\"sale_price_sqr_foot\",null]]]},\"id\":\"3803\",\"type\":\"Range1d\"},{\"attributes\":{\"items\":[{\"id\":\"3938\"}],\"location\":[0,0]},\"id\":\"3937\",\"type\":\"Legend\"},{\"attributes\":{\"overlay\":{\"id\":\"3908\"}},\"id\":\"3906\",\"type\":\"BoxZoomTool\"},{\"attributes\":{\"below\":[{\"id\":\"3814\"}],\"center\":[{\"id\":\"3817\"},{\"id\":\"3821\"}],\"height\":300,\"left\":[{\"id\":\"3818\"}],\"margin\":[5,5,5,5],\"min_border_bottom\":10,\"min_border_left\":10,\"min_border_right\":10,\"min_border_top\":10,\"renderers\":[{\"id\":\"3841\"}],\"sizing_mode\":\"fixed\",\"title\":{\"id\":\"3806\"},\"toolbar\":{\"id\":\"3828\"},\"width\":700,\"x_range\":{\"id\":\"3802\"},\"x_scale\":{\"id\":\"3810\"},\"y_range\":{\"id\":\"3803\"},\"y_scale\":{\"id\":\"3812\"}},\"id\":\"3805\",\"subtype\":\"Figure\",\"type\":\"Plot\"},{\"attributes\":{\"fill_color\":{\"field\":\"color\",\"transform\":{\"id\":\"3916\"}},\"top\":{\"field\":\"sale_price_sqr_foot\"},\"width\":{\"value\":0.8},\"x\":{\"field\":\"neighborhood\"}},\"id\":\"3920\",\"type\":\"VBar\"},{\"attributes\":{\"axis_label\":\"neighborhood\",\"formatter\":{\"id\":\"3931\"},\"major_label_policy\":{\"id\":\"3933\"},\"ticker\":{\"id\":\"3897\"}},\"id\":\"3896\",\"type\":\"CategoricalAxis\"},{\"attributes\":{},\"id\":\"3907\",\"type\":\"ResetTool\"},{\"attributes\":{\"axis_label\":\"sale_price_sqr_foot\",\"formatter\":{\"id\":\"3928\"},\"major_label_policy\":{\"id\":\"3930\"},\"ticker\":{\"id\":\"3900\"}},\"id\":\"3899\",\"type\":\"LinearAxis\"},{\"attributes\":{\"line_alpha\":0.2,\"line_color\":\"#30a2da\",\"line_width\":2,\"x\":{\"field\":\"year\"},\"y\":{\"field\":\"sale_price_sqr_foot\"}},\"id\":\"3840\",\"type\":\"Line\"},{\"attributes\":{\"client_comm_id\":\"0b8af966ba774b82a515ef7c10c84e14\",\"comm_id\":\"c3150c2b3d204293bd31f16a105521d6\",\"plot_id\":\"3795\"},\"id\":\"4039\",\"type\":\"panel.models.comm_manager.CommManager\"},{\"attributes\":{\"children\":[{\"id\":\"3974\"},{\"id\":\"3975\"}],\"margin\":[0,0,0,0],\"min_width\":290,\"name\":\"Column05731\",\"width\":290},\"id\":\"3973\",\"type\":\"Column\"},{\"attributes\":{\"children\":[{\"id\":\"3805\"},{\"id\":\"3876\"}],\"margin\":[0,0,0,0],\"name\":\"Row05684\"},\"id\":\"3801\",\"type\":\"Row\"},{\"attributes\":{\"css_classes\":[\"markdown\"],\"margin\":[5,5,5,5],\"name\":\"Markdown05681\",\"text\":\"&lt;h2&gt;San Francisco Real Estate  Anaylsis 2010-2016&lt;/h2&gt;\"},\"id\":\"3797\",\"type\":\"panel.models.markup.HTML\"},{\"attributes\":{\"line_color\":\"#30a2da\",\"line_width\":2,\"x\":{\"field\":\"year\"},\"y\":{\"field\":\"sale_price_sqr_foot\"}},\"id\":\"3838\",\"type\":\"Line\"},{\"attributes\":{\"factors\":[\"South Beach\",\"Glen Park\",\"Miraloma Park\",\"Cow Hollow\",\"Union Square District\",\"Golden Gate Heights\",\"Presidio Heights\",\"Sunnyside\",\"Telegraph Hill\",\"Pacific Heights\",\"Potrero Hill\",\"Mission Bay\",\"Diamond Heights\",\"Parnassus/Ashbury Heights\",\"Outer Parkside\",\"Jordan Park/Laurel Heights\",\"Central Sunset\",\"Eureka Valley/Dolores Heights\",\"Financial District North\",\"South of Market\",\"Lone Mountain\",\"West Portal\",\"Marina\",\"Noe Valley\",\"Lower Pacific Heights\",\"Corona Heights\",\"Outer Sunset\",\"Excelsior\",\"Russian Hill\",\"Buena Vista Park\",\"Outer Richmond \",\"Yerba Buena\",\"Twin Peaks\",\"Park North\",\"Lake --The Presidio\",\"Central Richmond\",\"Nob Hill\",\"Portola\",\"Alamo Square\",\"Inner Richmond\",\"Oceanview\",\"Inner Sunset\",\"Ingleside \",\"Parkside\",\"Hayes Valley\",\"Anza Vista\",\"Mission Terrace\",\"Mission Dolores\",\"Haight Ashbury\",\"Downtown \",\"Inner Mission\",\"Western Addition\",\"Forest Knolls\",\"Inner Parkside\",\"Hunters Point\",\"Bayview\",\"Croker Amazon\",\"Financial District South\",\"Van Ness/ Civic Center\"],\"palette\":[\"#440154\",\"#440255\",\"#440357\",\"#450558\",\"#45065a\",\"#45085b\",\"#46095c\",\"#460b5e\",\"#460c5f\",\"#460e61\",\"#470f62\",\"#471163\",\"#471265\",\"#471466\",\"#471567\",\"#471669\",\"#47186a\",\"#48196b\",\"#481a6c\",\"#481c6e\",\"#481d6f\",\"#481e70\",\"#482071\",\"#482172\",\"#482273\",\"#482374\",\"#472575\",\"#472676\",\"#472777\",\"#472878\",\"#472a79\",\"#472b7a\",\"#472c7b\",\"#462d7c\",\"#462f7c\",\"#46307d\",\"#46317e\",\"#45327f\",\"#45347f\",\"#453580\",\"#453681\",\"#443781\",\"#443982\",\"#433a83\",\"#433b83\",\"#433c84\",\"#423d84\",\"#423e85\",\"#424085\",\"#414186\",\"#414286\",\"#404387\",\"#404487\",\"#3f4587\",\"#3f4788\",\"#3e4888\",\"#3e4989\",\"#3d4a89\",\"#3d4b89\"]},\"id\":\"3916\",\"type\":\"CategoricalColorMapper\"},{\"attributes\":{\"data\":{\"color\":[\"South Beach\",\"Glen Park\",\"Miraloma Park\",\"Cow Hollow\",\"Union Square District\",\"Golden Gate Heights\",\"Presidio Heights\",\"Sunnyside\",\"Telegraph Hill\",\"Pacific Heights\",\"Potrero Hill\",\"Mission Bay\",\"Diamond Heights\",\"Parnassus/Ashbury Heights\",\"Outer Parkside\",\"Jordan Park/Laurel Heights\",\"Central Sunset\",\"Eureka Valley/Dolores Heights\",\"Financial District North\",\"South of Market\",\"Lone Mountain\",\"West Portal\",\"Marina\",\"Noe Valley\",\"Lower Pacific Heights\",\"Corona Heights\",\"Outer Sunset\",\"Excelsior\",\"Russian Hill\",\"Buena Vista Park\",\"Outer Richmond \",\"Yerba Buena\",\"Twin Peaks\",\"Park North\",\"Lake --The Presidio\",\"Central Richmond\",\"Nob Hill\",\"Portola\",\"Alamo Square\",\"Inner Richmond\",\"Oceanview\",\"Inner Sunset\",\"Ingleside \",\"Parkside\",\"Hayes Valley\",\"Anza Vista\",\"Mission Terrace\",\"Mission Dolores\",\"Haight Ashbury\",\"Downtown \",\"Inner Mission\",\"Western Addition\",\"Forest Knolls\",\"Inner Parkside\",\"Hunters Point\",\"Bayview\",\"Croker Amazon\",\"Financial District South\",\"Van Ness/ Civic Center\"],\"neighborhood\":[\"South Beach\",\"Glen Park\",\"Miraloma Park\",\"Cow Hollow\",\"Union Square District\",\"Golden Gate Heights\",\"Presidio Heights\",\"Sunnyside\",\"Telegraph Hill\",\"Pacific Heights\",\"Potrero Hill\",\"Mission Bay\",\"Diamond Heights\",\"Parnassus/Ashbury Heights\",\"Outer Parkside\",\"Jordan Park/Laurel Heights\",\"Central Sunset\",\"Eureka Valley/Dolores Heights\",\"Financial District North\",\"South of Market\",\"Lone Mountain\",\"West Portal\",\"Marina\",\"Noe Valley\",\"Lower Pacific Heights\",\"Corona Heights\",\"Outer Sunset\",\"Excelsior\",\"Russian Hill\",\"Buena Vista Park\",\"Outer Richmond \",\"Yerba Buena\",\"Twin Peaks\",\"Park North\",\"Lake --The Presidio\",\"Central Richmond\",\"Nob Hill\",\"Portola\",\"Alamo Square\",\"Inner Richmond\",\"Oceanview\",\"Inner Sunset\",\"Ingleside \",\"Parkside\",\"Hayes Valley\",\"Anza Vista\",\"Mission Terrace\",\"Mission Dolores\",\"Haight Ashbury\",\"Downtown \",\"Inner Mission\",\"Western Addition\",\"Forest Knolls\",\"Inner Parkside\",\"Hunters Point\",\"Bayview\",\"Croker Amazon\",\"Financial District South\",\"Van Ness/ Civic Center\"],\"sale_price_sqr_foot\":{\"__ndarray__\":\"l7v/LmY0kEBoH3UGsVyGQJ7+Ya3eRIVALMKfLArLgUDghzcujMmBQF1Y/LBoPoFA1qRW7FcrgUB/pHziQPSAQAjqSxtZZoBAxNYMmEEIf0CHfz43M7d+QGCfz9PinH5ACCbRpeSOfECDiAR/FCR7QJ1Cn+ofA3tAuuY5ejQ+ekAG/baHwiJ6QE7pzZvkMXlA7AP43P8beUA29tdRvBR5QMM9Wo5X53hAX0cX7s+EeEBTHwwSSTZ4QBkuQhI30ndA76u8E+xgd0Ch/zTZvxV3QL7B/R38BHdArTyLdtrOdkCp6DxTkqV2QPE3ApdRtnVAB35J6gQidUDaEQJEB9J0QFjhNlzluHRAPTKCP0ZgdEDZUjclwAx0QP6gWCRx8HNAnsfa8dY6c0BITY1wf+JyQA5HO1jtMnJArudfYSjdcUCMmJ0r6qFxQHRb9c9QPHFAa4srL+gwcUCM2zn5qiJxQI8su0aPBHFAG/PQ2+u+cEDlSnYzBG5wQI8dqNfOH3BAQH/hMinPb0DpzvjjvjluQEkB/10zy21AgK0qWTbyakC1WnMVlCFqQNfGotB29mhABT/1V/9TZUA89ENEKENlQOHxGNKptGRA0ENLWkdaZED39D/L0wBbQA==\",\"dtype\":\"float64\",\"order\":\"little\",\"shape\":[59]}},\"selected\":{\"id\":\"3918\"},\"selection_policy\":{\"id\":\"3935\"}},\"id\":\"3917\",\"type\":\"ColumnDataSource\"},{\"attributes\":{\"axis\":{\"id\":\"3818\"},\"dimension\":1,\"grid_line_color\":null,\"ticker\":null},\"id\":\"3821\",\"type\":\"Grid\"},{\"attributes\":{\"data_source\":{\"id\":\"3917\"},\"glyph\":{\"id\":\"3920\"},\"hover_glyph\":{\"id\":\"3923\"},\"muted_glyph\":{\"id\":\"3924\"},\"nonselection_glyph\":{\"id\":\"3921\"},\"selection_glyph\":{\"id\":\"3922\"},\"view\":{\"id\":\"3926\"}},\"id\":\"3925\",\"type\":\"GlyphRenderer\"},{\"attributes\":{\"text\":\"neighborhood: Alamo Square\",\"text_color\":\"black\",\"text_font_size\":\"12pt\"},\"id\":\"3806\",\"type\":\"Title\"},{\"attributes\":{\"fill_color\":{\"field\":\"color\",\"transform\":{\"id\":\"3916\"}},\"top\":{\"field\":\"sale_price_sqr_foot\"},\"width\":{\"value\":0.8},\"x\":{\"field\":\"neighborhood\"}},\"id\":\"3923\",\"type\":\"VBar\"},{\"attributes\":{},\"id\":\"3931\",\"type\":\"CategoricalTickFormatter\"},{\"attributes\":{\"source\":{\"id\":\"3917\"}},\"id\":\"3926\",\"type\":\"CDSView\"},{\"attributes\":{},\"id\":\"3815\",\"type\":\"BasicTicker\"},{\"attributes\":{},\"id\":\"3928\",\"type\":\"BasicTickFormatter\"},{\"attributes\":{\"callback\":null,\"renderers\":[{\"id\":\"3925\"}],\"tags\":[\"hv_created\"],\"tooltips\":[[\"neighborhood\",\"@{neighborhood}\"],[\"sale_price_sqr_foot\",\"@{sale_price_sqr_foot}\"]]},\"id\":\"3886\",\"type\":\"HoverTool\"},{\"attributes\":{},\"id\":\"3894\",\"type\":\"LinearScale\"},{\"attributes\":{\"axis\":{\"id\":\"3814\"},\"grid_line_color\":null,\"ticker\":null},\"id\":\"3817\",\"type\":\"Grid\"},{\"attributes\":{},\"id\":\"3892\",\"type\":\"CategoricalScale\"},{\"attributes\":{\"fill_alpha\":{\"value\":0.2},\"fill_color\":{\"field\":\"color\",\"transform\":{\"id\":\"3916\"}},\"line_alpha\":{\"value\":0.2},\"top\":{\"field\":\"sale_price_sqr_foot\"},\"width\":{\"value\":0.8},\"x\":{\"field\":\"neighborhood\"}},\"id\":\"3924\",\"type\":\"VBar\"},{\"attributes\":{\"margin\":[20,0,0,20],\"name\":\"\",\"style\":{\"white-space\":\"nowrap\"},\"text\":\"year: <b>2010</b>\",\"width\":250},\"id\":\"3974\",\"type\":\"Div\"},{\"attributes\":{},\"id\":\"3819\",\"type\":\"BasicTicker\"},{\"attributes\":{\"axis_label\":\"sale_price_sqr_foot\",\"formatter\":{\"id\":\"3847\"},\"major_label_policy\":{\"id\":\"3849\"},\"ticker\":{\"id\":\"3819\"}},\"id\":\"3818\",\"type\":\"LinearAxis\"},{\"attributes\":{\"label\":{\"field\":\"color\"},\"renderers\":[{\"id\":\"3925\"}]},\"id\":\"3938\",\"type\":\"LegendItem\"},{\"attributes\":{\"fill_color\":{\"field\":\"color\",\"transform\":{\"id\":\"3916\"}},\"top\":{\"field\":\"sale_price_sqr_foot\"},\"width\":{\"value\":0.8},\"x\":{\"field\":\"neighborhood\"}},\"id\":\"3922\",\"type\":\"VBar\"},{\"attributes\":{\"margin\":[0,0,0,0],\"tabs\":[{\"id\":\"3880\"},{\"id\":\"3977\"}]},\"id\":\"3795\",\"type\":\"Tabs\"},{\"attributes\":{\"bottom_units\":\"screen\",\"fill_alpha\":0.5,\"fill_color\":\"lightgrey\",\"left_units\":\"screen\",\"level\":\"overlay\",\"line_alpha\":1.0,\"line_color\":\"black\",\"line_dash\":[4,4],\"line_width\":2,\"right_units\":\"screen\",\"syncable\":false,\"top_units\":\"screen\"},\"id\":\"3908\",\"type\":\"BoxAnnotation\"},{\"attributes\":{},\"id\":\"3930\",\"type\":\"AllLabels\"},{\"attributes\":{},\"id\":\"3935\",\"type\":\"UnionRenderers\"},{\"attributes\":{\"children\":[{\"id\":\"3972\"},{\"id\":\"3976\"}],\"margin\":[0,0,0,0],\"name\":\"Column05735\"},\"id\":\"3971\",\"type\":\"Column\"},{\"attributes\":{\"factors\":[\"South Beach\",\"Glen Park\",\"Miraloma Park\",\"Cow Hollow\",\"Union Square District\",\"Golden Gate Heights\",\"Presidio Heights\",\"Sunnyside\",\"Telegraph Hill\",\"Pacific Heights\",\"Potrero Hill\",\"Mission Bay\",\"Diamond Heights\",\"Parnassus/Ashbury Heights\",\"Outer Parkside\",\"Jordan Park/Laurel Heights\",\"Central Sunset\",\"Eureka Valley/Dolores Heights\",\"Financial District North\",\"South of Market\",\"Lone Mountain\",\"West Portal\",\"Marina\",\"Noe Valley\",\"Lower Pacific Heights\",\"Corona Heights\",\"Outer Sunset\",\"Excelsior\",\"Russian Hill\",\"Buena Vista Park\",\"Outer Richmond \",\"Yerba Buena\",\"Twin Peaks\",\"Park North\",\"Lake --The Presidio\",\"Central Richmond\",\"Nob Hill\",\"Portola\",\"Alamo Square\",\"Inner Richmond\",\"Oceanview\",\"Inner Sunset\",\"Ingleside \",\"Parkside\",\"Hayes Valley\",\"Anza Vista\",\"Mission Terrace\",\"Mission Dolores\",\"Haight Ashbury\",\"Downtown \",\"Inner Mission\",\"Western Addition\",\"Forest Knolls\",\"Inner Parkside\",\"Hunters Point\",\"Bayview\",\"Croker Amazon\",\"Financial District South\",\"Van Ness/ Civic Center\"],\"tags\":[[[\"neighborhood\",\"neighborhood\",null]]]},\"id\":\"3884\",\"type\":\"FactorRange\"},{\"attributes\":{},\"id\":\"3918\",\"type\":\"Selection\"},{\"attributes\":{},\"id\":\"3847\",\"type\":\"BasicTickFormatter\"},{\"attributes\":{},\"id\":\"3900\",\"type\":\"BasicTicker\"},{\"attributes\":{\"margin\":[5,5,5,5],\"name\":\"VSpacer05690\",\"sizing_mode\":\"stretch_height\"},\"id\":\"3879\",\"type\":\"Spacer\"},{\"attributes\":{\"children\":[{\"id\":\"3797\"},{\"id\":\"3798\"},{\"id\":\"3799\"},{\"id\":\"3800\"},{\"id\":\"3801\"}],\"margin\":[0,0,0,0],\"name\":\"Column05692\"},\"id\":\"3796\",\"type\":\"Column\"},{\"attributes\":{\"bottom_units\":\"screen\",\"fill_alpha\":0.5,\"fill_color\":\"lightgrey\",\"left_units\":\"screen\",\"level\":\"overlay\",\"line_alpha\":1.0,\"line_color\":\"black\",\"line_dash\":[4,4],\"line_width\":2,\"right_units\":\"screen\",\"syncable\":false,\"top_units\":\"screen\"},\"id\":\"3827\",\"type\":\"BoxAnnotation\"},{\"attributes\":{\"css_classes\":[\"markdown\"],\"margin\":[5,5,5,5],\"name\":\"Markdown05718\",\"text\":\"&lt;h2&gt;Most Expensive San Francisco Neighborhoods&lt;/h2&gt;\"},\"id\":\"3882\",\"type\":\"panel.models.markup.HTML\"},{\"attributes\":{},\"id\":\"3822\",\"type\":\"SaveTool\"},{\"attributes\":{\"margin\":[5,5,5,5],\"name\":\"VSpacer05734\",\"sizing_mode\":\"stretch_height\"},\"id\":\"3976\",\"type\":\"Spacer\"},{\"attributes\":{},\"id\":\"3823\",\"type\":\"PanTool\"},{\"attributes\":{\"args\":{\"bidirectional\":false,\"properties\":{},\"source\":{\"id\":\"3975\"},\"target\":{\"id\":\"3974\"}},\"code\":\"try { \\n    var labels = ['year: <b>2010</b>', 'year: <b>2011</b>', 'year: <b>2012</b>', 'year: <b>2013</b>', 'year: <b>2014</b>', 'year: <b>2015</b>', 'year: <b>2016</b>']\\n    target.text = labels[source.value]\\n     } catch(err) { console.log(err) }\",\"tags\":[140706080411984]},\"id\":\"3998\",\"type\":\"CustomJS\"},{\"attributes\":{},\"id\":\"3824\",\"type\":\"WheelZoomTool\"},{\"attributes\":{\"children\":[{\"id\":\"3887\"},{\"id\":\"3971\"}],\"margin\":[0,0,0,0],\"name\":\"Row05721\"},\"id\":\"3883\",\"type\":\"Row\"},{\"attributes\":{\"overlay\":{\"id\":\"3827\"}},\"id\":\"3825\",\"type\":\"BoxZoomTool\"},{\"attributes\":{\"children\":[{\"id\":\"3973\"}],\"css_classes\":[\"panel-widget-box\"],\"margin\":[5,5,5,5],\"name\":\"WidgetBox05722\"},\"id\":\"3972\",\"type\":\"Column\"},{\"attributes\":{},\"id\":\"3933\",\"type\":\"AllLabels\"},{\"attributes\":{\"data_source\":{\"id\":\"3835\"},\"glyph\":{\"id\":\"3838\"},\"hover_glyph\":null,\"muted_glyph\":{\"id\":\"3840\"},\"nonselection_glyph\":{\"id\":\"3839\"},\"selection_glyph\":{\"id\":\"3843\"},\"view\":{\"id\":\"3842\"}},\"id\":\"3841\",\"type\":\"GlyphRenderer\"},{\"attributes\":{},\"id\":\"3844\",\"type\":\"BasicTickFormatter\"},{\"attributes\":{\"margin\":[20,20,20,20],\"min_width\":250,\"options\":[\"Alamo Square\",\"Anza Vista\",\"Bayview\",\"Buena Vista Park\",\"Central Richmond\",\"Central Sunset\",\"Corona Heights\",\"Cow Hollow\",\"Croker Amazon\",\"Diamond Heights\",\"Downtown \",\"Eureka Valley/Dolores Heights\",\"Excelsior\",\"Financial District North\",\"Financial District South\",\"Forest Knolls\",\"Glen Park\",\"Golden Gate Heights\",\"Haight Ashbury\",\"Hayes Valley\",\"Hunters Point\",\"Ingleside \",\"Inner Mission\",\"Inner Parkside\",\"Inner Richmond\",\"Inner Sunset\",\"Jordan Park/Laurel Heights\",\"Lake --The Presidio\",\"Lone Mountain\",\"Lower Pacific Heights\",\"Marina\",\"Miraloma Park\",\"Mission Bay\",\"Mission Dolores\",\"Mission Terrace\",\"Nob Hill\",\"Noe Valley\",\"Oceanview\",\"Outer Parkside\",\"Outer Richmond \",\"Outer Sunset\",\"Pacific Heights\",\"Park North\",\"Parkside\",\"Parnassus/Ashbury Heights\",\"Portola\",\"Potrero Hill\",\"Presidio Heights\",\"Russian Hill\",\"South Beach\",\"South of Market\",\"Sunnyside\",\"Telegraph Hill\",\"Twin Peaks\",\"Union Square District\",\"Van Ness/ Civic Center\",\"West Portal\",\"Western Addition\",\"Yerba Buena\",\"Bernal Heights \",\"Clarendon Heights\",\"Duboce Triangle\",\"Ingleside Heights\",\"North Beach\",\"North Waterfront\",\"Outer Mission\",\"Westwood Highlands\",\"Merced Heights\",\"Midtown Terrace\",\"Visitacion Valley\",\"Silver Terrace\",\"Westwood Park\",\"Bayview Heights\"],\"title\":\"neighborhood\",\"value\":\"Alamo Square\",\"width\":250},\"id\":\"3878\",\"type\":\"Select\"},{\"attributes\":{\"below\":[{\"id\":\"3896\"}],\"center\":[{\"id\":\"3898\"},{\"id\":\"3902\"},{\"id\":\"3937\"}],\"height\":400,\"left\":[{\"id\":\"3899\"}],\"margin\":[5,5,5,5],\"min_border_bottom\":10,\"min_border_left\":10,\"min_border_right\":10,\"min_border_top\":10,\"renderers\":[{\"id\":\"3925\"}],\"right\":[{\"id\":\"3937\"}],\"sizing_mode\":\"fixed\",\"title\":{\"id\":\"3888\"},\"toolbar\":{\"id\":\"3909\"},\"width\":1000,\"x_range\":{\"id\":\"3884\"},\"x_scale\":{\"id\":\"3892\"},\"y_range\":{\"id\":\"3803\"},\"y_scale\":{\"id\":\"3894\"}},\"id\":\"3887\",\"subtype\":\"Figure\",\"type\":\"Plot\"},{\"attributes\":{},\"id\":\"3826\",\"type\":\"ResetTool\"},{\"attributes\":{},\"id\":\"3864\",\"type\":\"UnionRenderers\"},{\"attributes\":{\"child\":{\"id\":\"3796\"},\"name\":\"Column05692\",\"title\":\"Price Data\"},\"id\":\"3880\",\"type\":\"Panel\"},{\"attributes\":{\"height\":288,\"margin\":[5,5,5,5],\"name\":\"Matplotlib05655\",\"text\":\"&lt;img src=&quot;data:image/png;base64,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&quot; width=&quot;432px&quot; height=&quot;288px&quot; alt=&quot;&quot;&gt;&lt;/img&gt;\",\"width\":432},\"id\":\"3799\",\"type\":\"panel.models.markup.HTML\"},{\"attributes\":{\"active_multi\":null,\"tools\":[{\"id\":\"3804\"},{\"id\":\"3822\"},{\"id\":\"3823\"},{\"id\":\"3824\"},{\"id\":\"3825\"},{\"id\":\"3826\"}]},\"id\":\"3828\",\"type\":\"Toolbar\"},{\"attributes\":{\"children\":[{\"id\":\"3877\"},{\"id\":\"3879\"}],\"margin\":[0,0,0,0],\"name\":\"Column05691\"},\"id\":\"3876\",\"type\":\"Column\"},{\"attributes\":{\"line_color\":\"#30a2da\",\"line_width\":2,\"x\":{\"field\":\"year\"},\"y\":{\"field\":\"sale_price_sqr_foot\"}},\"id\":\"3843\",\"type\":\"Line\"},{\"attributes\":{\"callback\":null,\"renderers\":[{\"id\":\"3841\"}],\"tags\":[\"hv_created\"],\"tooltips\":[[\"year\",\"@{year}\"],[\"sale_price_sqr_foot\",\"@{sale_price_sqr_foot}\"]]},\"id\":\"3804\",\"type\":\"HoverTool\"},{\"attributes\":{\"fill_alpha\":{\"value\":0.1},\"fill_color\":{\"field\":\"color\",\"transform\":{\"id\":\"3916\"}},\"line_alpha\":{\"value\":0.1},\"top\":{\"field\":\"sale_price_sqr_foot\"},\"width\":{\"value\":0.8},\"x\":{\"field\":\"neighborhood\"}},\"id\":\"3921\",\"type\":\"VBar\"},{\"attributes\":{\"end\":2016.0,\"reset_end\":2016.0,\"reset_start\":2010.0,\"start\":2010.0,\"tags\":[[[\"year\",\"year\",null]]]},\"id\":\"3802\",\"type\":\"Range1d\"},{\"attributes\":{},\"id\":\"3846\",\"type\":\"AllLabels\"},{\"attributes\":{\"height\":288,\"margin\":[5,5,5,5],\"name\":\"Matplotlib05657\",\"text\":\"&lt;img src=&quot;data:image/png;base64,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&quot; width=&quot;432px&quot; height=&quot;288px&quot; alt=&quot;&quot;&gt;&lt;/img&gt;\",\"width\":432},\"id\":\"3800\",\"type\":\"panel.models.markup.HTML\"},{\"attributes\":{\"end\":6,\"js_property_callbacks\":{\"change:value\":[{\"id\":\"3998\"}]},\"margin\":[0,20,20,20],\"min_width\":250,\"show_value\":false,\"start\":0,\"tooltips\":false,\"value\":0,\"width\":250},\"id\":\"3975\",\"type\":\"Slider\"}],\"root_ids\":[\"3795\",\"4039\"]},\"title\":\"Bokeh Application\",\"version\":\"2.3.2\"}};\n",
       "    var render_items = [{\"docid\":\"4ce3790f-2927-41be-acce-7b173965505a\",\"root_ids\":[\"3795\"],\"roots\":{\"3795\":\"816baa03-c2d8-4157-b930-a4d5fe4a9900\"}}];\n",
       "    root.Bokeh.embed.embed_items_notebook(docs_json, render_items);\n",
       "  }\n",
       "  if (root.Bokeh !== undefined && root.Bokeh.Panel !== undefined && ( root['Plotly'] !== undefined)) {\n",
       "    embed_document(root);\n",
       "  } else {\n",
       "    var attempts = 0;\n",
       "    var timer = setInterval(function(root) {\n",
       "      if (root.Bokeh !== undefined && root.Bokeh.Panel !== undefined && (root['Plotly'] !== undefined)) {\n",
       "        clearInterval(timer);\n",
       "        embed_document(root);\n",
       "      } else if (document.readyState == \"complete\") {\n",
       "        attempts++;\n",
       "        if (attempts > 200) {\n",
       "          clearInterval(timer);\n",
       "          console.log(\"Bokeh: ERROR: Unable to run BokehJS code because BokehJS library is missing\");\n",
       "        }\n",
       "      }\n",
       "    }, 25, root)\n",
       "  }\n",
       "})(window);</script>"
      ],
      "text/plain": [
       "Tabs\n",
       "    [0] Column\n",
       "        [0] Markdown(str)\n",
       "        [1] Matplotlib(Figure)\n",
       "        [2] Matplotlib(Figure)\n",
       "        [3] Matplotlib(Figure)\n",
       "        [4] Row\n",
       "            [0] HoloViews(DynamicMap)\n",
       "            [1] Column\n",
       "                [0] WidgetBox\n",
       "                    [0] Select(margin=(20, 20, 20, 20), name='neighborhood', options=['Alamo Square', ...], value='Alamo Square', width=250)\n",
       "                [1] VSpacer()\n",
       "    [1] Column\n",
       "        [0] Markdown(str)\n",
       "        [1] Row\n",
       "            [0] HoloViews(DynamicMap)\n",
       "            [1] Column\n",
       "                [0] WidgetBox\n",
       "                    [0] DiscreteSlider(formatter='%d', margin=(20, 20, 20, 20), name='year', options=OrderedDict([('2010', ...]), value=2010, width=250)\n",
       "                [1] VSpacer()"
      ]
     },
     "execution_count": 105,
     "metadata": {
      "application/vnd.holoviews_exec.v0+json": {
       "id": "3795"
      }
     },
     "output_type": "execute_result"
    }
   ],
   "source": [
    "SF_dashboard.servable()"
   ]
  },
  {
   "cell_type": "markdown",
   "metadata": {},
   "source": [
    "## Serve the Panel Dashboard"
   ]
  },
  {
   "cell_type": "markdown",
   "metadata": {},
   "source": [
    "# Debugging\n",
    "\n",
    "Note: Some of the Plotly express plots may not render in the notebook through the panel functions.\n",
    "\n",
    "However, you can test each plot by uncommenting the following code"
   ]
  },
  {
   "cell_type": "code",
   "execution_count": 106,
   "metadata": {},
   "outputs": [
    {
     "data": {},
     "metadata": {},
     "output_type": "display_data"
    },
    {
     "data": {
      "application/vnd.holoviews_exec.v0+json": "",
      "text/html": [
       "<div id='4140'>\n",
       "\n",
       "\n",
       "\n",
       "\n",
       "\n",
       "  <div class=\"bk-root\" id=\"19e7700d-eef3-416c-8e3a-115750203850\" data-root-id=\"4140\"></div>\n",
       "</div>\n",
       "<script type=\"application/javascript\">(function(root) {\n",
       "  function embed_document(root) {\n",
       "    var docs_json = {\"41e8caf3-235f-4cd5-b47a-fd5cae7aa1d4\":{\"defs\":[{\"extends\":null,\"module\":null,\"name\":\"ReactiveHTML1\",\"overrides\":[],\"properties\":[]},{\"extends\":null,\"module\":null,\"name\":\"FlexBox1\",\"overrides\":[],\"properties\":[{\"default\":\"flex-start\",\"kind\":null,\"name\":\"align_content\"},{\"default\":\"flex-start\",\"kind\":null,\"name\":\"align_items\"},{\"default\":\"row\",\"kind\":null,\"name\":\"flex_direction\"},{\"default\":\"wrap\",\"kind\":null,\"name\":\"flex_wrap\"},{\"default\":\"flex-start\",\"kind\":null,\"name\":\"justify_content\"}]},{\"extends\":null,\"module\":null,\"name\":\"TemplateActions1\",\"overrides\":[],\"properties\":[{\"default\":0,\"kind\":null,\"name\":\"open_modal\"},{\"default\":0,\"kind\":null,\"name\":\"close_modal\"}]},{\"extends\":null,\"module\":null,\"name\":\"MaterialTemplateActions1\",\"overrides\":[],\"properties\":[{\"default\":0,\"kind\":null,\"name\":\"open_modal\"},{\"default\":0,\"kind\":null,\"name\":\"close_modal\"}]}],\"roots\":{\"references\":[{\"attributes\":{\"client_comm_id\":\"76ebc74028d144e1aec996d6b25faf1c\",\"comm_id\":\"e90592bd0eec48aa85441a1b7e37ed3c\",\"plot_id\":\"4140\"},\"id\":\"4141\",\"type\":\"panel.models.comm_manager.CommManager\"},{\"attributes\":{\"height\":288,\"margin\":[5,5,5,5],\"name\":\"Matplotlib06142\",\"text\":\"&lt;img src=&quot;data:image/png;base64,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&quot; width=&quot;432px&quot; height=&quot;288px&quot; alt=&quot;&quot;&gt;&lt;/img&gt;\",\"width\":432},\"id\":\"4140\",\"type\":\"panel.models.markup.HTML\"}],\"root_ids\":[\"4140\",\"4141\"]},\"title\":\"Bokeh Application\",\"version\":\"2.3.2\"}};\n",
       "    var render_items = [{\"docid\":\"41e8caf3-235f-4cd5-b47a-fd5cae7aa1d4\",\"root_ids\":[\"4140\"],\"roots\":{\"4140\":\"19e7700d-eef3-416c-8e3a-115750203850\"}}];\n",
       "    root.Bokeh.embed.embed_items_notebook(docs_json, render_items);\n",
       "  }\n",
       "  if (root.Bokeh !== undefined && root.Bokeh.Panel !== undefined && ( root['Plotly'] !== undefined)) {\n",
       "    embed_document(root);\n",
       "  } else {\n",
       "    var attempts = 0;\n",
       "    var timer = setInterval(function(root) {\n",
       "      if (root.Bokeh !== undefined && root.Bokeh.Panel !== undefined && (root['Plotly'] !== undefined)) {\n",
       "        clearInterval(timer);\n",
       "        embed_document(root);\n",
       "      } else if (document.readyState == \"complete\") {\n",
       "        attempts++;\n",
       "        if (attempts > 200) {\n",
       "          clearInterval(timer);\n",
       "          console.log(\"Bokeh: ERROR: Unable to run BokehJS code because BokehJS library is missing\");\n",
       "        }\n",
       "      }\n",
       "    }, 25, root)\n",
       "  }\n",
       "})(window);</script>"
      ],
      "text/plain": [
       "Matplotlib(Figure)"
      ]
     },
     "execution_count": 106,
     "metadata": {
      "application/vnd.holoviews_exec.v0+json": {
       "id": "4140"
      }
     },
     "output_type": "execute_result"
    }
   ],
   "source": [
    "housing_units_per_year()"
   ]
  },
  {
   "cell_type": "code",
   "execution_count": 107,
   "metadata": {},
   "outputs": [
    {
     "data": {},
     "metadata": {},
     "output_type": "display_data"
    },
    {
     "data": {
      "application/vnd.holoviews_exec.v0+json": "",
      "text/html": [
       "<div id='4142'>\n",
       "\n",
       "\n",
       "\n",
       "\n",
       "\n",
       "  <div class=\"bk-root\" id=\"7f8e6262-6022-4c09-ad1a-7eb367842632\" data-root-id=\"4142\"></div>\n",
       "</div>\n",
       "<script type=\"application/javascript\">(function(root) {\n",
       "  function embed_document(root) {\n",
       "    var docs_json = {\"cb1335be-256d-4315-b43a-21c16fc8045d\":{\"defs\":[{\"extends\":null,\"module\":null,\"name\":\"ReactiveHTML1\",\"overrides\":[],\"properties\":[]},{\"extends\":null,\"module\":null,\"name\":\"FlexBox1\",\"overrides\":[],\"properties\":[{\"default\":\"flex-start\",\"kind\":null,\"name\":\"align_content\"},{\"default\":\"flex-start\",\"kind\":null,\"name\":\"align_items\"},{\"default\":\"row\",\"kind\":null,\"name\":\"flex_direction\"},{\"default\":\"wrap\",\"kind\":null,\"name\":\"flex_wrap\"},{\"default\":\"flex-start\",\"kind\":null,\"name\":\"justify_content\"}]},{\"extends\":null,\"module\":null,\"name\":\"TemplateActions1\",\"overrides\":[],\"properties\":[{\"default\":0,\"kind\":null,\"name\":\"open_modal\"},{\"default\":0,\"kind\":null,\"name\":\"close_modal\"}]},{\"extends\":null,\"module\":null,\"name\":\"MaterialTemplateActions1\",\"overrides\":[],\"properties\":[{\"default\":0,\"kind\":null,\"name\":\"open_modal\"},{\"default\":0,\"kind\":null,\"name\":\"close_modal\"}]}],\"roots\":{\"references\":[{\"attributes\":{\"client_comm_id\":\"50a3451ffcea46629473b1b123f85c67\",\"comm_id\":\"4f38bd6ec6e642aabc193d06aaaf10e1\",\"plot_id\":\"4142\"},\"id\":\"4143\",\"type\":\"panel.models.comm_manager.CommManager\"},{\"attributes\":{\"height\":288,\"margin\":[5,5,5,5],\"name\":\"Matplotlib06146\",\"text\":\"&lt;img src=&quot;data:image/png;base64,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&quot; width=&quot;432px&quot; height=&quot;288px&quot; alt=&quot;&quot;&gt;&lt;/img&gt;\",\"width\":432},\"id\":\"4142\",\"type\":\"panel.models.markup.HTML\"}],\"root_ids\":[\"4142\",\"4143\"]},\"title\":\"Bokeh Application\",\"version\":\"2.3.2\"}};\n",
       "    var render_items = [{\"docid\":\"cb1335be-256d-4315-b43a-21c16fc8045d\",\"root_ids\":[\"4142\"],\"roots\":{\"4142\":\"7f8e6262-6022-4c09-ad1a-7eb367842632\"}}];\n",
       "    root.Bokeh.embed.embed_items_notebook(docs_json, render_items);\n",
       "  }\n",
       "  if (root.Bokeh !== undefined && root.Bokeh.Panel !== undefined && ( root['Plotly'] !== undefined)) {\n",
       "    embed_document(root);\n",
       "  } else {\n",
       "    var attempts = 0;\n",
       "    var timer = setInterval(function(root) {\n",
       "      if (root.Bokeh !== undefined && root.Bokeh.Panel !== undefined && (root['Plotly'] !== undefined)) {\n",
       "        clearInterval(timer);\n",
       "        embed_document(root);\n",
       "      } else if (document.readyState == \"complete\") {\n",
       "        attempts++;\n",
       "        if (attempts > 200) {\n",
       "          clearInterval(timer);\n",
       "          console.log(\"Bokeh: ERROR: Unable to run BokehJS code because BokehJS library is missing\");\n",
       "        }\n",
       "      }\n",
       "    }, 25, root)\n",
       "  }\n",
       "})(window);</script>"
      ],
      "text/plain": [
       "Matplotlib(Figure)"
      ]
     },
     "execution_count": 107,
     "metadata": {
      "application/vnd.holoviews_exec.v0+json": {
       "id": "4142"
      }
     },
     "output_type": "execute_result"
    }
   ],
   "source": [
    "average_gross_rent()"
   ]
  },
  {
   "cell_type": "code",
   "execution_count": 108,
   "metadata": {},
   "outputs": [
    {
     "data": {},
     "metadata": {},
     "output_type": "display_data"
    },
    {
     "data": {
      "application/vnd.holoviews_exec.v0+json": "",
      "text/html": [
       "<div id='4144'>\n",
       "\n",
       "\n",
       "\n",
       "\n",
       "\n",
       "  <div class=\"bk-root\" id=\"ba1b3cee-c638-4d4e-abf7-07d0e74c19c6\" data-root-id=\"4144\"></div>\n",
       "</div>\n",
       "<script type=\"application/javascript\">(function(root) {\n",
       "  function embed_document(root) {\n",
       "    var docs_json = {\"8fb0a863-4630-4d4b-a3e8-8091fcbde99f\":{\"defs\":[{\"extends\":null,\"module\":null,\"name\":\"ReactiveHTML1\",\"overrides\":[],\"properties\":[]},{\"extends\":null,\"module\":null,\"name\":\"FlexBox1\",\"overrides\":[],\"properties\":[{\"default\":\"flex-start\",\"kind\":null,\"name\":\"align_content\"},{\"default\":\"flex-start\",\"kind\":null,\"name\":\"align_items\"},{\"default\":\"row\",\"kind\":null,\"name\":\"flex_direction\"},{\"default\":\"wrap\",\"kind\":null,\"name\":\"flex_wrap\"},{\"default\":\"flex-start\",\"kind\":null,\"name\":\"justify_content\"}]},{\"extends\":null,\"module\":null,\"name\":\"TemplateActions1\",\"overrides\":[],\"properties\":[{\"default\":0,\"kind\":null,\"name\":\"open_modal\"},{\"default\":0,\"kind\":null,\"name\":\"close_modal\"}]},{\"extends\":null,\"module\":null,\"name\":\"MaterialTemplateActions1\",\"overrides\":[],\"properties\":[{\"default\":0,\"kind\":null,\"name\":\"open_modal\"},{\"default\":0,\"kind\":null,\"name\":\"close_modal\"}]}],\"roots\":{\"references\":[{\"attributes\":{\"client_comm_id\":\"756de2ebdfa349b9a0c435c2d01853d3\",\"comm_id\":\"b7c2b334d10a444a94f74622caae3295\",\"plot_id\":\"4144\"},\"id\":\"4145\",\"type\":\"panel.models.comm_manager.CommManager\"},{\"attributes\":{\"height\":288,\"margin\":[5,5,5,5],\"name\":\"Matplotlib06150\",\"text\":\"&lt;img src=&quot;data:image/png;base64,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&quot; width=&quot;432px&quot; height=&quot;288px&quot; alt=&quot;&quot;&gt;&lt;/img&gt;\",\"width\":432},\"id\":\"4144\",\"type\":\"panel.models.markup.HTML\"}],\"root_ids\":[\"4144\",\"4145\"]},\"title\":\"Bokeh Application\",\"version\":\"2.3.2\"}};\n",
       "    var render_items = [{\"docid\":\"8fb0a863-4630-4d4b-a3e8-8091fcbde99f\",\"root_ids\":[\"4144\"],\"roots\":{\"4144\":\"ba1b3cee-c638-4d4e-abf7-07d0e74c19c6\"}}];\n",
       "    root.Bokeh.embed.embed_items_notebook(docs_json, render_items);\n",
       "  }\n",
       "  if (root.Bokeh !== undefined && root.Bokeh.Panel !== undefined && ( root['Plotly'] !== undefined)) {\n",
       "    embed_document(root);\n",
       "  } else {\n",
       "    var attempts = 0;\n",
       "    var timer = setInterval(function(root) {\n",
       "      if (root.Bokeh !== undefined && root.Bokeh.Panel !== undefined && (root['Plotly'] !== undefined)) {\n",
       "        clearInterval(timer);\n",
       "        embed_document(root);\n",
       "      } else if (document.readyState == \"complete\") {\n",
       "        attempts++;\n",
       "        if (attempts > 200) {\n",
       "          clearInterval(timer);\n",
       "          console.log(\"Bokeh: ERROR: Unable to run BokehJS code because BokehJS library is missing\");\n",
       "        }\n",
       "      }\n",
       "    }, 25, root)\n",
       "  }\n",
       "})(window);</script>"
      ],
      "text/plain": [
       "Matplotlib(Figure)"
      ]
     },
     "execution_count": 108,
     "metadata": {
      "application/vnd.holoviews_exec.v0+json": {
       "id": "4144"
      }
     },
     "output_type": "execute_result"
    }
   ],
   "source": [
    "average_sales_price()"
   ]
  },
  {
   "cell_type": "code",
   "execution_count": 109,
   "metadata": {},
   "outputs": [
    {
     "data": {},
     "metadata": {},
     "output_type": "display_data"
    },
    {
     "data": {
      "application/vnd.holoviews_exec.v0+json": "",
      "text/html": [
       "<div id='4146'>\n",
       "\n",
       "\n",
       "\n",
       "\n",
       "\n",
       "  <div class=\"bk-root\" id=\"4fc0b640-1f58-405a-8b9d-9c0cc4411e20\" data-root-id=\"4146\"></div>\n",
       "</div>\n",
       "<script type=\"application/javascript\">(function(root) {\n",
       "  function embed_document(root) {\n",
       "    var docs_json = {\"ff3e5a86-b6e3-4e05-abf8-ae69175f598f\":{\"defs\":[{\"extends\":null,\"module\":null,\"name\":\"ReactiveHTML1\",\"overrides\":[],\"properties\":[]},{\"extends\":null,\"module\":null,\"name\":\"FlexBox1\",\"overrides\":[],\"properties\":[{\"default\":\"flex-start\",\"kind\":null,\"name\":\"align_content\"},{\"default\":\"flex-start\",\"kind\":null,\"name\":\"align_items\"},{\"default\":\"row\",\"kind\":null,\"name\":\"flex_direction\"},{\"default\":\"wrap\",\"kind\":null,\"name\":\"flex_wrap\"},{\"default\":\"flex-start\",\"kind\":null,\"name\":\"justify_content\"}]},{\"extends\":null,\"module\":null,\"name\":\"TemplateActions1\",\"overrides\":[],\"properties\":[{\"default\":0,\"kind\":null,\"name\":\"open_modal\"},{\"default\":0,\"kind\":null,\"name\":\"close_modal\"}]},{\"extends\":null,\"module\":null,\"name\":\"MaterialTemplateActions1\",\"overrides\":[],\"properties\":[{\"default\":0,\"kind\":null,\"name\":\"open_modal\"},{\"default\":0,\"kind\":null,\"name\":\"close_modal\"}]}],\"roots\":{\"references\":[{\"attributes\":{\"margin\":[5,5,5,5],\"name\":\"VSpacer06184\",\"sizing_mode\":\"stretch_height\"},\"id\":\"4227\",\"type\":\"Spacer\"},{\"attributes\":{},\"id\":\"4169\",\"type\":\"PanTool\"},{\"attributes\":{\"line_color\":\"#30a2da\",\"line_width\":2,\"x\":{\"field\":\"year\"},\"y\":{\"field\":\"sale_price_sqr_foot\"}},\"id\":\"4189\",\"type\":\"Line\"},{\"attributes\":{},\"id\":\"4170\",\"type\":\"WheelZoomTool\"},{\"attributes\":{\"active_multi\":null,\"tools\":[{\"id\":\"4150\"},{\"id\":\"4168\"},{\"id\":\"4169\"},{\"id\":\"4170\"},{\"id\":\"4171\"},{\"id\":\"4172\"}]},\"id\":\"4174\",\"type\":\"Toolbar\"},{\"attributes\":{},\"id\":\"4158\",\"type\":\"LinearScale\"},{\"attributes\":{\"callback\":null,\"renderers\":[{\"id\":\"4187\"}],\"tags\":[\"hv_created\"],\"tooltips\":[[\"year\",\"@{year}\"],[\"sale_price_sqr_foot\",\"@{sale_price_sqr_foot}\"]]},\"id\":\"4150\",\"type\":\"HoverTool\"},{\"attributes\":{\"overlay\":{\"id\":\"4173\"}},\"id\":\"4171\",\"type\":\"BoxZoomTool\"},{\"attributes\":{},\"id\":\"4192\",\"type\":\"AllLabels\"},{\"attributes\":{},\"id\":\"4156\",\"type\":\"LinearScale\"},{\"attributes\":{},\"id\":\"4190\",\"type\":\"BasicTickFormatter\"},{\"attributes\":{\"margin\":[20,20,20,20],\"min_width\":250,\"options\":[\"Alamo Square\",\"Anza Vista\",\"Bayview\",\"Buena Vista Park\",\"Central Richmond\",\"Central Sunset\",\"Corona Heights\",\"Cow Hollow\",\"Croker Amazon\",\"Diamond Heights\",\"Downtown \",\"Eureka Valley/Dolores Heights\",\"Excelsior\",\"Financial District North\",\"Financial District South\",\"Forest Knolls\",\"Glen Park\",\"Golden Gate Heights\",\"Haight Ashbury\",\"Hayes Valley\",\"Hunters Point\",\"Ingleside \",\"Inner Mission\",\"Inner Parkside\",\"Inner Richmond\",\"Inner Sunset\",\"Jordan Park/Laurel Heights\",\"Lake --The Presidio\",\"Lone Mountain\",\"Lower Pacific Heights\",\"Marina\",\"Miraloma Park\",\"Mission Bay\",\"Mission Dolores\",\"Mission Terrace\",\"Nob Hill\",\"Noe Valley\",\"Oceanview\",\"Outer Parkside\",\"Outer Richmond \",\"Outer Sunset\",\"Pacific Heights\",\"Park North\",\"Parkside\",\"Parnassus/Ashbury Heights\",\"Portola\",\"Potrero Hill\",\"Presidio Heights\",\"Russian Hill\",\"South Beach\",\"South of Market\",\"Sunnyside\",\"Telegraph Hill\",\"Twin Peaks\",\"Union Square District\",\"Van Ness/ Civic Center\",\"West Portal\",\"Western Addition\",\"Yerba Buena\",\"Bernal Heights \",\"Clarendon Heights\",\"Duboce Triangle\",\"Ingleside Heights\",\"North Beach\",\"North Waterfront\",\"Outer Mission\",\"Westwood Highlands\",\"Merced Heights\",\"Midtown Terrace\",\"Visitacion Valley\",\"Silver Terrace\",\"Westwood Park\",\"Bayview Heights\"],\"title\":\"neighborhood\",\"value\":\"Alamo Square\",\"width\":250},\"id\":\"4226\",\"type\":\"Select\"},{\"attributes\":{},\"id\":\"4193\",\"type\":\"BasicTickFormatter\"},{\"attributes\":{},\"id\":\"4195\",\"type\":\"AllLabels\"},{\"attributes\":{\"line_color\":\"#30a2da\",\"line_width\":2,\"x\":{\"field\":\"year\"},\"y\":{\"field\":\"sale_price_sqr_foot\"}},\"id\":\"4184\",\"type\":\"Line\"},{\"attributes\":{\"end\":2016.0,\"reset_end\":2016.0,\"reset_start\":2010.0,\"start\":2010.0,\"tags\":[[[\"year\",\"year\",null]]]},\"id\":\"4148\",\"type\":\"Range1d\"},{\"attributes\":{},\"id\":\"4172\",\"type\":\"ResetTool\"},{\"attributes\":{},\"id\":\"4168\",\"type\":\"SaveTool\"},{\"attributes\":{\"axis\":{\"id\":\"4164\"},\"dimension\":1,\"grid_line_color\":null,\"ticker\":null},\"id\":\"4167\",\"type\":\"Grid\"},{\"attributes\":{\"text\":\"neighborhood: Alamo Square\",\"text_color\":\"black\",\"text_font_size\":\"12pt\"},\"id\":\"4152\",\"type\":\"Title\"},{\"attributes\":{},\"id\":\"4161\",\"type\":\"BasicTicker\"},{\"attributes\":{\"axis\":{\"id\":\"4160\"},\"grid_line_color\":null,\"ticker\":null},\"id\":\"4163\",\"type\":\"Grid\"},{\"attributes\":{\"children\":[{\"id\":\"4224\"},{\"id\":\"4225\"},{\"id\":\"4227\"}],\"margin\":[0,0,0,0],\"name\":\"Column06185\"},\"id\":\"4223\",\"type\":\"Column\"},{\"attributes\":{\"children\":[{\"id\":\"4226\"}],\"css_classes\":[\"panel-widget-box\"],\"margin\":[5,5,5,5],\"name\":\"WidgetBox06178\"},\"id\":\"4225\",\"type\":\"Column\"},{\"attributes\":{\"children\":[{\"id\":\"4147\"},{\"id\":\"4151\"},{\"id\":\"4222\"},{\"id\":\"4223\"}],\"margin\":[0,0,0,0],\"name\":\"Row06177\"},\"id\":\"4146\",\"type\":\"Row\"},{\"attributes\":{},\"id\":\"4165\",\"type\":\"BasicTicker\"},{\"attributes\":{\"axis_label\":\"sale_price_sqr_foot\",\"formatter\":{\"id\":\"4193\"},\"major_label_policy\":{\"id\":\"4195\"},\"ticker\":{\"id\":\"4165\"}},\"id\":\"4164\",\"type\":\"LinearAxis\"},{\"attributes\":{\"axis_label\":\"year\",\"formatter\":{\"id\":\"4190\"},\"major_label_policy\":{\"id\":\"4192\"},\"ticker\":{\"id\":\"4161\"}},\"id\":\"4160\",\"type\":\"LinearAxis\"},{\"attributes\":{\"margin\":[5,5,5,5],\"name\":\"VSpacer06183\",\"sizing_mode\":\"stretch_height\"},\"id\":\"4224\",\"type\":\"Spacer\"},{\"attributes\":{\"margin\":[5,5,5,5],\"name\":\"HSpacer06186\",\"sizing_mode\":\"stretch_width\"},\"id\":\"4147\",\"type\":\"Spacer\"},{\"attributes\":{\"end\":644.0175329447045,\"reset_end\":644.0175329447045,\"reset_start\":141.1976609302527,\"start\":141.1976609302527,\"tags\":[[[\"sale_price_sqr_foot\",\"sale_price_sqr_foot\",null]]]},\"id\":\"4149\",\"type\":\"Range1d\"},{\"attributes\":{\"line_alpha\":0.1,\"line_color\":\"#30a2da\",\"line_width\":2,\"x\":{\"field\":\"year\"},\"y\":{\"field\":\"sale_price_sqr_foot\"}},\"id\":\"4185\",\"type\":\"Line\"},{\"attributes\":{\"bottom_units\":\"screen\",\"fill_alpha\":0.5,\"fill_color\":\"lightgrey\",\"left_units\":\"screen\",\"level\":\"overlay\",\"line_alpha\":1.0,\"line_color\":\"black\",\"line_dash\":[4,4],\"line_width\":2,\"right_units\":\"screen\",\"syncable\":false,\"top_units\":\"screen\"},\"id\":\"4173\",\"type\":\"BoxAnnotation\"},{\"attributes\":{\"line_alpha\":0.2,\"line_color\":\"#30a2da\",\"line_width\":2,\"x\":{\"field\":\"year\"},\"y\":{\"field\":\"sale_price_sqr_foot\"}},\"id\":\"4186\",\"type\":\"Line\"},{\"attributes\":{\"client_comm_id\":\"3aace9527a7b40b4b502df56e101a807\",\"comm_id\":\"1f2c10dabec04a518631b258acee7202\",\"plot_id\":\"4146\"},\"id\":\"4258\",\"type\":\"panel.models.comm_manager.CommManager\"},{\"attributes\":{\"data_source\":{\"id\":\"4181\"},\"glyph\":{\"id\":\"4184\"},\"hover_glyph\":null,\"muted_glyph\":{\"id\":\"4186\"},\"nonselection_glyph\":{\"id\":\"4185\"},\"selection_glyph\":{\"id\":\"4189\"},\"view\":{\"id\":\"4188\"}},\"id\":\"4187\",\"type\":\"GlyphRenderer\"},{\"attributes\":{\"margin\":[5,5,5,5],\"name\":\"HSpacer06187\",\"sizing_mode\":\"stretch_width\"},\"id\":\"4222\",\"type\":\"Spacer\"},{\"attributes\":{\"source\":{\"id\":\"4181\"}},\"id\":\"4188\",\"type\":\"CDSView\"},{\"attributes\":{},\"id\":\"4210\",\"type\":\"UnionRenderers\"},{\"attributes\":{\"data\":{\"sale_price_sqr_foot\":{\"__ndarray__\":\"Dkc7WO0yckCafszcbwhxQIGRs5ot42ZAJzog0LQ8eEAWMinKGEd+QI0V5FDt0IJAVCHcmLVPdUA=\",\"dtype\":\"float64\",\"order\":\"little\",\"shape\":[7]},\"year\":[2010,2011,2012,2013,2014,2015,2016]},\"selected\":{\"id\":\"4182\"},\"selection_policy\":{\"id\":\"4210\"}},\"id\":\"4181\",\"type\":\"ColumnDataSource\"},{\"attributes\":{},\"id\":\"4182\",\"type\":\"Selection\"},{\"attributes\":{\"below\":[{\"id\":\"4160\"}],\"center\":[{\"id\":\"4163\"},{\"id\":\"4167\"}],\"height\":300,\"left\":[{\"id\":\"4164\"}],\"margin\":[5,5,5,5],\"min_border_bottom\":10,\"min_border_left\":10,\"min_border_right\":10,\"min_border_top\":10,\"renderers\":[{\"id\":\"4187\"}],\"sizing_mode\":\"fixed\",\"title\":{\"id\":\"4152\"},\"toolbar\":{\"id\":\"4174\"},\"width\":700,\"x_range\":{\"id\":\"4148\"},\"x_scale\":{\"id\":\"4156\"},\"y_range\":{\"id\":\"4149\"},\"y_scale\":{\"id\":\"4158\"}},\"id\":\"4151\",\"subtype\":\"Figure\",\"type\":\"Plot\"}],\"root_ids\":[\"4146\",\"4258\"]},\"title\":\"Bokeh Application\",\"version\":\"2.3.2\"}};\n",
       "    var render_items = [{\"docid\":\"ff3e5a86-b6e3-4e05-abf8-ae69175f598f\",\"root_ids\":[\"4146\"],\"roots\":{\"4146\":\"4fc0b640-1f58-405a-8b9d-9c0cc4411e20\"}}];\n",
       "    root.Bokeh.embed.embed_items_notebook(docs_json, render_items);\n",
       "  }\n",
       "  if (root.Bokeh !== undefined && root.Bokeh.Panel !== undefined && ( root['Plotly'] !== undefined)) {\n",
       "    embed_document(root);\n",
       "  } else {\n",
       "    var attempts = 0;\n",
       "    var timer = setInterval(function(root) {\n",
       "      if (root.Bokeh !== undefined && root.Bokeh.Panel !== undefined && (root['Plotly'] !== undefined)) {\n",
       "        clearInterval(timer);\n",
       "        embed_document(root);\n",
       "      } else if (document.readyState == \"complete\") {\n",
       "        attempts++;\n",
       "        if (attempts > 200) {\n",
       "          clearInterval(timer);\n",
       "          console.log(\"Bokeh: ERROR: Unable to run BokehJS code because BokehJS library is missing\");\n",
       "        }\n",
       "      }\n",
       "    }, 25, root)\n",
       "  }\n",
       "})(window);</script>"
      ],
      "text/plain": [
       ":DynamicMap   [neighborhood]\n",
       "   :Curve   [year]   (sale_price_sqr_foot)"
      ]
     },
     "execution_count": 109,
     "metadata": {
      "application/vnd.holoviews_exec.v0+json": {
       "id": "4146"
      }
     },
     "output_type": "execute_result"
    }
   ],
   "source": [
    "average_price_by_neighborhood()"
   ]
  },
  {
   "cell_type": "code",
   "execution_count": 110,
   "metadata": {},
   "outputs": [
    {
     "data": {},
     "metadata": {},
     "output_type": "display_data"
    },
    {
     "data": {
      "application/vnd.holoviews_exec.v0+json": "",
      "text/html": [
       "<div id='4309'>\n",
       "\n",
       "\n",
       "\n",
       "\n",
       "\n",
       "  <div class=\"bk-root\" id=\"7c733680-04ac-40a7-842a-8fc71929f9d4\" data-root-id=\"4309\"></div>\n",
       "</div>\n",
       "<script type=\"application/javascript\">(function(root) {\n",
       "  function embed_document(root) {\n",
       "    var docs_json = {\"3f6ea78f-8d0c-45ea-b39d-4e8bda67f674\":{\"defs\":[{\"extends\":null,\"module\":null,\"name\":\"ReactiveHTML1\",\"overrides\":[],\"properties\":[]},{\"extends\":null,\"module\":null,\"name\":\"FlexBox1\",\"overrides\":[],\"properties\":[{\"default\":\"flex-start\",\"kind\":null,\"name\":\"align_content\"},{\"default\":\"flex-start\",\"kind\":null,\"name\":\"align_items\"},{\"default\":\"row\",\"kind\":null,\"name\":\"flex_direction\"},{\"default\":\"wrap\",\"kind\":null,\"name\":\"flex_wrap\"},{\"default\":\"flex-start\",\"kind\":null,\"name\":\"justify_content\"}]},{\"extends\":null,\"module\":null,\"name\":\"TemplateActions1\",\"overrides\":[],\"properties\":[{\"default\":0,\"kind\":null,\"name\":\"open_modal\"},{\"default\":0,\"kind\":null,\"name\":\"close_modal\"}]},{\"extends\":null,\"module\":null,\"name\":\"MaterialTemplateActions1\",\"overrides\":[],\"properties\":[{\"default\":0,\"kind\":null,\"name\":\"open_modal\"},{\"default\":0,\"kind\":null,\"name\":\"close_modal\"}]}],\"roots\":{\"references\":[{\"attributes\":{},\"id\":\"4330\",\"type\":\"SaveTool\"},{\"attributes\":{\"factors\":[\"South Beach\",\"Glen Park\",\"Miraloma Park\",\"Cow Hollow\",\"Union Square District\",\"Golden Gate Heights\",\"Presidio Heights\",\"Sunnyside\",\"Telegraph Hill\",\"Pacific Heights\",\"Potrero Hill\",\"Mission Bay\",\"Diamond Heights\",\"Parnassus/Ashbury Heights\",\"Outer Parkside\",\"Jordan Park/Laurel Heights\",\"Central Sunset\",\"Eureka Valley/Dolores Heights\",\"Financial District North\",\"South of Market\",\"Lone Mountain\",\"West Portal\",\"Marina\",\"Noe Valley\",\"Lower Pacific Heights\",\"Corona Heights\",\"Outer Sunset\",\"Excelsior\",\"Russian Hill\",\"Buena Vista Park\",\"Outer Richmond \",\"Yerba Buena\",\"Twin Peaks\",\"Park North\",\"Lake --The Presidio\",\"Central Richmond\",\"Nob Hill\",\"Portola\",\"Alamo Square\",\"Inner Richmond\",\"Oceanview\",\"Inner Sunset\",\"Ingleside \",\"Parkside\",\"Hayes Valley\",\"Anza Vista\",\"Mission Terrace\",\"Mission Dolores\",\"Haight Ashbury\",\"Downtown \",\"Inner Mission\",\"Western Addition\",\"Forest Knolls\",\"Inner Parkside\",\"Hunters Point\",\"Bayview\",\"Croker Amazon\",\"Financial District South\",\"Van Ness/ Civic Center\"],\"palette\":[\"#440154\",\"#440255\",\"#440357\",\"#450558\",\"#45065a\",\"#45085b\",\"#46095c\",\"#460b5e\",\"#460c5f\",\"#460e61\",\"#470f62\",\"#471163\",\"#471265\",\"#471466\",\"#471567\",\"#471669\",\"#47186a\",\"#48196b\",\"#481a6c\",\"#481c6e\",\"#481d6f\",\"#481e70\",\"#482071\",\"#482172\",\"#482273\",\"#482374\",\"#472575\",\"#472676\",\"#472777\",\"#472878\",\"#472a79\",\"#472b7a\",\"#472c7b\",\"#462d7c\",\"#462f7c\",\"#46307d\",\"#46317e\",\"#45327f\",\"#45347f\",\"#453580\",\"#453681\",\"#443781\",\"#443982\",\"#433a83\",\"#433b83\",\"#433c84\",\"#423d84\",\"#423e85\",\"#424085\",\"#414186\",\"#414286\",\"#404387\",\"#404487\",\"#3f4587\",\"#3f4788\",\"#3e4888\",\"#3e4989\",\"#3d4a89\",\"#3d4b89\"]},\"id\":\"4343\",\"type\":\"CategoricalColorMapper\"},{\"attributes\":{\"data_source\":{\"id\":\"4344\"},\"glyph\":{\"id\":\"4347\"},\"hover_glyph\":{\"id\":\"4350\"},\"muted_glyph\":{\"id\":\"4351\"},\"nonselection_glyph\":{\"id\":\"4348\"},\"selection_glyph\":{\"id\":\"4349\"},\"view\":{\"id\":\"4353\"}},\"id\":\"4352\",\"type\":\"GlyphRenderer\"},{\"attributes\":{},\"id\":\"4331\",\"type\":\"PanTool\"},{\"attributes\":{\"end\":1130.008474840318,\"reset_end\":1130.008474840318,\"reset_start\":0.0,\"tags\":[[[\"sale_price_sqr_foot\",\"sale_price_sqr_foot\",null]]]},\"id\":\"4312\",\"type\":\"Range1d\"},{\"attributes\":{\"fill_alpha\":{\"value\":0.2},\"fill_color\":{\"field\":\"color\",\"transform\":{\"id\":\"4343\"}},\"line_alpha\":{\"value\":0.2},\"top\":{\"field\":\"sale_price_sqr_foot\"},\"width\":{\"value\":0.8},\"x\":{\"field\":\"neighborhood\"}},\"id\":\"4351\",\"type\":\"VBar\"},{\"attributes\":{},\"id\":\"4324\",\"type\":\"CategoricalTicker\"},{\"attributes\":{\"margin\":[5,5,5,5],\"name\":\"VSpacer06448\",\"sizing_mode\":\"stretch_height\"},\"id\":\"4400\",\"type\":\"Spacer\"},{\"attributes\":{},\"id\":\"4332\",\"type\":\"WheelZoomTool\"},{\"attributes\":{\"end\":6,\"js_property_callbacks\":{\"change:value\":[{\"id\":\"4416\"}]},\"margin\":[0,20,20,20],\"min_width\":250,\"show_value\":false,\"start\":0,\"tooltips\":false,\"value\":0,\"width\":250},\"id\":\"4404\",\"type\":\"Slider\"},{\"attributes\":{},\"id\":\"4321\",\"type\":\"LinearScale\"},{\"attributes\":{\"callback\":null,\"renderers\":[{\"id\":\"4352\"}],\"tags\":[\"hv_created\"],\"tooltips\":[[\"neighborhood\",\"@{neighborhood}\"],[\"sale_price_sqr_foot\",\"@{sale_price_sqr_foot}\"]]},\"id\":\"4313\",\"type\":\"HoverTool\"},{\"attributes\":{\"below\":[{\"id\":\"4323\"}],\"center\":[{\"id\":\"4325\"},{\"id\":\"4329\"},{\"id\":\"4364\"}],\"height\":400,\"left\":[{\"id\":\"4326\"}],\"margin\":[5,5,5,5],\"min_border_bottom\":10,\"min_border_left\":10,\"min_border_right\":10,\"min_border_top\":10,\"renderers\":[{\"id\":\"4352\"}],\"right\":[{\"id\":\"4364\"}],\"sizing_mode\":\"fixed\",\"title\":{\"id\":\"4315\"},\"toolbar\":{\"id\":\"4336\"},\"width\":1000,\"x_range\":{\"id\":\"4311\"},\"x_scale\":{\"id\":\"4319\"},\"y_range\":{\"id\":\"4312\"},\"y_scale\":{\"id\":\"4321\"}},\"id\":\"4314\",\"subtype\":\"Figure\",\"type\":\"Plot\"},{\"attributes\":{\"overlay\":{\"id\":\"4335\"}},\"id\":\"4333\",\"type\":\"BoxZoomTool\"},{\"attributes\":{\"margin\":[5,5,5,5],\"name\":\"VSpacer06449\",\"sizing_mode\":\"stretch_height\"},\"id\":\"4405\",\"type\":\"Spacer\"},{\"attributes\":{\"fill_color\":{\"field\":\"color\",\"transform\":{\"id\":\"4343\"}},\"top\":{\"field\":\"sale_price_sqr_foot\"},\"width\":{\"value\":0.8},\"x\":{\"field\":\"neighborhood\"}},\"id\":\"4350\",\"type\":\"VBar\"},{\"attributes\":{\"axis\":{\"id\":\"4326\"},\"dimension\":1,\"grid_line_color\":null,\"ticker\":null},\"id\":\"4329\",\"type\":\"Grid\"},{\"attributes\":{},\"id\":\"4345\",\"type\":\"Selection\"},{\"attributes\":{\"margin\":[5,5,5,5],\"name\":\"HSpacer06451\",\"sizing_mode\":\"stretch_width\"},\"id\":\"4310\",\"type\":\"Spacer\"},{\"attributes\":{\"items\":[{\"id\":\"4365\"}],\"location\":[0,0]},\"id\":\"4364\",\"type\":\"Legend\"},{\"attributes\":{\"fill_color\":{\"field\":\"color\",\"transform\":{\"id\":\"4343\"}},\"top\":{\"field\":\"sale_price_sqr_foot\"},\"width\":{\"value\":0.8},\"x\":{\"field\":\"neighborhood\"}},\"id\":\"4349\",\"type\":\"VBar\"},{\"attributes\":{\"fill_color\":{\"field\":\"color\",\"transform\":{\"id\":\"4343\"}},\"top\":{\"field\":\"sale_price_sqr_foot\"},\"width\":{\"value\":0.8},\"x\":{\"field\":\"neighborhood\"}},\"id\":\"4347\",\"type\":\"VBar\"},{\"attributes\":{},\"id\":\"4355\",\"type\":\"BasicTickFormatter\"},{\"attributes\":{},\"id\":\"4334\",\"type\":\"ResetTool\"},{\"attributes\":{},\"id\":\"4362\",\"type\":\"UnionRenderers\"},{\"attributes\":{\"margin\":[5,5,5,5],\"name\":\"HSpacer06452\",\"sizing_mode\":\"stretch_width\"},\"id\":\"4398\",\"type\":\"Spacer\"},{\"attributes\":{\"children\":[{\"id\":\"4400\"},{\"id\":\"4401\"},{\"id\":\"4405\"}],\"margin\":[0,0,0,0],\"name\":\"Column06450\"},\"id\":\"4399\",\"type\":\"Column\"},{\"attributes\":{\"axis_label\":\"neighborhood\",\"formatter\":{\"id\":\"4358\"},\"major_label_policy\":{\"id\":\"4360\"},\"ticker\":{\"id\":\"4324\"}},\"id\":\"4323\",\"type\":\"CategoricalAxis\"},{\"attributes\":{\"source\":{\"id\":\"4344\"}},\"id\":\"4353\",\"type\":\"CDSView\"},{\"attributes\":{\"factors\":[\"South Beach\",\"Glen Park\",\"Miraloma Park\",\"Cow Hollow\",\"Union Square District\",\"Golden Gate Heights\",\"Presidio Heights\",\"Sunnyside\",\"Telegraph Hill\",\"Pacific Heights\",\"Potrero Hill\",\"Mission Bay\",\"Diamond Heights\",\"Parnassus/Ashbury Heights\",\"Outer Parkside\",\"Jordan Park/Laurel Heights\",\"Central Sunset\",\"Eureka Valley/Dolores Heights\",\"Financial District North\",\"South of Market\",\"Lone Mountain\",\"West Portal\",\"Marina\",\"Noe Valley\",\"Lower Pacific Heights\",\"Corona Heights\",\"Outer Sunset\",\"Excelsior\",\"Russian Hill\",\"Buena Vista Park\",\"Outer Richmond \",\"Yerba Buena\",\"Twin Peaks\",\"Park North\",\"Lake --The Presidio\",\"Central Richmond\",\"Nob Hill\",\"Portola\",\"Alamo Square\",\"Inner Richmond\",\"Oceanview\",\"Inner Sunset\",\"Ingleside \",\"Parkside\",\"Hayes Valley\",\"Anza Vista\",\"Mission Terrace\",\"Mission Dolores\",\"Haight Ashbury\",\"Downtown \",\"Inner Mission\",\"Western Addition\",\"Forest Knolls\",\"Inner Parkside\",\"Hunters Point\",\"Bayview\",\"Croker Amazon\",\"Financial District South\",\"Van Ness/ Civic Center\"],\"tags\":[[[\"neighborhood\",\"neighborhood\",null]]]},\"id\":\"4311\",\"type\":\"FactorRange\"},{\"attributes\":{},\"id\":\"4327\",\"type\":\"BasicTicker\"},{\"attributes\":{\"fill_alpha\":{\"value\":0.1},\"fill_color\":{\"field\":\"color\",\"transform\":{\"id\":\"4343\"}},\"line_alpha\":{\"value\":0.1},\"top\":{\"field\":\"sale_price_sqr_foot\"},\"width\":{\"value\":0.8},\"x\":{\"field\":\"neighborhood\"}},\"id\":\"4348\",\"type\":\"VBar\"},{\"attributes\":{},\"id\":\"4360\",\"type\":\"AllLabels\"},{\"attributes\":{\"args\":{\"bidirectional\":false,\"properties\":{},\"source\":{\"id\":\"4404\"},\"target\":{\"id\":\"4403\"}},\"code\":\"try { \\n    var labels = ['year: <b>2010</b>', 'year: <b>2011</b>', 'year: <b>2012</b>', 'year: <b>2013</b>', 'year: <b>2014</b>', 'year: <b>2015</b>', 'year: <b>2016</b>']\\n    target.text = labels[source.value]\\n     } catch(err) { console.log(err) }\",\"tags\":[140705190478224]},\"id\":\"4416\",\"type\":\"CustomJS\"},{\"attributes\":{\"axis_label\":\"sale_price_sqr_foot\",\"formatter\":{\"id\":\"4355\"},\"major_label_policy\":{\"id\":\"4357\"},\"ticker\":{\"id\":\"4327\"}},\"id\":\"4326\",\"type\":\"LinearAxis\"},{\"attributes\":{\"children\":[{\"id\":\"4403\"},{\"id\":\"4404\"}],\"margin\":[0,0,0,0],\"min_width\":290,\"name\":\"Column06445\",\"width\":290},\"id\":\"4402\",\"type\":\"Column\"},{\"attributes\":{\"children\":[{\"id\":\"4310\"},{\"id\":\"4314\"},{\"id\":\"4398\"},{\"id\":\"4399\"}],\"margin\":[0,0,0,0],\"name\":\"Row06435\"},\"id\":\"4309\",\"type\":\"Row\"},{\"attributes\":{\"text\":\"year: 2010\",\"text_color\":\"black\",\"text_font_size\":\"12pt\"},\"id\":\"4315\",\"type\":\"Title\"},{\"attributes\":{},\"id\":\"4319\",\"type\":\"CategoricalScale\"},{\"attributes\":{\"axis\":{\"id\":\"4323\"},\"grid_line_color\":null,\"ticker\":null},\"id\":\"4325\",\"type\":\"Grid\"},{\"attributes\":{},\"id\":\"4357\",\"type\":\"AllLabels\"},{\"attributes\":{\"bottom_units\":\"screen\",\"fill_alpha\":0.5,\"fill_color\":\"lightgrey\",\"left_units\":\"screen\",\"level\":\"overlay\",\"line_alpha\":1.0,\"line_color\":\"black\",\"line_dash\":[4,4],\"line_width\":2,\"right_units\":\"screen\",\"syncable\":false,\"top_units\":\"screen\"},\"id\":\"4335\",\"type\":\"BoxAnnotation\"},{\"attributes\":{\"label\":{\"field\":\"color\"},\"renderers\":[{\"id\":\"4352\"}]},\"id\":\"4365\",\"type\":\"LegendItem\"},{\"attributes\":{\"data\":{\"color\":[\"South Beach\",\"Glen Park\",\"Miraloma Park\",\"Cow Hollow\",\"Union Square District\",\"Golden Gate Heights\",\"Presidio Heights\",\"Sunnyside\",\"Telegraph Hill\",\"Pacific Heights\",\"Potrero Hill\",\"Mission Bay\",\"Diamond Heights\",\"Parnassus/Ashbury Heights\",\"Outer Parkside\",\"Jordan Park/Laurel Heights\",\"Central Sunset\",\"Eureka Valley/Dolores Heights\",\"Financial District North\",\"South of Market\",\"Lone Mountain\",\"West Portal\",\"Marina\",\"Noe Valley\",\"Lower Pacific Heights\",\"Corona Heights\",\"Outer Sunset\",\"Excelsior\",\"Russian Hill\",\"Buena Vista Park\",\"Outer Richmond \",\"Yerba Buena\",\"Twin Peaks\",\"Park North\",\"Lake --The Presidio\",\"Central Richmond\",\"Nob Hill\",\"Portola\",\"Alamo Square\",\"Inner Richmond\",\"Oceanview\",\"Inner Sunset\",\"Ingleside \",\"Parkside\",\"Hayes Valley\",\"Anza Vista\",\"Mission Terrace\",\"Mission Dolores\",\"Haight Ashbury\",\"Downtown \",\"Inner Mission\",\"Western Addition\",\"Forest Knolls\",\"Inner Parkside\",\"Hunters Point\",\"Bayview\",\"Croker Amazon\",\"Financial District South\",\"Van Ness/ Civic Center\"],\"neighborhood\":[\"South Beach\",\"Glen Park\",\"Miraloma Park\",\"Cow Hollow\",\"Union Square District\",\"Golden Gate Heights\",\"Presidio Heights\",\"Sunnyside\",\"Telegraph Hill\",\"Pacific Heights\",\"Potrero Hill\",\"Mission Bay\",\"Diamond Heights\",\"Parnassus/Ashbury Heights\",\"Outer Parkside\",\"Jordan Park/Laurel Heights\",\"Central Sunset\",\"Eureka Valley/Dolores Heights\",\"Financial District North\",\"South of Market\",\"Lone Mountain\",\"West Portal\",\"Marina\",\"Noe Valley\",\"Lower Pacific Heights\",\"Corona Heights\",\"Outer Sunset\",\"Excelsior\",\"Russian Hill\",\"Buena Vista Park\",\"Outer Richmond \",\"Yerba Buena\",\"Twin Peaks\",\"Park North\",\"Lake --The Presidio\",\"Central Richmond\",\"Nob Hill\",\"Portola\",\"Alamo Square\",\"Inner Richmond\",\"Oceanview\",\"Inner Sunset\",\"Ingleside \",\"Parkside\",\"Hayes Valley\",\"Anza Vista\",\"Mission Terrace\",\"Mission Dolores\",\"Haight Ashbury\",\"Downtown \",\"Inner Mission\",\"Western Addition\",\"Forest Knolls\",\"Inner Parkside\",\"Hunters Point\",\"Bayview\",\"Croker Amazon\",\"Financial District South\",\"Van Ness/ Civic Center\"],\"sale_price_sqr_foot\":{\"__ndarray__\":\"l7v/LmY0kEBoH3UGsVyGQJ7+Ya3eRIVALMKfLArLgUDghzcujMmBQF1Y/LBoPoFA1qRW7FcrgUB/pHziQPSAQAjqSxtZZoBAxNYMmEEIf0CHfz43M7d+QGCfz9PinH5ACCbRpeSOfECDiAR/FCR7QJ1Cn+ofA3tAuuY5ejQ+ekAG/baHwiJ6QE7pzZvkMXlA7AP43P8beUA29tdRvBR5QMM9Wo5X53hAX0cX7s+EeEBTHwwSSTZ4QBkuQhI30ndA76u8E+xgd0Ch/zTZvxV3QL7B/R38BHdArTyLdtrOdkCp6DxTkqV2QPE3ApdRtnVAB35J6gQidUDaEQJEB9J0QFjhNlzluHRAPTKCP0ZgdEDZUjclwAx0QP6gWCRx8HNAnsfa8dY6c0BITY1wf+JyQA5HO1jtMnJArudfYSjdcUCMmJ0r6qFxQHRb9c9QPHFAa4srL+gwcUCM2zn5qiJxQI8su0aPBHFAG/PQ2+u+cEDlSnYzBG5wQI8dqNfOH3BAQH/hMinPb0DpzvjjvjluQEkB/10zy21AgK0qWTbyakC1WnMVlCFqQNfGotB29mhABT/1V/9TZUA89ENEKENlQOHxGNKptGRA0ENLWkdaZED39D/L0wBbQA==\",\"dtype\":\"float64\",\"order\":\"little\",\"shape\":[59]}},\"selected\":{\"id\":\"4345\"},\"selection_policy\":{\"id\":\"4362\"}},\"id\":\"4344\",\"type\":\"ColumnDataSource\"},{\"attributes\":{\"children\":[{\"id\":\"4402\"}],\"css_classes\":[\"panel-widget-box\"],\"margin\":[5,5,5,5],\"name\":\"WidgetBox06436\"},\"id\":\"4401\",\"type\":\"Column\"},{\"attributes\":{\"margin\":[20,0,0,20],\"name\":\"\",\"style\":{\"white-space\":\"nowrap\"},\"text\":\"year: <b>2010</b>\",\"width\":250},\"id\":\"4403\",\"type\":\"Div\"},{\"attributes\":{\"client_comm_id\":\"78e36ba1179d4374ace418b9207ae2fb\",\"comm_id\":\"118fcc4c50454d9cb243647ca626658c\",\"plot_id\":\"4309\"},\"id\":\"4437\",\"type\":\"panel.models.comm_manager.CommManager\"},{\"attributes\":{\"active_multi\":null,\"tools\":[{\"id\":\"4313\"},{\"id\":\"4330\"},{\"id\":\"4331\"},{\"id\":\"4332\"},{\"id\":\"4333\"},{\"id\":\"4334\"}]},\"id\":\"4336\",\"type\":\"Toolbar\"},{\"attributes\":{},\"id\":\"4358\",\"type\":\"CategoricalTickFormatter\"}],\"root_ids\":[\"4309\",\"4437\"]},\"title\":\"Bokeh Application\",\"version\":\"2.3.2\"}};\n",
       "    var render_items = [{\"docid\":\"3f6ea78f-8d0c-45ea-b39d-4e8bda67f674\",\"root_ids\":[\"4309\"],\"roots\":{\"4309\":\"7c733680-04ac-40a7-842a-8fc71929f9d4\"}}];\n",
       "    root.Bokeh.embed.embed_items_notebook(docs_json, render_items);\n",
       "  }\n",
       "  if (root.Bokeh !== undefined && root.Bokeh.Panel !== undefined && ( root['Plotly'] !== undefined)) {\n",
       "    embed_document(root);\n",
       "  } else {\n",
       "    var attempts = 0;\n",
       "    var timer = setInterval(function(root) {\n",
       "      if (root.Bokeh !== undefined && root.Bokeh.Panel !== undefined && (root['Plotly'] !== undefined)) {\n",
       "        clearInterval(timer);\n",
       "        embed_document(root);\n",
       "      } else if (document.readyState == \"complete\") {\n",
       "        attempts++;\n",
       "        if (attempts > 200) {\n",
       "          clearInterval(timer);\n",
       "          console.log(\"Bokeh: ERROR: Unable to run BokehJS code because BokehJS library is missing\");\n",
       "        }\n",
       "      }\n",
       "    }, 25, root)\n",
       "  }\n",
       "})(window);</script>"
      ],
      "text/plain": [
       ":DynamicMap   [year]\n",
       "   :Bars   [neighborhood]   (sale_price_sqr_foot)"
      ]
     },
     "execution_count": 110,
     "metadata": {
      "application/vnd.holoviews_exec.v0+json": {
       "id": "4309"
      }
     },
     "output_type": "execute_result"
    }
   ],
   "source": [
    "top_most_expensive_neighborhoods()"
   ]
  },
  {
   "cell_type": "code",
   "execution_count": 111,
   "metadata": {},
   "outputs": [
    {
     "data": {
      "application/vnd.plotly.v1+json": {
       "config": {
        "plotlyServerURL": "https://plot.ly"
       },
       "data": [
        {
         "alignmentgroup": "True",
         "hovertemplate": "neighborhood=%{x}<br>sale_price_sqr_foot=%{y}<extra></extra>",
         "legendgroup": "",
         "marker": {
          "color": "#636efa",
          "pattern": {
           "shape": ""
          }
         },
         "name": "",
         "offsetgroup": "",
         "orientation": "v",
         "showlegend": false,
         "textposition": "auto",
         "type": "bar",
         "x": [
          "Union Square District",
          "Merced Heights",
          "Miraloma Park",
          "Pacific Heights",
          "Westwood Park",
          "Telegraph Hill",
          "Presidio Heights",
          "Cow Hollow",
          "Potrero Hill",
          "South Beach"
         ],
         "xaxis": "x",
         "y": [
          903.9932576720645,
          788.8448175872469,
          779.810842264425,
          689.5558168113664,
          687.0875745178323,
          676.5065775293257,
          675.3502120510033,
          665.964041578323,
          662.0136128276529,
          650.1244791945729
         ],
         "yaxis": "y"
        }
       ],
       "layout": {
        "autosize": true,
        "barmode": "relative",
        "legend": {
         "tracegroupgap": 0
        },
        "template": {
         "data": {
          "bar": [
           {
            "error_x": {
             "color": "#2a3f5f"
            },
            "error_y": {
             "color": "#2a3f5f"
            },
            "marker": {
             "line": {
              "color": "#E5ECF6",
              "width": 0.5
             },
             "pattern": {
              "fillmode": "overlay",
              "size": 10,
              "solidity": 0.2
             }
            },
            "type": "bar"
           }
          ],
          "barpolar": [
           {
            "marker": {
             "line": {
              "color": "#E5ECF6",
              "width": 0.5
             },
             "pattern": {
              "fillmode": "overlay",
              "size": 10,
              "solidity": 0.2
             }
            },
            "type": "barpolar"
           }
          ],
          "carpet": [
           {
            "aaxis": {
             "endlinecolor": "#2a3f5f",
             "gridcolor": "white",
             "linecolor": "white",
             "minorgridcolor": "white",
             "startlinecolor": "#2a3f5f"
            },
            "baxis": {
             "endlinecolor": "#2a3f5f",
             "gridcolor": "white",
             "linecolor": "white",
             "minorgridcolor": "white",
             "startlinecolor": "#2a3f5f"
            },
            "type": "carpet"
           }
          ],
          "choropleth": [
           {
            "colorbar": {
             "outlinewidth": 0,
             "ticks": ""
            },
            "type": "choropleth"
           }
          ],
          "contour": [
           {
            "colorbar": {
             "outlinewidth": 0,
             "ticks": ""
            },
            "colorscale": [
             [
              0,
              "#0d0887"
             ],
             [
              0.1111111111111111,
              "#46039f"
             ],
             [
              0.2222222222222222,
              "#7201a8"
             ],
             [
              0.3333333333333333,
              "#9c179e"
             ],
             [
              0.4444444444444444,
              "#bd3786"
             ],
             [
              0.5555555555555556,
              "#d8576b"
             ],
             [
              0.6666666666666666,
              "#ed7953"
             ],
             [
              0.7777777777777778,
              "#fb9f3a"
             ],
             [
              0.8888888888888888,
              "#fdca26"
             ],
             [
              1,
              "#f0f921"
             ]
            ],
            "type": "contour"
           }
          ],
          "contourcarpet": [
           {
            "colorbar": {
             "outlinewidth": 0,
             "ticks": ""
            },
            "type": "contourcarpet"
           }
          ],
          "heatmap": [
           {
            "colorbar": {
             "outlinewidth": 0,
             "ticks": ""
            },
            "colorscale": [
             [
              0,
              "#0d0887"
             ],
             [
              0.1111111111111111,
              "#46039f"
             ],
             [
              0.2222222222222222,
              "#7201a8"
             ],
             [
              0.3333333333333333,
              "#9c179e"
             ],
             [
              0.4444444444444444,
              "#bd3786"
             ],
             [
              0.5555555555555556,
              "#d8576b"
             ],
             [
              0.6666666666666666,
              "#ed7953"
             ],
             [
              0.7777777777777778,
              "#fb9f3a"
             ],
             [
              0.8888888888888888,
              "#fdca26"
             ],
             [
              1,
              "#f0f921"
             ]
            ],
            "type": "heatmap"
           }
          ],
          "heatmapgl": [
           {
            "colorbar": {
             "outlinewidth": 0,
             "ticks": ""
            },
            "colorscale": [
             [
              0,
              "#0d0887"
             ],
             [
              0.1111111111111111,
              "#46039f"
             ],
             [
              0.2222222222222222,
              "#7201a8"
             ],
             [
              0.3333333333333333,
              "#9c179e"
             ],
             [
              0.4444444444444444,
              "#bd3786"
             ],
             [
              0.5555555555555556,
              "#d8576b"
             ],
             [
              0.6666666666666666,
              "#ed7953"
             ],
             [
              0.7777777777777778,
              "#fb9f3a"
             ],
             [
              0.8888888888888888,
              "#fdca26"
             ],
             [
              1,
              "#f0f921"
             ]
            ],
            "type": "heatmapgl"
           }
          ],
          "histogram": [
           {
            "marker": {
             "pattern": {
              "fillmode": "overlay",
              "size": 10,
              "solidity": 0.2
             }
            },
            "type": "histogram"
           }
          ],
          "histogram2d": [
           {
            "colorbar": {
             "outlinewidth": 0,
             "ticks": ""
            },
            "colorscale": [
             [
              0,
              "#0d0887"
             ],
             [
              0.1111111111111111,
              "#46039f"
             ],
             [
              0.2222222222222222,
              "#7201a8"
             ],
             [
              0.3333333333333333,
              "#9c179e"
             ],
             [
              0.4444444444444444,
              "#bd3786"
             ],
             [
              0.5555555555555556,
              "#d8576b"
             ],
             [
              0.6666666666666666,
              "#ed7953"
             ],
             [
              0.7777777777777778,
              "#fb9f3a"
             ],
             [
              0.8888888888888888,
              "#fdca26"
             ],
             [
              1,
              "#f0f921"
             ]
            ],
            "type": "histogram2d"
           }
          ],
          "histogram2dcontour": [
           {
            "colorbar": {
             "outlinewidth": 0,
             "ticks": ""
            },
            "colorscale": [
             [
              0,
              "#0d0887"
             ],
             [
              0.1111111111111111,
              "#46039f"
             ],
             [
              0.2222222222222222,
              "#7201a8"
             ],
             [
              0.3333333333333333,
              "#9c179e"
             ],
             [
              0.4444444444444444,
              "#bd3786"
             ],
             [
              0.5555555555555556,
              "#d8576b"
             ],
             [
              0.6666666666666666,
              "#ed7953"
             ],
             [
              0.7777777777777778,
              "#fb9f3a"
             ],
             [
              0.8888888888888888,
              "#fdca26"
             ],
             [
              1,
              "#f0f921"
             ]
            ],
            "type": "histogram2dcontour"
           }
          ],
          "mesh3d": [
           {
            "colorbar": {
             "outlinewidth": 0,
             "ticks": ""
            },
            "type": "mesh3d"
           }
          ],
          "parcoords": [
           {
            "line": {
             "colorbar": {
              "outlinewidth": 0,
              "ticks": ""
             }
            },
            "type": "parcoords"
           }
          ],
          "pie": [
           {
            "automargin": true,
            "type": "pie"
           }
          ],
          "scatter": [
           {
            "marker": {
             "colorbar": {
              "outlinewidth": 0,
              "ticks": ""
             }
            },
            "type": "scatter"
           }
          ],
          "scatter3d": [
           {
            "line": {
             "colorbar": {
              "outlinewidth": 0,
              "ticks": ""
             }
            },
            "marker": {
             "colorbar": {
              "outlinewidth": 0,
              "ticks": ""
             }
            },
            "type": "scatter3d"
           }
          ],
          "scattercarpet": [
           {
            "marker": {
             "colorbar": {
              "outlinewidth": 0,
              "ticks": ""
             }
            },
            "type": "scattercarpet"
           }
          ],
          "scattergeo": [
           {
            "marker": {
             "colorbar": {
              "outlinewidth": 0,
              "ticks": ""
             }
            },
            "type": "scattergeo"
           }
          ],
          "scattergl": [
           {
            "marker": {
             "colorbar": {
              "outlinewidth": 0,
              "ticks": ""
             }
            },
            "type": "scattergl"
           }
          ],
          "scattermapbox": [
           {
            "marker": {
             "colorbar": {
              "outlinewidth": 0,
              "ticks": ""
             }
            },
            "type": "scattermapbox"
           }
          ],
          "scatterpolar": [
           {
            "marker": {
             "colorbar": {
              "outlinewidth": 0,
              "ticks": ""
             }
            },
            "type": "scatterpolar"
           }
          ],
          "scatterpolargl": [
           {
            "marker": {
             "colorbar": {
              "outlinewidth": 0,
              "ticks": ""
             }
            },
            "type": "scatterpolargl"
           }
          ],
          "scatterternary": [
           {
            "marker": {
             "colorbar": {
              "outlinewidth": 0,
              "ticks": ""
             }
            },
            "type": "scatterternary"
           }
          ],
          "surface": [
           {
            "colorbar": {
             "outlinewidth": 0,
             "ticks": ""
            },
            "colorscale": [
             [
              0,
              "#0d0887"
             ],
             [
              0.1111111111111111,
              "#46039f"
             ],
             [
              0.2222222222222222,
              "#7201a8"
             ],
             [
              0.3333333333333333,
              "#9c179e"
             ],
             [
              0.4444444444444444,
              "#bd3786"
             ],
             [
              0.5555555555555556,
              "#d8576b"
             ],
             [
              0.6666666666666666,
              "#ed7953"
             ],
             [
              0.7777777777777778,
              "#fb9f3a"
             ],
             [
              0.8888888888888888,
              "#fdca26"
             ],
             [
              1,
              "#f0f921"
             ]
            ],
            "type": "surface"
           }
          ],
          "table": [
           {
            "cells": {
             "fill": {
              "color": "#EBF0F8"
             },
             "line": {
              "color": "white"
             }
            },
            "header": {
             "fill": {
              "color": "#C8D4E3"
             },
             "line": {
              "color": "white"
             }
            },
            "type": "table"
           }
          ]
         },
         "layout": {
          "annotationdefaults": {
           "arrowcolor": "#2a3f5f",
           "arrowhead": 0,
           "arrowwidth": 1
          },
          "autotypenumbers": "strict",
          "coloraxis": {
           "colorbar": {
            "outlinewidth": 0,
            "ticks": ""
           }
          },
          "colorscale": {
           "diverging": [
            [
             0,
             "#8e0152"
            ],
            [
             0.1,
             "#c51b7d"
            ],
            [
             0.2,
             "#de77ae"
            ],
            [
             0.3,
             "#f1b6da"
            ],
            [
             0.4,
             "#fde0ef"
            ],
            [
             0.5,
             "#f7f7f7"
            ],
            [
             0.6,
             "#e6f5d0"
            ],
            [
             0.7,
             "#b8e186"
            ],
            [
             0.8,
             "#7fbc41"
            ],
            [
             0.9,
             "#4d9221"
            ],
            [
             1,
             "#276419"
            ]
           ],
           "sequential": [
            [
             0,
             "#0d0887"
            ],
            [
             0.1111111111111111,
             "#46039f"
            ],
            [
             0.2222222222222222,
             "#7201a8"
            ],
            [
             0.3333333333333333,
             "#9c179e"
            ],
            [
             0.4444444444444444,
             "#bd3786"
            ],
            [
             0.5555555555555556,
             "#d8576b"
            ],
            [
             0.6666666666666666,
             "#ed7953"
            ],
            [
             0.7777777777777778,
             "#fb9f3a"
            ],
            [
             0.8888888888888888,
             "#fdca26"
            ],
            [
             1,
             "#f0f921"
            ]
           ],
           "sequentialminus": [
            [
             0,
             "#0d0887"
            ],
            [
             0.1111111111111111,
             "#46039f"
            ],
            [
             0.2222222222222222,
             "#7201a8"
            ],
            [
             0.3333333333333333,
             "#9c179e"
            ],
            [
             0.4444444444444444,
             "#bd3786"
            ],
            [
             0.5555555555555556,
             "#d8576b"
            ],
            [
             0.6666666666666666,
             "#ed7953"
            ],
            [
             0.7777777777777778,
             "#fb9f3a"
            ],
            [
             0.8888888888888888,
             "#fdca26"
            ],
            [
             1,
             "#f0f921"
            ]
           ]
          },
          "colorway": [
           "#636efa",
           "#EF553B",
           "#00cc96",
           "#ab63fa",
           "#FFA15A",
           "#19d3f3",
           "#FF6692",
           "#B6E880",
           "#FF97FF",
           "#FECB52"
          ],
          "font": {
           "color": "#2a3f5f"
          },
          "geo": {
           "bgcolor": "white",
           "lakecolor": "white",
           "landcolor": "#E5ECF6",
           "showlakes": true,
           "showland": true,
           "subunitcolor": "white"
          },
          "hoverlabel": {
           "align": "left"
          },
          "hovermode": "closest",
          "mapbox": {
           "style": "light"
          },
          "paper_bgcolor": "white",
          "plot_bgcolor": "#E5ECF6",
          "polar": {
           "angularaxis": {
            "gridcolor": "white",
            "linecolor": "white",
            "ticks": ""
           },
           "bgcolor": "#E5ECF6",
           "radialaxis": {
            "gridcolor": "white",
            "linecolor": "white",
            "ticks": ""
           }
          },
          "scene": {
           "xaxis": {
            "backgroundcolor": "#E5ECF6",
            "gridcolor": "white",
            "gridwidth": 2,
            "linecolor": "white",
            "showbackground": true,
            "ticks": "",
            "zerolinecolor": "white"
           },
           "yaxis": {
            "backgroundcolor": "#E5ECF6",
            "gridcolor": "white",
            "gridwidth": 2,
            "linecolor": "white",
            "showbackground": true,
            "ticks": "",
            "zerolinecolor": "white"
           },
           "zaxis": {
            "backgroundcolor": "#E5ECF6",
            "gridcolor": "white",
            "gridwidth": 2,
            "linecolor": "white",
            "showbackground": true,
            "ticks": "",
            "zerolinecolor": "white"
           }
          },
          "shapedefaults": {
           "line": {
            "color": "#2a3f5f"
           }
          },
          "ternary": {
           "aaxis": {
            "gridcolor": "white",
            "linecolor": "white",
            "ticks": ""
           },
           "baxis": {
            "gridcolor": "white",
            "linecolor": "white",
            "ticks": ""
           },
           "bgcolor": "#E5ECF6",
           "caxis": {
            "gridcolor": "white",
            "linecolor": "white",
            "ticks": ""
           }
          },
          "title": {
           "x": 0.05
          },
          "xaxis": {
           "automargin": true,
           "gridcolor": "white",
           "linecolor": "white",
           "ticks": "",
           "title": {
            "standoff": 15
           },
           "zerolinecolor": "white",
           "zerolinewidth": 2
          },
          "yaxis": {
           "automargin": true,
           "gridcolor": "white",
           "linecolor": "white",
           "ticks": "",
           "title": {
            "standoff": 15
           },
           "zerolinecolor": "white",
           "zerolinewidth": 2
          }
         }
        },
        "title": {
         "text": "Top 10 Most Expensive Neighborhoods in San Francisco"
        },
        "xaxis": {
         "anchor": "y",
         "autorange": true,
         "domain": [
          0,
          1
         ],
         "range": [
          -0.5,
          9.5
         ],
         "title": {
          "text": "neighborhood"
         },
         "type": "category"
        },
        "yaxis": {
         "anchor": "x",
         "autorange": true,
         "domain": [
          0,
          1
         ],
         "range": [
          0,
          951.5718501811206
         ],
         "title": {
          "text": "sale_price_sqr_foot"
         },
         "type": "linear"
        }
       }
      },
      "image/png": "[encoded data removed]",
      "text/html": [
       "<div>                            <div id=\"ead53127-a26c-4d3e-bdbd-c917765b8ae7\" class=\"plotly-graph-div\" style=\"height:525px; width:100%;\"></div>            <script type=\"text/javascript\">                require([\"plotly\"], function(Plotly) {                    window.PLOTLYENV=window.PLOTLYENV || {};                                    if (document.getElementById(\"ead53127-a26c-4d3e-bdbd-c917765b8ae7\")) {                    Plotly.newPlot(                        \"ead53127-a26c-4d3e-bdbd-c917765b8ae7\",                        [{\"alignmentgroup\":\"True\",\"hovertemplate\":\"neighborhood=%{x}<br>sale_price_sqr_foot=%{y}<extra></extra>\",\"legendgroup\":\"\",\"marker\":{\"color\":\"#636efa\",\"pattern\":{\"shape\":\"\"}},\"name\":\"\",\"offsetgroup\":\"\",\"orientation\":\"v\",\"showlegend\":false,\"textposition\":\"auto\",\"type\":\"bar\",\"x\":[\"Union Square District\",\"Merced Heights\",\"Miraloma Park\",\"Pacific Heights\",\"Westwood Park\",\"Telegraph Hill\",\"Presidio Heights\",\"Cow Hollow\",\"Potrero Hill\",\"South Beach\"],\"xaxis\":\"x\",\"y\":[903.9932576720645,788.8448175872469,779.810842264425,689.5558168113664,687.0875745178323,676.5065775293257,675.3502120510033,665.964041578323,662.0136128276529,650.1244791945729],\"yaxis\":\"y\"}],                        {\"barmode\":\"relative\",\"legend\":{\"tracegroupgap\":0},\"template\":{\"data\":{\"bar\":[{\"error_x\":{\"color\":\"#2a3f5f\"},\"error_y\":{\"color\":\"#2a3f5f\"},\"marker\":{\"line\":{\"color\":\"#E5ECF6\",\"width\":0.5},\"pattern\":{\"fillmode\":\"overlay\",\"size\":10,\"solidity\":0.2}},\"type\":\"bar\"}],\"barpolar\":[{\"marker\":{\"line\":{\"color\":\"#E5ECF6\",\"width\":0.5},\"pattern\":{\"fillmode\":\"overlay\",\"size\":10,\"solidity\":0.2}},\"type\":\"barpolar\"}],\"carpet\":[{\"aaxis\":{\"endlinecolor\":\"#2a3f5f\",\"gridcolor\":\"white\",\"linecolor\":\"white\",\"minorgridcolor\":\"white\",\"startlinecolor\":\"#2a3f5f\"},\"baxis\":{\"endlinecolor\":\"#2a3f5f\",\"gridcolor\":\"white\",\"linecolor\":\"white\",\"minorgridcolor\":\"white\",\"startlinecolor\":\"#2a3f5f\"},\"type\":\"carpet\"}],\"choropleth\":[{\"colorbar\":{\"outlinewidth\":0,\"ticks\":\"\"},\"type\":\"choropleth\"}],\"contour\":[{\"colorbar\":{\"outlinewidth\":0,\"ticks\":\"\"},\"colorscale\":[[0.0,\"#0d0887\"],[0.1111111111111111,\"#46039f\"],[0.2222222222222222,\"#7201a8\"],[0.3333333333333333,\"#9c179e\"],[0.4444444444444444,\"#bd3786\"],[0.5555555555555556,\"#d8576b\"],[0.6666666666666666,\"#ed7953\"],[0.7777777777777778,\"#fb9f3a\"],[0.8888888888888888,\"#fdca26\"],[1.0,\"#f0f921\"]],\"type\":\"contour\"}],\"contourcarpet\":[{\"colorbar\":{\"outlinewidth\":0,\"ticks\":\"\"},\"type\":\"contourcarpet\"}],\"heatmap\":[{\"colorbar\":{\"outlinewidth\":0,\"ticks\":\"\"},\"colorscale\":[[0.0,\"#0d0887\"],[0.1111111111111111,\"#46039f\"],[0.2222222222222222,\"#7201a8\"],[0.3333333333333333,\"#9c179e\"],[0.4444444444444444,\"#bd3786\"],[0.5555555555555556,\"#d8576b\"],[0.6666666666666666,\"#ed7953\"],[0.7777777777777778,\"#fb9f3a\"],[0.8888888888888888,\"#fdca26\"],[1.0,\"#f0f921\"]],\"type\":\"heatmap\"}],\"heatmapgl\":[{\"colorbar\":{\"outlinewidth\":0,\"ticks\":\"\"},\"colorscale\":[[0.0,\"#0d0887\"],[0.1111111111111111,\"#46039f\"],[0.2222222222222222,\"#7201a8\"],[0.3333333333333333,\"#9c179e\"],[0.4444444444444444,\"#bd3786\"],[0.5555555555555556,\"#d8576b\"],[0.6666666666666666,\"#ed7953\"],[0.7777777777777778,\"#fb9f3a\"],[0.8888888888888888,\"#fdca26\"],[1.0,\"#f0f921\"]],\"type\":\"heatmapgl\"}],\"histogram\":[{\"marker\":{\"pattern\":{\"fillmode\":\"overlay\",\"size\":10,\"solidity\":0.2}},\"type\":\"histogram\"}],\"histogram2d\":[{\"colorbar\":{\"outlinewidth\":0,\"ticks\":\"\"},\"colorscale\":[[0.0,\"#0d0887\"],[0.1111111111111111,\"#46039f\"],[0.2222222222222222,\"#7201a8\"],[0.3333333333333333,\"#9c179e\"],[0.4444444444444444,\"#bd3786\"],[0.5555555555555556,\"#d8576b\"],[0.6666666666666666,\"#ed7953\"],[0.7777777777777778,\"#fb9f3a\"],[0.8888888888888888,\"#fdca26\"],[1.0,\"#f0f921\"]],\"type\":\"histogram2d\"}],\"histogram2dcontour\":[{\"colorbar\":{\"outlinewidth\":0,\"ticks\":\"\"},\"colorscale\":[[0.0,\"#0d0887\"],[0.1111111111111111,\"#46039f\"],[0.2222222222222222,\"#7201a8\"],[0.3333333333333333,\"#9c179e\"],[0.4444444444444444,\"#bd3786\"],[0.5555555555555556,\"#d8576b\"],[0.6666666666666666,\"#ed7953\"],[0.7777777777777778,\"#fb9f3a\"],[0.8888888888888888,\"#fdca26\"],[1.0,\"#f0f921\"]],\"type\":\"histogram2dcontour\"}],\"mesh3d\":[{\"colorbar\":{\"outlinewidth\":0,\"ticks\":\"\"},\"type\":\"mesh3d\"}],\"parcoords\":[{\"line\":{\"colorbar\":{\"outlinewidth\":0,\"ticks\":\"\"}},\"type\":\"parcoords\"}],\"pie\":[{\"automargin\":true,\"type\":\"pie\"}],\"scatter\":[{\"marker\":{\"colorbar\":{\"outlinewidth\":0,\"ticks\":\"\"}},\"type\":\"scatter\"}],\"scatter3d\":[{\"line\":{\"colorbar\":{\"outlinewidth\":0,\"ticks\":\"\"}},\"marker\":{\"colorbar\":{\"outlinewidth\":0,\"ticks\":\"\"}},\"type\":\"scatter3d\"}],\"scattercarpet\":[{\"marker\":{\"colorbar\":{\"outlinewidth\":0,\"ticks\":\"\"}},\"type\":\"scattercarpet\"}],\"scattergeo\":[{\"marker\":{\"colorbar\":{\"outlinewidth\":0,\"ticks\":\"\"}},\"type\":\"scattergeo\"}],\"scattergl\":[{\"marker\":{\"colorbar\":{\"outlinewidth\":0,\"ticks\":\"\"}},\"type\":\"scattergl\"}],\"scattermapbox\":[{\"marker\":{\"colorbar\":{\"outlinewidth\":0,\"ticks\":\"\"}},\"type\":\"scattermapbox\"}],\"scatterpolar\":[{\"marker\":{\"colorbar\":{\"outlinewidth\":0,\"ticks\":\"\"}},\"type\":\"scatterpolar\"}],\"scatterpolargl\":[{\"marker\":{\"colorbar\":{\"outlinewidth\":0,\"ticks\":\"\"}},\"type\":\"scatterpolargl\"}],\"scatterternary\":[{\"marker\":{\"colorbar\":{\"outlinewidth\":0,\"ticks\":\"\"}},\"type\":\"scatterternary\"}],\"surface\":[{\"colorbar\":{\"outlinewidth\":0,\"ticks\":\"\"},\"colorscale\":[[0.0,\"#0d0887\"],[0.1111111111111111,\"#46039f\"],[0.2222222222222222,\"#7201a8\"],[0.3333333333333333,\"#9c179e\"],[0.4444444444444444,\"#bd3786\"],[0.5555555555555556,\"#d8576b\"],[0.6666666666666666,\"#ed7953\"],[0.7777777777777778,\"#fb9f3a\"],[0.8888888888888888,\"#fdca26\"],[1.0,\"#f0f921\"]],\"type\":\"surface\"}],\"table\":[{\"cells\":{\"fill\":{\"color\":\"#EBF0F8\"},\"line\":{\"color\":\"white\"}},\"header\":{\"fill\":{\"color\":\"#C8D4E3\"},\"line\":{\"color\":\"white\"}},\"type\":\"table\"}]},\"layout\":{\"annotationdefaults\":{\"arrowcolor\":\"#2a3f5f\",\"arrowhead\":0,\"arrowwidth\":1},\"autotypenumbers\":\"strict\",\"coloraxis\":{\"colorbar\":{\"outlinewidth\":0,\"ticks\":\"\"}},\"colorscale\":{\"diverging\":[[0,\"#8e0152\"],[0.1,\"#c51b7d\"],[0.2,\"#de77ae\"],[0.3,\"#f1b6da\"],[0.4,\"#fde0ef\"],[0.5,\"#f7f7f7\"],[0.6,\"#e6f5d0\"],[0.7,\"#b8e186\"],[0.8,\"#7fbc41\"],[0.9,\"#4d9221\"],[1,\"#276419\"]],\"sequential\":[[0.0,\"#0d0887\"],[0.1111111111111111,\"#46039f\"],[0.2222222222222222,\"#7201a8\"],[0.3333333333333333,\"#9c179e\"],[0.4444444444444444,\"#bd3786\"],[0.5555555555555556,\"#d8576b\"],[0.6666666666666666,\"#ed7953\"],[0.7777777777777778,\"#fb9f3a\"],[0.8888888888888888,\"#fdca26\"],[1.0,\"#f0f921\"]],\"sequentialminus\":[[0.0,\"#0d0887\"],[0.1111111111111111,\"#46039f\"],[0.2222222222222222,\"#7201a8\"],[0.3333333333333333,\"#9c179e\"],[0.4444444444444444,\"#bd3786\"],[0.5555555555555556,\"#d8576b\"],[0.6666666666666666,\"#ed7953\"],[0.7777777777777778,\"#fb9f3a\"],[0.8888888888888888,\"#fdca26\"],[1.0,\"#f0f921\"]]},\"colorway\":[\"#636efa\",\"#EF553B\",\"#00cc96\",\"#ab63fa\",\"#FFA15A\",\"#19d3f3\",\"#FF6692\",\"#B6E880\",\"#FF97FF\",\"#FECB52\"],\"font\":{\"color\":\"#2a3f5f\"},\"geo\":{\"bgcolor\":\"white\",\"lakecolor\":\"white\",\"landcolor\":\"#E5ECF6\",\"showlakes\":true,\"showland\":true,\"subunitcolor\":\"white\"},\"hoverlabel\":{\"align\":\"left\"},\"hovermode\":\"closest\",\"mapbox\":{\"style\":\"light\"},\"paper_bgcolor\":\"white\",\"plot_bgcolor\":\"#E5ECF6\",\"polar\":{\"angularaxis\":{\"gridcolor\":\"white\",\"linecolor\":\"white\",\"ticks\":\"\"},\"bgcolor\":\"#E5ECF6\",\"radialaxis\":{\"gridcolor\":\"white\",\"linecolor\":\"white\",\"ticks\":\"\"}},\"scene\":{\"xaxis\":{\"backgroundcolor\":\"#E5ECF6\",\"gridcolor\":\"white\",\"gridwidth\":2,\"linecolor\":\"white\",\"showbackground\":true,\"ticks\":\"\",\"zerolinecolor\":\"white\"},\"yaxis\":{\"backgroundcolor\":\"#E5ECF6\",\"gridcolor\":\"white\",\"gridwidth\":2,\"linecolor\":\"white\",\"showbackground\":true,\"ticks\":\"\",\"zerolinecolor\":\"white\"},\"zaxis\":{\"backgroundcolor\":\"#E5ECF6\",\"gridcolor\":\"white\",\"gridwidth\":2,\"linecolor\":\"white\",\"showbackground\":true,\"ticks\":\"\",\"zerolinecolor\":\"white\"}},\"shapedefaults\":{\"line\":{\"color\":\"#2a3f5f\"}},\"ternary\":{\"aaxis\":{\"gridcolor\":\"white\",\"linecolor\":\"white\",\"ticks\":\"\"},\"baxis\":{\"gridcolor\":\"white\",\"linecolor\":\"white\",\"ticks\":\"\"},\"bgcolor\":\"#E5ECF6\",\"caxis\":{\"gridcolor\":\"white\",\"linecolor\":\"white\",\"ticks\":\"\"}},\"title\":{\"x\":0.05},\"xaxis\":{\"automargin\":true,\"gridcolor\":\"white\",\"linecolor\":\"white\",\"ticks\":\"\",\"title\":{\"standoff\":15},\"zerolinecolor\":\"white\",\"zerolinewidth\":2},\"yaxis\":{\"automargin\":true,\"gridcolor\":\"white\",\"linecolor\":\"white\",\"ticks\":\"\",\"title\":{\"standoff\":15},\"zerolinecolor\":\"white\",\"zerolinewidth\":2}}},\"title\":{\"text\":\"Top 10 Most Expensive Neighborhoods in San Francisco\"},\"xaxis\":{\"anchor\":\"y\",\"domain\":[0.0,1.0],\"title\":{\"text\":\"neighborhood\"}},\"yaxis\":{\"anchor\":\"x\",\"domain\":[0.0,1.0],\"title\":{\"text\":\"sale_price_sqr_foot\"}}},                        {\"responsive\": true}                    ).then(function(){\n",
       "                            \n",
       "var gd = document.getElementById('ead53127-a26c-4d3e-bdbd-c917765b8ae7');\n",
       "var x = new MutationObserver(function (mutations, observer) {{\n",
       "        var display = window.getComputedStyle(gd).display;\n",
       "        if (!display || display === 'none') {{\n",
       "            console.log([gd, 'removed!']);\n",
       "            Plotly.purge(gd);\n",
       "            observer.disconnect();\n",
       "        }}\n",
       "}});\n",
       "\n",
       "// Listen for the removal of the full notebook cells\n",
       "var notebookContainer = gd.closest('#notebook-container');\n",
       "if (notebookContainer) {{\n",
       "    x.observe(notebookContainer, {childList: true});\n",
       "}}\n",
       "\n",
       "// Listen for the clearing of the current output cell\n",
       "var outputEl = gd.closest('.output');\n",
       "if (outputEl) {{\n",
       "    x.observe(outputEl, {childList: true});\n",
       "}}\n",
       "\n",
       "                        })                };                });            </script>        </div>"
      ]
     },
     "metadata": {},
     "output_type": "display_data"
    }
   ],
   "source": [
    "most_expensive_neighborhoods_rent_sales()"
   ]
  },
  {
   "cell_type": "code",
   "execution_count": 112,
   "metadata": {},
   "outputs": [
    {
     "data": {
      "application/vnd.plotly.v1+json": {
       "config": {
        "plotlyServerURL": "https://plot.ly"
       },
       "data": [
        {
         "hovertemplate": "sale_price_sqr_foot=%{marker.size}<br>Lat=%{lat}<br>Lon=%{lon}<br>gross_rent=%{marker.color}<extra></extra>",
         "lat": [
          37.791012,
          37.779598,
          37.73467,
          37.72874,
          37.728629999999995,
          37.768159999999995,
          37.77789,
          37.74961,
          37.75331,
          37.78553,
          37.79298,
          37.7228,
          37.728629999999995,
          37.79101,
          37.76964,
          37.75554,
          37.72874,
          37.79101,
          37.79101,
          37.757059999999996,
          37.728629999999995,
          37.757912,
          37.76525,
          37.76525,
          37.72551,
          37.721160999999995,
          37.72116,
          37.75416,
          37.74961,
          37.769112,
          37.74961,
          37.78553,
          37.801520000000004,
          37.7789,
          37.79298,
          37.79972,
          37.71993,
          37.75331,
          37.73415,
          37.783229999999996,
          37.75184,
          37.728629999999995,
          37.79298,
          37.75331,
          37.80055,
          37.80055,
          37.71993,
          37.7228,
          37.7517,
          37.76911,
          37.74961,
          37.79298,
          37.72838,
          37.74961,
          37.76355,
          37.73467,
          37.73196,
          37.78553,
          37.79298,
          37.73467,
          37.783229999999996,
          37.79101,
          37.73415,
          37.80055,
          37.753311,
          37.79101,
          37.779509999999995,
          37.72874,
          37.74026,
          37.79298,
          37.7347,
          37.73415,
          37.79298
         ],
         "legendgroup": "",
         "lon": [
          -122.4021,
          -122.443451,
          -122.40106000000002,
          -122.41098000000001,
          -122.44305,
          -122.43933,
          -122.44516999999999,
          -122.48998999999999,
          -122.44703,
          -122.456,
          -122.43579,
          -122.43869,
          -122.44305,
          -122.4021,
          -122.42611000000001,
          -122.43778999999999,
          -122.41098000000001,
          -122.4021,
          -122.4021,
          -122.45508999999998,
          -122.44305,
          -122.46401999999999,
          -122.43596000000001,
          -122.43596000000001,
          -122.37178,
          -122.487068,
          -122.48706999999999,
          -122.41946999999999,
          -122.48998999999999,
          -122.483566,
          -122.48997,
          -122.456,
          -122.45456999999999,
          -122.45496000000001,
          -122.43579,
          -122.46688999999999,
          -122.46595,
          -122.44703,
          -122.45700000000001,
          -122.40065,
          -122.42522,
          -122.44305,
          -122.43579,
          -122.44703,
          -122.40433,
          -122.40433,
          -122.46595,
          -122.43869,
          -122.446,
          -122.48357,
          -122.48998999999999,
          -122.43579,
          -122.47851000000001,
          -122.48998999999999,
          -122.45765,
          -122.40106000000002,
          -122.38323999999999,
          -122.456,
          -122.43579,
          -122.40106000000002,
          -122.40065,
          -122.4021,
          -122.45700000000001,
          -122.40433,
          -122.447029,
          -122.4021,
          -122.42022,
          -122.41098000000001,
          -122.46388,
          -122.43579,
          -122.456854,
          -122.45700000000001,
          -122.39636000000002
         ],
         "marker": {
          "color": [
           2817.285714285714,
           3031.8333333333335,
           2318.4,
           3739,
           3080.3333333333335,
           2698.8333333333335,
           2817.285714285714,
           2817.285714285714,
           2250.5,
           2472,
           2817.285714285714,
           2698.8333333333335,
           2016,
           2817.285714285714,
           2780.25,
           2817.285714285714,
           3031.8333333333335,
           2817.285714285714,
           2472,
           1781.5,
           2899.5,
           2601.4,
           2817.285714285714,
           2817.285714285714,
           2489,
           2509,
           2960,
           2817.285714285714,
           3224,
           2817.285714285714,
           2817.285714285714,
           2817.285714285714,
           2555.1666666666665,
           2555.1666666666665,
           2817.285714285714,
           2817.285714285714,
           3414,
           2647.5,
           2155.25,
           2663.6666666666665,
           2555.1666666666665,
           3173.4,
           2817.285714285714,
           2817.285714285714,
           2990.8,
           2818.4,
           2434,
           2995.75,
           2817.285714285714,
           2817.285714285714,
           2817.285714285714,
           2817.285714285714,
           2817.285714285714,
           2555.1666666666665,
           2817.285714285714,
           2318.4,
           2817.285714285714,
           2817.285714285714,
           2817.285714285714,
           3528,
           2099,
           2817.285714285714,
           2899.5,
           2817.285714285714,
           2817.285714285714,
           2555.1666666666665,
           2817.285714285714,
           3657,
           2515.5,
           2555.1666666666665,
           2250.5,
           3959,
           2555.1666666666665
          ],
          "coloraxis": "coloraxis",
          "size": [
           366.02071153227644,
           373.38219782647707,
           204.58862288246596,
           590.7928388746802,
           576.7464881132382,
           452.6805909308442,
           394.4223987800589,
           423.6879277015824,
           487.2448860262575,
           587.5390673661739,
           665.964041578323,
           303.00418440849427,
           434.99173944522124,
           391.43437776742576,
           502.59915555623616,
           642.2486706357391,
           388.76592700230754,
           391.36253308010487,
           455.83621223779153,
           321.84083657398736,
           623.826177537435,
           639.3935574881156,
           449.5447622856192,
           355.9328279480578,
           170.62491987132685,
           367.8951440852775,
           384.7979281346048,
           397.67371473613446,
           519.3856038526768,
           378.59431396136455,
           413.66751546215943,
           529.3841850673389,
           409.95435219297514,
           478.2285530213679,
           539.2379688783261,
           583.7492694814549,
           788.8448175872469,
           550.5103482917151,
           779.810842264425,
           566.1922135483312,
           418.9156225067234,
           523.4662013248023,
           458.2040944846015,
           542.4429128151736,
           411.646875881678,
           498.26975500787677,
           330.0973846552545,
           242.37095202049667,
           485.0270126111035,
           473.90077331796317,
           394.21903228550775,
           689.5558168113664,
           373.732856371763,
           336.172661037069,
           632.740453508577,
           327.11392534647274,
           662.0136128276529,
           675.3502120510033,
           608.9832172374425,
           170.2925485152069,
           650.1244791945729,
           570.2714266991686,
           528.3183317138463,
           676.5065775293257,
           469.39862649935156,
           903.9932576720645,
           404.1501801622257,
           301.46617997450267,
           498.4884848295011,
           307.56220097996066,
           533.7039354359513,
           687.0875745178323,
           576.709848378276
          ],
          "sizemode": "area",
          "sizeref": 2.259983144180161
         },
         "mode": "markers",
         "name": "",
         "showlegend": false,
         "subplot": "mapbox",
         "type": "scattermapbox"
        }
       ],
       "layout": {
        "autosize": true,
        "coloraxis": {
         "colorbar": {
          "title": {
           "text": "gross_rent"
          }
         },
         "colorscale": [
          [
           0,
           "#000000"
          ],
          [
           0.0625,
           "#001f4d"
          ],
          [
           0.125,
           "#003786"
          ],
          [
           0.1875,
           "#0e58a8"
          ],
          [
           0.25,
           "#217eb8"
          ],
          [
           0.3125,
           "#30a4ca"
          ],
          [
           0.375,
           "#54c8df"
          ],
          [
           0.4375,
           "#9be4ef"
          ],
          [
           0.5,
           "#e1e9d1"
          ],
          [
           0.5625,
           "#f3d573"
          ],
          [
           0.625,
           "#e7b000"
          ],
          [
           0.6875,
           "#da8200"
          ],
          [
           0.75,
           "#c65400"
          ],
          [
           0.8125,
           "#ac2301"
          ],
          [
           0.875,
           "#820000"
          ],
          [
           0.9375,
           "#4c0000"
          ],
          [
           1,
           "#000000"
          ]
         ]
        },
        "legend": {
         "itemsizing": "constant",
         "tracegroupgap": 0
        },
        "mapbox": {
         "accesstoken": "pk.eyJ1IjoiYWFydGljIiwiYSI6ImNrc2h3aW81ZDAxaTcydXFtZnJybnFhMHQifQ.vpYK9Xj5iMlkyfg-UHNEBQ",
         "bearing": 0,
         "center": {
          "lat": 37.76019350684932,
          "lon": -122.43912380821916
         },
         "domain": {
          "x": [
           0,
           1
          ],
          "y": [
           0,
           1
          ]
         },
         "pitch": 0,
         "zoom": 11
        },
        "template": {
         "data": {
          "bar": [
           {
            "error_x": {
             "color": "#2a3f5f"
            },
            "error_y": {
             "color": "#2a3f5f"
            },
            "marker": {
             "line": {
              "color": "#E5ECF6",
              "width": 0.5
             },
             "pattern": {
              "fillmode": "overlay",
              "size": 10,
              "solidity": 0.2
             }
            },
            "type": "bar"
           }
          ],
          "barpolar": [
           {
            "marker": {
             "line": {
              "color": "#E5ECF6",
              "width": 0.5
             },
             "pattern": {
              "fillmode": "overlay",
              "size": 10,
              "solidity": 0.2
             }
            },
            "type": "barpolar"
           }
          ],
          "carpet": [
           {
            "aaxis": {
             "endlinecolor": "#2a3f5f",
             "gridcolor": "white",
             "linecolor": "white",
             "minorgridcolor": "white",
             "startlinecolor": "#2a3f5f"
            },
            "baxis": {
             "endlinecolor": "#2a3f5f",
             "gridcolor": "white",
             "linecolor": "white",
             "minorgridcolor": "white",
             "startlinecolor": "#2a3f5f"
            },
            "type": "carpet"
           }
          ],
          "choropleth": [
           {
            "colorbar": {
             "outlinewidth": 0,
             "ticks": ""
            },
            "type": "choropleth"
           }
          ],
          "contour": [
           {
            "colorbar": {
             "outlinewidth": 0,
             "ticks": ""
            },
            "colorscale": [
             [
              0,
              "#0d0887"
             ],
             [
              0.1111111111111111,
              "#46039f"
             ],
             [
              0.2222222222222222,
              "#7201a8"
             ],
             [
              0.3333333333333333,
              "#9c179e"
             ],
             [
              0.4444444444444444,
              "#bd3786"
             ],
             [
              0.5555555555555556,
              "#d8576b"
             ],
             [
              0.6666666666666666,
              "#ed7953"
             ],
             [
              0.7777777777777778,
              "#fb9f3a"
             ],
             [
              0.8888888888888888,
              "#fdca26"
             ],
             [
              1,
              "#f0f921"
             ]
            ],
            "type": "contour"
           }
          ],
          "contourcarpet": [
           {
            "colorbar": {
             "outlinewidth": 0,
             "ticks": ""
            },
            "type": "contourcarpet"
           }
          ],
          "heatmap": [
           {
            "colorbar": {
             "outlinewidth": 0,
             "ticks": ""
            },
            "colorscale": [
             [
              0,
              "#0d0887"
             ],
             [
              0.1111111111111111,
              "#46039f"
             ],
             [
              0.2222222222222222,
              "#7201a8"
             ],
             [
              0.3333333333333333,
              "#9c179e"
             ],
             [
              0.4444444444444444,
              "#bd3786"
             ],
             [
              0.5555555555555556,
              "#d8576b"
             ],
             [
              0.6666666666666666,
              "#ed7953"
             ],
             [
              0.7777777777777778,
              "#fb9f3a"
             ],
             [
              0.8888888888888888,
              "#fdca26"
             ],
             [
              1,
              "#f0f921"
             ]
            ],
            "type": "heatmap"
           }
          ],
          "heatmapgl": [
           {
            "colorbar": {
             "outlinewidth": 0,
             "ticks": ""
            },
            "colorscale": [
             [
              0,
              "#0d0887"
             ],
             [
              0.1111111111111111,
              "#46039f"
             ],
             [
              0.2222222222222222,
              "#7201a8"
             ],
             [
              0.3333333333333333,
              "#9c179e"
             ],
             [
              0.4444444444444444,
              "#bd3786"
             ],
             [
              0.5555555555555556,
              "#d8576b"
             ],
             [
              0.6666666666666666,
              "#ed7953"
             ],
             [
              0.7777777777777778,
              "#fb9f3a"
             ],
             [
              0.8888888888888888,
              "#fdca26"
             ],
             [
              1,
              "#f0f921"
             ]
            ],
            "type": "heatmapgl"
           }
          ],
          "histogram": [
           {
            "marker": {
             "pattern": {
              "fillmode": "overlay",
              "size": 10,
              "solidity": 0.2
             }
            },
            "type": "histogram"
           }
          ],
          "histogram2d": [
           {
            "colorbar": {
             "outlinewidth": 0,
             "ticks": ""
            },
            "colorscale": [
             [
              0,
              "#0d0887"
             ],
             [
              0.1111111111111111,
              "#46039f"
             ],
             [
              0.2222222222222222,
              "#7201a8"
             ],
             [
              0.3333333333333333,
              "#9c179e"
             ],
             [
              0.4444444444444444,
              "#bd3786"
             ],
             [
              0.5555555555555556,
              "#d8576b"
             ],
             [
              0.6666666666666666,
              "#ed7953"
             ],
             [
              0.7777777777777778,
              "#fb9f3a"
             ],
             [
              0.8888888888888888,
              "#fdca26"
             ],
             [
              1,
              "#f0f921"
             ]
            ],
            "type": "histogram2d"
           }
          ],
          "histogram2dcontour": [
           {
            "colorbar": {
             "outlinewidth": 0,
             "ticks": ""
            },
            "colorscale": [
             [
              0,
              "#0d0887"
             ],
             [
              0.1111111111111111,
              "#46039f"
             ],
             [
              0.2222222222222222,
              "#7201a8"
             ],
             [
              0.3333333333333333,
              "#9c179e"
             ],
             [
              0.4444444444444444,
              "#bd3786"
             ],
             [
              0.5555555555555556,
              "#d8576b"
             ],
             [
              0.6666666666666666,
              "#ed7953"
             ],
             [
              0.7777777777777778,
              "#fb9f3a"
             ],
             [
              0.8888888888888888,
              "#fdca26"
             ],
             [
              1,
              "#f0f921"
             ]
            ],
            "type": "histogram2dcontour"
           }
          ],
          "mesh3d": [
           {
            "colorbar": {
             "outlinewidth": 0,
             "ticks": ""
            },
            "type": "mesh3d"
           }
          ],
          "parcoords": [
           {
            "line": {
             "colorbar": {
              "outlinewidth": 0,
              "ticks": ""
             }
            },
            "type": "parcoords"
           }
          ],
          "pie": [
           {
            "automargin": true,
            "type": "pie"
           }
          ],
          "scatter": [
           {
            "marker": {
             "colorbar": {
              "outlinewidth": 0,
              "ticks": ""
             }
            },
            "type": "scatter"
           }
          ],
          "scatter3d": [
           {
            "line": {
             "colorbar": {
              "outlinewidth": 0,
              "ticks": ""
             }
            },
            "marker": {
             "colorbar": {
              "outlinewidth": 0,
              "ticks": ""
             }
            },
            "type": "scatter3d"
           }
          ],
          "scattercarpet": [
           {
            "marker": {
             "colorbar": {
              "outlinewidth": 0,
              "ticks": ""
             }
            },
            "type": "scattercarpet"
           }
          ],
          "scattergeo": [
           {
            "marker": {
             "colorbar": {
              "outlinewidth": 0,
              "ticks": ""
             }
            },
            "type": "scattergeo"
           }
          ],
          "scattergl": [
           {
            "marker": {
             "colorbar": {
              "outlinewidth": 0,
              "ticks": ""
             }
            },
            "type": "scattergl"
           }
          ],
          "scattermapbox": [
           {
            "marker": {
             "colorbar": {
              "outlinewidth": 0,
              "ticks": ""
             }
            },
            "type": "scattermapbox"
           }
          ],
          "scatterpolar": [
           {
            "marker": {
             "colorbar": {
              "outlinewidth": 0,
              "ticks": ""
             }
            },
            "type": "scatterpolar"
           }
          ],
          "scatterpolargl": [
           {
            "marker": {
             "colorbar": {
              "outlinewidth": 0,
              "ticks": ""
             }
            },
            "type": "scatterpolargl"
           }
          ],
          "scatterternary": [
           {
            "marker": {
             "colorbar": {
              "outlinewidth": 0,
              "ticks": ""
             }
            },
            "type": "scatterternary"
           }
          ],
          "surface": [
           {
            "colorbar": {
             "outlinewidth": 0,
             "ticks": ""
            },
            "colorscale": [
             [
              0,
              "#0d0887"
             ],
             [
              0.1111111111111111,
              "#46039f"
             ],
             [
              0.2222222222222222,
              "#7201a8"
             ],
             [
              0.3333333333333333,
              "#9c179e"
             ],
             [
              0.4444444444444444,
              "#bd3786"
             ],
             [
              0.5555555555555556,
              "#d8576b"
             ],
             [
              0.6666666666666666,
              "#ed7953"
             ],
             [
              0.7777777777777778,
              "#fb9f3a"
             ],
             [
              0.8888888888888888,
              "#fdca26"
             ],
             [
              1,
              "#f0f921"
             ]
            ],
            "type": "surface"
           }
          ],
          "table": [
           {
            "cells": {
             "fill": {
              "color": "#EBF0F8"
             },
             "line": {
              "color": "white"
             }
            },
            "header": {
             "fill": {
              "color": "#C8D4E3"
             },
             "line": {
              "color": "white"
             }
            },
            "type": "table"
           }
          ]
         },
         "layout": {
          "annotationdefaults": {
           "arrowcolor": "#2a3f5f",
           "arrowhead": 0,
           "arrowwidth": 1
          },
          "autotypenumbers": "strict",
          "coloraxis": {
           "colorbar": {
            "outlinewidth": 0,
            "ticks": ""
           }
          },
          "colorscale": {
           "diverging": [
            [
             0,
             "#8e0152"
            ],
            [
             0.1,
             "#c51b7d"
            ],
            [
             0.2,
             "#de77ae"
            ],
            [
             0.3,
             "#f1b6da"
            ],
            [
             0.4,
             "#fde0ef"
            ],
            [
             0.5,
             "#f7f7f7"
            ],
            [
             0.6,
             "#e6f5d0"
            ],
            [
             0.7,
             "#b8e186"
            ],
            [
             0.8,
             "#7fbc41"
            ],
            [
             0.9,
             "#4d9221"
            ],
            [
             1,
             "#276419"
            ]
           ],
           "sequential": [
            [
             0,
             "#0d0887"
            ],
            [
             0.1111111111111111,
             "#46039f"
            ],
            [
             0.2222222222222222,
             "#7201a8"
            ],
            [
             0.3333333333333333,
             "#9c179e"
            ],
            [
             0.4444444444444444,
             "#bd3786"
            ],
            [
             0.5555555555555556,
             "#d8576b"
            ],
            [
             0.6666666666666666,
             "#ed7953"
            ],
            [
             0.7777777777777778,
             "#fb9f3a"
            ],
            [
             0.8888888888888888,
             "#fdca26"
            ],
            [
             1,
             "#f0f921"
            ]
           ],
           "sequentialminus": [
            [
             0,
             "#0d0887"
            ],
            [
             0.1111111111111111,
             "#46039f"
            ],
            [
             0.2222222222222222,
             "#7201a8"
            ],
            [
             0.3333333333333333,
             "#9c179e"
            ],
            [
             0.4444444444444444,
             "#bd3786"
            ],
            [
             0.5555555555555556,
             "#d8576b"
            ],
            [
             0.6666666666666666,
             "#ed7953"
            ],
            [
             0.7777777777777778,
             "#fb9f3a"
            ],
            [
             0.8888888888888888,
             "#fdca26"
            ],
            [
             1,
             "#f0f921"
            ]
           ]
          },
          "colorway": [
           "#636efa",
           "#EF553B",
           "#00cc96",
           "#ab63fa",
           "#FFA15A",
           "#19d3f3",
           "#FF6692",
           "#B6E880",
           "#FF97FF",
           "#FECB52"
          ],
          "font": {
           "color": "#2a3f5f"
          },
          "geo": {
           "bgcolor": "white",
           "lakecolor": "white",
           "landcolor": "#E5ECF6",
           "showlakes": true,
           "showland": true,
           "subunitcolor": "white"
          },
          "hoverlabel": {
           "align": "left"
          },
          "hovermode": "closest",
          "mapbox": {
           "style": "light"
          },
          "paper_bgcolor": "white",
          "plot_bgcolor": "#E5ECF6",
          "polar": {
           "angularaxis": {
            "gridcolor": "white",
            "linecolor": "white",
            "ticks": ""
           },
           "bgcolor": "#E5ECF6",
           "radialaxis": {
            "gridcolor": "white",
            "linecolor": "white",
            "ticks": ""
           }
          },
          "scene": {
           "xaxis": {
            "backgroundcolor": "#E5ECF6",
            "gridcolor": "white",
            "gridwidth": 2,
            "linecolor": "white",
            "showbackground": true,
            "ticks": "",
            "zerolinecolor": "white"
           },
           "yaxis": {
            "backgroundcolor": "#E5ECF6",
            "gridcolor": "white",
            "gridwidth": 2,
            "linecolor": "white",
            "showbackground": true,
            "ticks": "",
            "zerolinecolor": "white"
           },
           "zaxis": {
            "backgroundcolor": "#E5ECF6",
            "gridcolor": "white",
            "gridwidth": 2,
            "linecolor": "white",
            "showbackground": true,
            "ticks": "",
            "zerolinecolor": "white"
           }
          },
          "shapedefaults": {
           "line": {
            "color": "#2a3f5f"
           }
          },
          "ternary": {
           "aaxis": {
            "gridcolor": "white",
            "linecolor": "white",
            "ticks": ""
           },
           "baxis": {
            "gridcolor": "white",
            "linecolor": "white",
            "ticks": ""
           },
           "bgcolor": "#E5ECF6",
           "caxis": {
            "gridcolor": "white",
            "linecolor": "white",
            "ticks": ""
           }
          },
          "title": {
           "x": 0.05
          },
          "xaxis": {
           "automargin": true,
           "gridcolor": "white",
           "linecolor": "white",
           "ticks": "",
           "title": {
            "standoff": 15
           },
           "zerolinecolor": "white",
           "zerolinewidth": 2
          },
          "yaxis": {
           "automargin": true,
           "gridcolor": "white",
           "linecolor": "white",
           "ticks": "",
           "title": {
            "standoff": 15
           },
           "zerolinecolor": "white",
           "zerolinewidth": 2
          }
         }
        },
        "title": {
         "text": "Average Sale Price per Square Foot and Gross Rent in San Francisco"
        }
       }
      },
      "image/png": "[encoded data removed]",
      "text/html": [
       "<div>                            <div id=\"1e00a799-6b78-4e1d-badd-19bb65b623ee\" class=\"plotly-graph-div\" style=\"height:525px; width:800px;\"></div>            <script type=\"text/javascript\">                require([\"plotly\"], function(Plotly) {                    window.PLOTLYENV=window.PLOTLYENV || {};                                    if (document.getElementById(\"1e00a799-6b78-4e1d-badd-19bb65b623ee\")) {                    Plotly.newPlot(                        \"1e00a799-6b78-4e1d-badd-19bb65b623ee\",                        [{\"hovertemplate\":\"sale_price_sqr_foot=%{marker.size}<br>Lat=%{lat}<br>Lon=%{lon}<br>gross_rent=%{marker.color}<extra></extra>\",\"lat\":[37.791012,37.779598,37.73467,37.72874,37.728629999999995,37.768159999999995,37.77789,37.74961,37.75331,37.78553,37.79298,37.7228,37.728629999999995,37.79101,37.76964,37.75554,37.72874,37.79101,37.79101,37.757059999999996,37.728629999999995,37.757912,37.76525,37.76525,37.72551,37.721160999999995,37.72116,37.75416,37.74961,37.769112,37.74961,37.78553,37.801520000000004,37.7789,37.79298,37.79972,37.71993,37.75331,37.73415,37.783229999999996,37.75184,37.728629999999995,37.79298,37.75331,37.80055,37.80055,37.71993,37.7228,37.7517,37.76911,37.74961,37.79298,37.72838,37.74961,37.76355,37.73467,37.73196,37.78553,37.79298,37.73467,37.783229999999996,37.79101,37.73415,37.80055,37.753311,37.79101,37.779509999999995,37.72874,37.74026,37.79298,37.7347,37.73415,37.79298],\"legendgroup\":\"\",\"lon\":[-122.4021,-122.443451,-122.40106000000002,-122.41098000000001,-122.44305,-122.43933,-122.44516999999999,-122.48998999999999,-122.44703,-122.456,-122.43579,-122.43869,-122.44305,-122.4021,-122.42611000000001,-122.43778999999999,-122.41098000000001,-122.4021,-122.4021,-122.45508999999998,-122.44305,-122.46401999999999,-122.43596000000001,-122.43596000000001,-122.37178,-122.487068,-122.48706999999999,-122.41946999999999,-122.48998999999999,-122.483566,-122.48997,-122.456,-122.45456999999999,-122.45496000000001,-122.43579,-122.46688999999999,-122.46595,-122.44703,-122.45700000000001,-122.40065,-122.42522,-122.44305,-122.43579,-122.44703,-122.40433,-122.40433,-122.46595,-122.43869,-122.446,-122.48357,-122.48998999999999,-122.43579,-122.47851000000001,-122.48998999999999,-122.45765,-122.40106000000002,-122.38323999999999,-122.456,-122.43579,-122.40106000000002,-122.40065,-122.4021,-122.45700000000001,-122.40433,-122.447029,-122.4021,-122.42022,-122.41098000000001,-122.46388,-122.43579,-122.456854,-122.45700000000001,-122.39636000000002],\"marker\":{\"color\":[2817.285714285714,3031.8333333333335,2318.4,3739.0,3080.3333333333335,2698.8333333333335,2817.285714285714,2817.285714285714,2250.5,2472.0,2817.285714285714,2698.8333333333335,2016.0,2817.285714285714,2780.25,2817.285714285714,3031.8333333333335,2817.285714285714,2472.0,1781.5,2899.5,2601.4,2817.285714285714,2817.285714285714,2489.0,2509.0,2960.0,2817.285714285714,3224.0,2817.285714285714,2817.285714285714,2817.285714285714,2555.1666666666665,2555.1666666666665,2817.285714285714,2817.285714285714,3414.0,2647.5,2155.25,2663.6666666666665,2555.1666666666665,3173.4,2817.285714285714,2817.285714285714,2990.8,2818.4,2434.0,2995.75,2817.285714285714,2817.285714285714,2817.285714285714,2817.285714285714,2817.285714285714,2555.1666666666665,2817.285714285714,2318.4,2817.285714285714,2817.285714285714,2817.285714285714,3528.0,2099.0,2817.285714285714,2899.5,2817.285714285714,2817.285714285714,2555.1666666666665,2817.285714285714,3657.0,2515.5,2555.1666666666665,2250.5,3959.0,2555.1666666666665],\"coloraxis\":\"coloraxis\",\"size\":[366.02071153227644,373.38219782647707,204.58862288246596,590.7928388746802,576.7464881132382,452.6805909308442,394.4223987800589,423.6879277015824,487.2448860262575,587.5390673661739,665.964041578323,303.00418440849427,434.99173944522124,391.43437776742576,502.59915555623616,642.2486706357391,388.76592700230754,391.36253308010487,455.83621223779153,321.84083657398736,623.826177537435,639.3935574881156,449.5447622856192,355.9328279480578,170.62491987132685,367.8951440852775,384.7979281346048,397.67371473613446,519.3856038526768,378.59431396136455,413.66751546215943,529.3841850673389,409.95435219297514,478.2285530213679,539.2379688783261,583.7492694814549,788.8448175872469,550.5103482917151,779.810842264425,566.1922135483312,418.9156225067234,523.4662013248023,458.2040944846015,542.4429128151736,411.646875881678,498.26975500787677,330.0973846552545,242.37095202049667,485.0270126111035,473.90077331796317,394.21903228550775,689.5558168113664,373.732856371763,336.172661037069,632.740453508577,327.11392534647274,662.0136128276529,675.3502120510033,608.9832172374425,170.2925485152069,650.1244791945729,570.2714266991686,528.3183317138463,676.5065775293257,469.39862649935156,903.9932576720645,404.1501801622257,301.46617997450267,498.4884848295011,307.56220097996066,533.7039354359513,687.0875745178323,576.709848378276],\"sizemode\":\"area\",\"sizeref\":2.259983144180161},\"mode\":\"markers\",\"name\":\"\",\"showlegend\":false,\"subplot\":\"mapbox\",\"type\":\"scattermapbox\"}],                        {\"coloraxis\":{\"colorbar\":{\"title\":{\"text\":\"gross_rent\"}},\"colorscale\":[[0.0,\"#000000\"],[0.0625,\"#001f4d\"],[0.125,\"#003786\"],[0.1875,\"#0e58a8\"],[0.25,\"#217eb8\"],[0.3125,\"#30a4ca\"],[0.375,\"#54c8df\"],[0.4375,\"#9be4ef\"],[0.5,\"#e1e9d1\"],[0.5625,\"#f3d573\"],[0.625,\"#e7b000\"],[0.6875,\"#da8200\"],[0.75,\"#c65400\"],[0.8125,\"#ac2301\"],[0.875,\"#820000\"],[0.9375,\"#4c0000\"],[1.0,\"#000000\"]]},\"legend\":{\"itemsizing\":\"constant\",\"tracegroupgap\":0},\"mapbox\":{\"accesstoken\":\"pk.eyJ1IjoiYWFydGljIiwiYSI6ImNrc2h3aW81ZDAxaTcydXFtZnJybnFhMHQifQ.vpYK9Xj5iMlkyfg-UHNEBQ\",\"center\":{\"lat\":37.76019350684932,\"lon\":-122.43912380821916},\"domain\":{\"x\":[0.0,1.0],\"y\":[0.0,1.0]},\"zoom\":11},\"template\":{\"data\":{\"bar\":[{\"error_x\":{\"color\":\"#2a3f5f\"},\"error_y\":{\"color\":\"#2a3f5f\"},\"marker\":{\"line\":{\"color\":\"#E5ECF6\",\"width\":0.5},\"pattern\":{\"fillmode\":\"overlay\",\"size\":10,\"solidity\":0.2}},\"type\":\"bar\"}],\"barpolar\":[{\"marker\":{\"line\":{\"color\":\"#E5ECF6\",\"width\":0.5},\"pattern\":{\"fillmode\":\"overlay\",\"size\":10,\"solidity\":0.2}},\"type\":\"barpolar\"}],\"carpet\":[{\"aaxis\":{\"endlinecolor\":\"#2a3f5f\",\"gridcolor\":\"white\",\"linecolor\":\"white\",\"minorgridcolor\":\"white\",\"startlinecolor\":\"#2a3f5f\"},\"baxis\":{\"endlinecolor\":\"#2a3f5f\",\"gridcolor\":\"white\",\"linecolor\":\"white\",\"minorgridcolor\":\"white\",\"startlinecolor\":\"#2a3f5f\"},\"type\":\"carpet\"}],\"choropleth\":[{\"colorbar\":{\"outlinewidth\":0,\"ticks\":\"\"},\"type\":\"choropleth\"}],\"contour\":[{\"colorbar\":{\"outlinewidth\":0,\"ticks\":\"\"},\"colorscale\":[[0.0,\"#0d0887\"],[0.1111111111111111,\"#46039f\"],[0.2222222222222222,\"#7201a8\"],[0.3333333333333333,\"#9c179e\"],[0.4444444444444444,\"#bd3786\"],[0.5555555555555556,\"#d8576b\"],[0.6666666666666666,\"#ed7953\"],[0.7777777777777778,\"#fb9f3a\"],[0.8888888888888888,\"#fdca26\"],[1.0,\"#f0f921\"]],\"type\":\"contour\"}],\"contourcarpet\":[{\"colorbar\":{\"outlinewidth\":0,\"ticks\":\"\"},\"type\":\"contourcarpet\"}],\"heatmap\":[{\"colorbar\":{\"outlinewidth\":0,\"ticks\":\"\"},\"colorscale\":[[0.0,\"#0d0887\"],[0.1111111111111111,\"#46039f\"],[0.2222222222222222,\"#7201a8\"],[0.3333333333333333,\"#9c179e\"],[0.4444444444444444,\"#bd3786\"],[0.5555555555555556,\"#d8576b\"],[0.6666666666666666,\"#ed7953\"],[0.7777777777777778,\"#fb9f3a\"],[0.8888888888888888,\"#fdca26\"],[1.0,\"#f0f921\"]],\"type\":\"heatmap\"}],\"heatmapgl\":[{\"colorbar\":{\"outlinewidth\":0,\"ticks\":\"\"},\"colorscale\":[[0.0,\"#0d0887\"],[0.1111111111111111,\"#46039f\"],[0.2222222222222222,\"#7201a8\"],[0.3333333333333333,\"#9c179e\"],[0.4444444444444444,\"#bd3786\"],[0.5555555555555556,\"#d8576b\"],[0.6666666666666666,\"#ed7953\"],[0.7777777777777778,\"#fb9f3a\"],[0.8888888888888888,\"#fdca26\"],[1.0,\"#f0f921\"]],\"type\":\"heatmapgl\"}],\"histogram\":[{\"marker\":{\"pattern\":{\"fillmode\":\"overlay\",\"size\":10,\"solidity\":0.2}},\"type\":\"histogram\"}],\"histogram2d\":[{\"colorbar\":{\"outlinewidth\":0,\"ticks\":\"\"},\"colorscale\":[[0.0,\"#0d0887\"],[0.1111111111111111,\"#46039f\"],[0.2222222222222222,\"#7201a8\"],[0.3333333333333333,\"#9c179e\"],[0.4444444444444444,\"#bd3786\"],[0.5555555555555556,\"#d8576b\"],[0.6666666666666666,\"#ed7953\"],[0.7777777777777778,\"#fb9f3a\"],[0.8888888888888888,\"#fdca26\"],[1.0,\"#f0f921\"]],\"type\":\"histogram2d\"}],\"histogram2dcontour\":[{\"colorbar\":{\"outlinewidth\":0,\"ticks\":\"\"},\"colorscale\":[[0.0,\"#0d0887\"],[0.1111111111111111,\"#46039f\"],[0.2222222222222222,\"#7201a8\"],[0.3333333333333333,\"#9c179e\"],[0.4444444444444444,\"#bd3786\"],[0.5555555555555556,\"#d8576b\"],[0.6666666666666666,\"#ed7953\"],[0.7777777777777778,\"#fb9f3a\"],[0.8888888888888888,\"#fdca26\"],[1.0,\"#f0f921\"]],\"type\":\"histogram2dcontour\"}],\"mesh3d\":[{\"colorbar\":{\"outlinewidth\":0,\"ticks\":\"\"},\"type\":\"mesh3d\"}],\"parcoords\":[{\"line\":{\"colorbar\":{\"outlinewidth\":0,\"ticks\":\"\"}},\"type\":\"parcoords\"}],\"pie\":[{\"automargin\":true,\"type\":\"pie\"}],\"scatter\":[{\"marker\":{\"colorbar\":{\"outlinewidth\":0,\"ticks\":\"\"}},\"type\":\"scatter\"}],\"scatter3d\":[{\"line\":{\"colorbar\":{\"outlinewidth\":0,\"ticks\":\"\"}},\"marker\":{\"colorbar\":{\"outlinewidth\":0,\"ticks\":\"\"}},\"type\":\"scatter3d\"}],\"scattercarpet\":[{\"marker\":{\"colorbar\":{\"outlinewidth\":0,\"ticks\":\"\"}},\"type\":\"scattercarpet\"}],\"scattergeo\":[{\"marker\":{\"colorbar\":{\"outlinewidth\":0,\"ticks\":\"\"}},\"type\":\"scattergeo\"}],\"scattergl\":[{\"marker\":{\"colorbar\":{\"outlinewidth\":0,\"ticks\":\"\"}},\"type\":\"scattergl\"}],\"scattermapbox\":[{\"marker\":{\"colorbar\":{\"outlinewidth\":0,\"ticks\":\"\"}},\"type\":\"scattermapbox\"}],\"scatterpolar\":[{\"marker\":{\"colorbar\":{\"outlinewidth\":0,\"ticks\":\"\"}},\"type\":\"scatterpolar\"}],\"scatterpolargl\":[{\"marker\":{\"colorbar\":{\"outlinewidth\":0,\"ticks\":\"\"}},\"type\":\"scatterpolargl\"}],\"scatterternary\":[{\"marker\":{\"colorbar\":{\"outlinewidth\":0,\"ticks\":\"\"}},\"type\":\"scatterternary\"}],\"surface\":[{\"colorbar\":{\"outlinewidth\":0,\"ticks\":\"\"},\"colorscale\":[[0.0,\"#0d0887\"],[0.1111111111111111,\"#46039f\"],[0.2222222222222222,\"#7201a8\"],[0.3333333333333333,\"#9c179e\"],[0.4444444444444444,\"#bd3786\"],[0.5555555555555556,\"#d8576b\"],[0.6666666666666666,\"#ed7953\"],[0.7777777777777778,\"#fb9f3a\"],[0.8888888888888888,\"#fdca26\"],[1.0,\"#f0f921\"]],\"type\":\"surface\"}],\"table\":[{\"cells\":{\"fill\":{\"color\":\"#EBF0F8\"},\"line\":{\"color\":\"white\"}},\"header\":{\"fill\":{\"color\":\"#C8D4E3\"},\"line\":{\"color\":\"white\"}},\"type\":\"table\"}]},\"layout\":{\"annotationdefaults\":{\"arrowcolor\":\"#2a3f5f\",\"arrowhead\":0,\"arrowwidth\":1},\"autotypenumbers\":\"strict\",\"coloraxis\":{\"colorbar\":{\"outlinewidth\":0,\"ticks\":\"\"}},\"colorscale\":{\"diverging\":[[0,\"#8e0152\"],[0.1,\"#c51b7d\"],[0.2,\"#de77ae\"],[0.3,\"#f1b6da\"],[0.4,\"#fde0ef\"],[0.5,\"#f7f7f7\"],[0.6,\"#e6f5d0\"],[0.7,\"#b8e186\"],[0.8,\"#7fbc41\"],[0.9,\"#4d9221\"],[1,\"#276419\"]],\"sequential\":[[0.0,\"#0d0887\"],[0.1111111111111111,\"#46039f\"],[0.2222222222222222,\"#7201a8\"],[0.3333333333333333,\"#9c179e\"],[0.4444444444444444,\"#bd3786\"],[0.5555555555555556,\"#d8576b\"],[0.6666666666666666,\"#ed7953\"],[0.7777777777777778,\"#fb9f3a\"],[0.8888888888888888,\"#fdca26\"],[1.0,\"#f0f921\"]],\"sequentialminus\":[[0.0,\"#0d0887\"],[0.1111111111111111,\"#46039f\"],[0.2222222222222222,\"#7201a8\"],[0.3333333333333333,\"#9c179e\"],[0.4444444444444444,\"#bd3786\"],[0.5555555555555556,\"#d8576b\"],[0.6666666666666666,\"#ed7953\"],[0.7777777777777778,\"#fb9f3a\"],[0.8888888888888888,\"#fdca26\"],[1.0,\"#f0f921\"]]},\"colorway\":[\"#636efa\",\"#EF553B\",\"#00cc96\",\"#ab63fa\",\"#FFA15A\",\"#19d3f3\",\"#FF6692\",\"#B6E880\",\"#FF97FF\",\"#FECB52\"],\"font\":{\"color\":\"#2a3f5f\"},\"geo\":{\"bgcolor\":\"white\",\"lakecolor\":\"white\",\"landcolor\":\"#E5ECF6\",\"showlakes\":true,\"showland\":true,\"subunitcolor\":\"white\"},\"hoverlabel\":{\"align\":\"left\"},\"hovermode\":\"closest\",\"mapbox\":{\"style\":\"light\"},\"paper_bgcolor\":\"white\",\"plot_bgcolor\":\"#E5ECF6\",\"polar\":{\"angularaxis\":{\"gridcolor\":\"white\",\"linecolor\":\"white\",\"ticks\":\"\"},\"bgcolor\":\"#E5ECF6\",\"radialaxis\":{\"gridcolor\":\"white\",\"linecolor\":\"white\",\"ticks\":\"\"}},\"scene\":{\"xaxis\":{\"backgroundcolor\":\"#E5ECF6\",\"gridcolor\":\"white\",\"gridwidth\":2,\"linecolor\":\"white\",\"showbackground\":true,\"ticks\":\"\",\"zerolinecolor\":\"white\"},\"yaxis\":{\"backgroundcolor\":\"#E5ECF6\",\"gridcolor\":\"white\",\"gridwidth\":2,\"linecolor\":\"white\",\"showbackground\":true,\"ticks\":\"\",\"zerolinecolor\":\"white\"},\"zaxis\":{\"backgroundcolor\":\"#E5ECF6\",\"gridcolor\":\"white\",\"gridwidth\":2,\"linecolor\":\"white\",\"showbackground\":true,\"ticks\":\"\",\"zerolinecolor\":\"white\"}},\"shapedefaults\":{\"line\":{\"color\":\"#2a3f5f\"}},\"ternary\":{\"aaxis\":{\"gridcolor\":\"white\",\"linecolor\":\"white\",\"ticks\":\"\"},\"baxis\":{\"gridcolor\":\"white\",\"linecolor\":\"white\",\"ticks\":\"\"},\"bgcolor\":\"#E5ECF6\",\"caxis\":{\"gridcolor\":\"white\",\"linecolor\":\"white\",\"ticks\":\"\"}},\"title\":{\"x\":0.05},\"xaxis\":{\"automargin\":true,\"gridcolor\":\"white\",\"linecolor\":\"white\",\"ticks\":\"\",\"title\":{\"standoff\":15},\"zerolinecolor\":\"white\",\"zerolinewidth\":2},\"yaxis\":{\"automargin\":true,\"gridcolor\":\"white\",\"linecolor\":\"white\",\"ticks\":\"\",\"title\":{\"standoff\":15},\"zerolinecolor\":\"white\",\"zerolinewidth\":2}}},\"title\":{\"text\":\"Average Sale Price per Square Foot and Gross Rent in San Francisco\"},\"width\":800},                        {\"responsive\": true}                    ).then(function(){\n",
       "                            \n",
       "var gd = document.getElementById('1e00a799-6b78-4e1d-badd-19bb65b623ee');\n",
       "var x = new MutationObserver(function (mutations, observer) {{\n",
       "        var display = window.getComputedStyle(gd).display;\n",
       "        if (!display || display === 'none') {{\n",
       "            console.log([gd, 'removed!']);\n",
       "            Plotly.purge(gd);\n",
       "            observer.disconnect();\n",
       "        }}\n",
       "}});\n",
       "\n",
       "// Listen for the removal of the full notebook cells\n",
       "var notebookContainer = gd.closest('#notebook-container');\n",
       "if (notebookContainer) {{\n",
       "    x.observe(notebookContainer, {childList: true});\n",
       "}}\n",
       "\n",
       "// Listen for the clearing of the current output cell\n",
       "var outputEl = gd.closest('.output');\n",
       "if (outputEl) {{\n",
       "    x.observe(outputEl, {childList: true});\n",
       "}}\n",
       "\n",
       "                        })                };                });            </script>        </div>"
      ]
     },
     "metadata": {},
     "output_type": "display_data"
    }
   ],
   "source": [
    "neighborhood_map().show()"
   ]
  },
  {
   "cell_type": "code",
   "execution_count": 113,
   "metadata": {},
   "outputs": [
    {
     "data": {
      "application/vnd.plotly.v1+json": {
       "config": {
        "plotlyServerURL": "https://plot.ly"
       },
       "data": [
        {
         "dimensions": [
          {
           "label": "neighborhood",
           "values": [
            "Union Square District",
            "Merced Heights",
            "Miraloma Park",
            "Pacific Heights",
            "Westwood Park",
            "Telegraph Hill",
            "Presidio Heights",
            "Cow Hollow",
            "Potrero Hill",
            "South Beach"
           ]
          },
          {
           "label": "sale_price_sqr_foot",
           "values": [
            903.9932576720645,
            788.8448175872469,
            779.810842264425,
            689.5558168113664,
            687.0875745178323,
            676.5065775293257,
            675.3502120510033,
            665.964041578323,
            662.0136128276529,
            650.1244791945729
           ]
          },
          {
           "label": "housing_units",
           "values": [
            377427.5,
            380348,
            375967.25,
            378401,
            382295,
            378401,
            378401,
            378401,
            378401,
            375805
           ]
          },
          {
           "label": "gross_rent",
           "values": [
            2555.1666666666665,
            3414,
            2155.25,
            2817.285714285714,
            3959,
            2817.285714285714,
            2817.285714285714,
            2817.285714285714,
            2817.285714285714,
            2099
           ]
          }
         ],
         "domain": {
          "x": [
           0,
           1
          ],
          "y": [
           0,
           1
          ]
         },
         "line": {
          "color": [
           903.9932576720645,
           788.8448175872469,
           779.810842264425,
           689.5558168113664,
           687.0875745178323,
           676.5065775293257,
           675.3502120510033,
           665.964041578323,
           662.0136128276529,
           650.1244791945729
          ],
          "coloraxis": "coloraxis"
         },
         "name": "",
         "type": "parcats"
        }
       ],
       "layout": {
        "autosize": true,
        "coloraxis": {
         "colorbar": {
          "title": {
           "text": "sale_price_sqr_foot"
          }
         },
         "colorscale": [
          [
           0,
           "#000004"
          ],
          [
           0.1111111111111111,
           "#1b0c41"
          ],
          [
           0.2222222222222222,
           "#4a0c6b"
          ],
          [
           0.3333333333333333,
           "#781c6d"
          ],
          [
           0.4444444444444444,
           "#a52c60"
          ],
          [
           0.5555555555555556,
           "#cf4446"
          ],
          [
           0.6666666666666666,
           "#ed6925"
          ],
          [
           0.7777777777777778,
           "#fb9b06"
          ],
          [
           0.8888888888888888,
           "#f7d13d"
          ],
          [
           1,
           "#fcffa4"
          ]
         ]
        },
        "legend": {
         "tracegroupgap": 0
        },
        "margin": {
         "t": 60
        },
        "template": {
         "data": {
          "bar": [
           {
            "error_x": {
             "color": "#2a3f5f"
            },
            "error_y": {
             "color": "#2a3f5f"
            },
            "marker": {
             "line": {
              "color": "#E5ECF6",
              "width": 0.5
             },
             "pattern": {
              "fillmode": "overlay",
              "size": 10,
              "solidity": 0.2
             }
            },
            "type": "bar"
           }
          ],
          "barpolar": [
           {
            "marker": {
             "line": {
              "color": "#E5ECF6",
              "width": 0.5
             },
             "pattern": {
              "fillmode": "overlay",
              "size": 10,
              "solidity": 0.2
             }
            },
            "type": "barpolar"
           }
          ],
          "carpet": [
           {
            "aaxis": {
             "endlinecolor": "#2a3f5f",
             "gridcolor": "white",
             "linecolor": "white",
             "minorgridcolor": "white",
             "startlinecolor": "#2a3f5f"
            },
            "baxis": {
             "endlinecolor": "#2a3f5f",
             "gridcolor": "white",
             "linecolor": "white",
             "minorgridcolor": "white",
             "startlinecolor": "#2a3f5f"
            },
            "type": "carpet"
           }
          ],
          "choropleth": [
           {
            "colorbar": {
             "outlinewidth": 0,
             "ticks": ""
            },
            "type": "choropleth"
           }
          ],
          "contour": [
           {
            "colorbar": {
             "outlinewidth": 0,
             "ticks": ""
            },
            "colorscale": [
             [
              0,
              "#0d0887"
             ],
             [
              0.1111111111111111,
              "#46039f"
             ],
             [
              0.2222222222222222,
              "#7201a8"
             ],
             [
              0.3333333333333333,
              "#9c179e"
             ],
             [
              0.4444444444444444,
              "#bd3786"
             ],
             [
              0.5555555555555556,
              "#d8576b"
             ],
             [
              0.6666666666666666,
              "#ed7953"
             ],
             [
              0.7777777777777778,
              "#fb9f3a"
             ],
             [
              0.8888888888888888,
              "#fdca26"
             ],
             [
              1,
              "#f0f921"
             ]
            ],
            "type": "contour"
           }
          ],
          "contourcarpet": [
           {
            "colorbar": {
             "outlinewidth": 0,
             "ticks": ""
            },
            "type": "contourcarpet"
           }
          ],
          "heatmap": [
           {
            "colorbar": {
             "outlinewidth": 0,
             "ticks": ""
            },
            "colorscale": [
             [
              0,
              "#0d0887"
             ],
             [
              0.1111111111111111,
              "#46039f"
             ],
             [
              0.2222222222222222,
              "#7201a8"
             ],
             [
              0.3333333333333333,
              "#9c179e"
             ],
             [
              0.4444444444444444,
              "#bd3786"
             ],
             [
              0.5555555555555556,
              "#d8576b"
             ],
             [
              0.6666666666666666,
              "#ed7953"
             ],
             [
              0.7777777777777778,
              "#fb9f3a"
             ],
             [
              0.8888888888888888,
              "#fdca26"
             ],
             [
              1,
              "#f0f921"
             ]
            ],
            "type": "heatmap"
           }
          ],
          "heatmapgl": [
           {
            "colorbar": {
             "outlinewidth": 0,
             "ticks": ""
            },
            "colorscale": [
             [
              0,
              "#0d0887"
             ],
             [
              0.1111111111111111,
              "#46039f"
             ],
             [
              0.2222222222222222,
              "#7201a8"
             ],
             [
              0.3333333333333333,
              "#9c179e"
             ],
             [
              0.4444444444444444,
              "#bd3786"
             ],
             [
              0.5555555555555556,
              "#d8576b"
             ],
             [
              0.6666666666666666,
              "#ed7953"
             ],
             [
              0.7777777777777778,
              "#fb9f3a"
             ],
             [
              0.8888888888888888,
              "#fdca26"
             ],
             [
              1,
              "#f0f921"
             ]
            ],
            "type": "heatmapgl"
           }
          ],
          "histogram": [
           {
            "marker": {
             "pattern": {
              "fillmode": "overlay",
              "size": 10,
              "solidity": 0.2
             }
            },
            "type": "histogram"
           }
          ],
          "histogram2d": [
           {
            "colorbar": {
             "outlinewidth": 0,
             "ticks": ""
            },
            "colorscale": [
             [
              0,
              "#0d0887"
             ],
             [
              0.1111111111111111,
              "#46039f"
             ],
             [
              0.2222222222222222,
              "#7201a8"
             ],
             [
              0.3333333333333333,
              "#9c179e"
             ],
             [
              0.4444444444444444,
              "#bd3786"
             ],
             [
              0.5555555555555556,
              "#d8576b"
             ],
             [
              0.6666666666666666,
              "#ed7953"
             ],
             [
              0.7777777777777778,
              "#fb9f3a"
             ],
             [
              0.8888888888888888,
              "#fdca26"
             ],
             [
              1,
              "#f0f921"
             ]
            ],
            "type": "histogram2d"
           }
          ],
          "histogram2dcontour": [
           {
            "colorbar": {
             "outlinewidth": 0,
             "ticks": ""
            },
            "colorscale": [
             [
              0,
              "#0d0887"
             ],
             [
              0.1111111111111111,
              "#46039f"
             ],
             [
              0.2222222222222222,
              "#7201a8"
             ],
             [
              0.3333333333333333,
              "#9c179e"
             ],
             [
              0.4444444444444444,
              "#bd3786"
             ],
             [
              0.5555555555555556,
              "#d8576b"
             ],
             [
              0.6666666666666666,
              "#ed7953"
             ],
             [
              0.7777777777777778,
              "#fb9f3a"
             ],
             [
              0.8888888888888888,
              "#fdca26"
             ],
             [
              1,
              "#f0f921"
             ]
            ],
            "type": "histogram2dcontour"
           }
          ],
          "mesh3d": [
           {
            "colorbar": {
             "outlinewidth": 0,
             "ticks": ""
            },
            "type": "mesh3d"
           }
          ],
          "parcoords": [
           {
            "line": {
             "colorbar": {
              "outlinewidth": 0,
              "ticks": ""
             }
            },
            "type": "parcoords"
           }
          ],
          "pie": [
           {
            "automargin": true,
            "type": "pie"
           }
          ],
          "scatter": [
           {
            "marker": {
             "colorbar": {
              "outlinewidth": 0,
              "ticks": ""
             }
            },
            "type": "scatter"
           }
          ],
          "scatter3d": [
           {
            "line": {
             "colorbar": {
              "outlinewidth": 0,
              "ticks": ""
             }
            },
            "marker": {
             "colorbar": {
              "outlinewidth": 0,
              "ticks": ""
             }
            },
            "type": "scatter3d"
           }
          ],
          "scattercarpet": [
           {
            "marker": {
             "colorbar": {
              "outlinewidth": 0,
              "ticks": ""
             }
            },
            "type": "scattercarpet"
           }
          ],
          "scattergeo": [
           {
            "marker": {
             "colorbar": {
              "outlinewidth": 0,
              "ticks": ""
             }
            },
            "type": "scattergeo"
           }
          ],
          "scattergl": [
           {
            "marker": {
             "colorbar": {
              "outlinewidth": 0,
              "ticks": ""
             }
            },
            "type": "scattergl"
           }
          ],
          "scattermapbox": [
           {
            "marker": {
             "colorbar": {
              "outlinewidth": 0,
              "ticks": ""
             }
            },
            "type": "scattermapbox"
           }
          ],
          "scatterpolar": [
           {
            "marker": {
             "colorbar": {
              "outlinewidth": 0,
              "ticks": ""
             }
            },
            "type": "scatterpolar"
           }
          ],
          "scatterpolargl": [
           {
            "marker": {
             "colorbar": {
              "outlinewidth": 0,
              "ticks": ""
             }
            },
            "type": "scatterpolargl"
           }
          ],
          "scatterternary": [
           {
            "marker": {
             "colorbar": {
              "outlinewidth": 0,
              "ticks": ""
             }
            },
            "type": "scatterternary"
           }
          ],
          "surface": [
           {
            "colorbar": {
             "outlinewidth": 0,
             "ticks": ""
            },
            "colorscale": [
             [
              0,
              "#0d0887"
             ],
             [
              0.1111111111111111,
              "#46039f"
             ],
             [
              0.2222222222222222,
              "#7201a8"
             ],
             [
              0.3333333333333333,
              "#9c179e"
             ],
             [
              0.4444444444444444,
              "#bd3786"
             ],
             [
              0.5555555555555556,
              "#d8576b"
             ],
             [
              0.6666666666666666,
              "#ed7953"
             ],
             [
              0.7777777777777778,
              "#fb9f3a"
             ],
             [
              0.8888888888888888,
              "#fdca26"
             ],
             [
              1,
              "#f0f921"
             ]
            ],
            "type": "surface"
           }
          ],
          "table": [
           {
            "cells": {
             "fill": {
              "color": "#EBF0F8"
             },
             "line": {
              "color": "white"
             }
            },
            "header": {
             "fill": {
              "color": "#C8D4E3"
             },
             "line": {
              "color": "white"
             }
            },
            "type": "table"
           }
          ]
         },
         "layout": {
          "annotationdefaults": {
           "arrowcolor": "#2a3f5f",
           "arrowhead": 0,
           "arrowwidth": 1
          },
          "autotypenumbers": "strict",
          "coloraxis": {
           "colorbar": {
            "outlinewidth": 0,
            "ticks": ""
           }
          },
          "colorscale": {
           "diverging": [
            [
             0,
             "#8e0152"
            ],
            [
             0.1,
             "#c51b7d"
            ],
            [
             0.2,
             "#de77ae"
            ],
            [
             0.3,
             "#f1b6da"
            ],
            [
             0.4,
             "#fde0ef"
            ],
            [
             0.5,
             "#f7f7f7"
            ],
            [
             0.6,
             "#e6f5d0"
            ],
            [
             0.7,
             "#b8e186"
            ],
            [
             0.8,
             "#7fbc41"
            ],
            [
             0.9,
             "#4d9221"
            ],
            [
             1,
             "#276419"
            ]
           ],
           "sequential": [
            [
             0,
             "#0d0887"
            ],
            [
             0.1111111111111111,
             "#46039f"
            ],
            [
             0.2222222222222222,
             "#7201a8"
            ],
            [
             0.3333333333333333,
             "#9c179e"
            ],
            [
             0.4444444444444444,
             "#bd3786"
            ],
            [
             0.5555555555555556,
             "#d8576b"
            ],
            [
             0.6666666666666666,
             "#ed7953"
            ],
            [
             0.7777777777777778,
             "#fb9f3a"
            ],
            [
             0.8888888888888888,
             "#fdca26"
            ],
            [
             1,
             "#f0f921"
            ]
           ],
           "sequentialminus": [
            [
             0,
             "#0d0887"
            ],
            [
             0.1111111111111111,
             "#46039f"
            ],
            [
             0.2222222222222222,
             "#7201a8"
            ],
            [
             0.3333333333333333,
             "#9c179e"
            ],
            [
             0.4444444444444444,
             "#bd3786"
            ],
            [
             0.5555555555555556,
             "#d8576b"
            ],
            [
             0.6666666666666666,
             "#ed7953"
            ],
            [
             0.7777777777777778,
             "#fb9f3a"
            ],
            [
             0.8888888888888888,
             "#fdca26"
            ],
            [
             1,
             "#f0f921"
            ]
           ]
          },
          "colorway": [
           "#636efa",
           "#EF553B",
           "#00cc96",
           "#ab63fa",
           "#FFA15A",
           "#19d3f3",
           "#FF6692",
           "#B6E880",
           "#FF97FF",
           "#FECB52"
          ],
          "font": {
           "color": "#2a3f5f"
          },
          "geo": {
           "bgcolor": "white",
           "lakecolor": "white",
           "landcolor": "#E5ECF6",
           "showlakes": true,
           "showland": true,
           "subunitcolor": "white"
          },
          "hoverlabel": {
           "align": "left"
          },
          "hovermode": "closest",
          "mapbox": {
           "style": "light"
          },
          "paper_bgcolor": "white",
          "plot_bgcolor": "#E5ECF6",
          "polar": {
           "angularaxis": {
            "gridcolor": "white",
            "linecolor": "white",
            "ticks": ""
           },
           "bgcolor": "#E5ECF6",
           "radialaxis": {
            "gridcolor": "white",
            "linecolor": "white",
            "ticks": ""
           }
          },
          "scene": {
           "xaxis": {
            "backgroundcolor": "#E5ECF6",
            "gridcolor": "white",
            "gridwidth": 2,
            "linecolor": "white",
            "showbackground": true,
            "ticks": "",
            "zerolinecolor": "white"
           },
           "yaxis": {
            "backgroundcolor": "#E5ECF6",
            "gridcolor": "white",
            "gridwidth": 2,
            "linecolor": "white",
            "showbackground": true,
            "ticks": "",
            "zerolinecolor": "white"
           },
           "zaxis": {
            "backgroundcolor": "#E5ECF6",
            "gridcolor": "white",
            "gridwidth": 2,
            "linecolor": "white",
            "showbackground": true,
            "ticks": "",
            "zerolinecolor": "white"
           }
          },
          "shapedefaults": {
           "line": {
            "color": "#2a3f5f"
           }
          },
          "ternary": {
           "aaxis": {
            "gridcolor": "white",
            "linecolor": "white",
            "ticks": ""
           },
           "baxis": {
            "gridcolor": "white",
            "linecolor": "white",
            "ticks": ""
           },
           "bgcolor": "#E5ECF6",
           "caxis": {
            "gridcolor": "white",
            "linecolor": "white",
            "ticks": ""
           }
          },
          "title": {
           "x": 0.05
          },
          "xaxis": {
           "automargin": true,
           "gridcolor": "white",
           "linecolor": "white",
           "ticks": "",
           "title": {
            "standoff": 15
           },
           "zerolinecolor": "white",
           "zerolinewidth": 2
          },
          "yaxis": {
           "automargin": true,
           "gridcolor": "white",
           "linecolor": "white",
           "ticks": "",
           "title": {
            "standoff": 15
           },
           "zerolinecolor": "white",
           "zerolinewidth": 2
          }
         }
        }
       }
      },
      "image/png": "[encoded data removed]",
      "text/html": [
       "<div>                            <div id=\"de70afe3-92cd-4c30-9fac-8e2f2f1286f9\" class=\"plotly-graph-div\" style=\"height:525px; width:100%;\"></div>            <script type=\"text/javascript\">                require([\"plotly\"], function(Plotly) {                    window.PLOTLYENV=window.PLOTLYENV || {};                                    if (document.getElementById(\"de70afe3-92cd-4c30-9fac-8e2f2f1286f9\")) {                    Plotly.newPlot(                        \"de70afe3-92cd-4c30-9fac-8e2f2f1286f9\",                        [{\"dimensions\":[{\"label\":\"neighborhood\",\"values\":[\"Union Square District\",\"Merced Heights\",\"Miraloma Park\",\"Pacific Heights\",\"Westwood Park\",\"Telegraph Hill\",\"Presidio Heights\",\"Cow Hollow\",\"Potrero Hill\",\"South Beach\"]},{\"label\":\"sale_price_sqr_foot\",\"values\":[903.9932576720645,788.8448175872469,779.810842264425,689.5558168113664,687.0875745178323,676.5065775293257,675.3502120510033,665.964041578323,662.0136128276529,650.1244791945729]},{\"label\":\"housing_units\",\"values\":[377427.5,380348.0,375967.25,378401.0,382295.0,378401.0,378401.0,378401.0,378401.0,375805.0]},{\"label\":\"gross_rent\",\"values\":[2555.1666666666665,3414.0,2155.25,2817.285714285714,3959.0,2817.285714285714,2817.285714285714,2817.285714285714,2817.285714285714,2099.0]}],\"domain\":{\"x\":[0.0,1.0],\"y\":[0.0,1.0]},\"line\":{\"color\":[903.9932576720645,788.8448175872469,779.810842264425,689.5558168113664,687.0875745178323,676.5065775293257,675.3502120510033,665.964041578323,662.0136128276529,650.1244791945729],\"coloraxis\":\"coloraxis\"},\"name\":\"\",\"type\":\"parcats\"}],                        {\"coloraxis\":{\"colorbar\":{\"title\":{\"text\":\"sale_price_sqr_foot\"}},\"colorscale\":[[0.0,\"#000004\"],[0.1111111111111111,\"#1b0c41\"],[0.2222222222222222,\"#4a0c6b\"],[0.3333333333333333,\"#781c6d\"],[0.4444444444444444,\"#a52c60\"],[0.5555555555555556,\"#cf4446\"],[0.6666666666666666,\"#ed6925\"],[0.7777777777777778,\"#fb9b06\"],[0.8888888888888888,\"#f7d13d\"],[1.0,\"#fcffa4\"]]},\"legend\":{\"tracegroupgap\":0},\"margin\":{\"t\":60},\"template\":{\"data\":{\"bar\":[{\"error_x\":{\"color\":\"#2a3f5f\"},\"error_y\":{\"color\":\"#2a3f5f\"},\"marker\":{\"line\":{\"color\":\"#E5ECF6\",\"width\":0.5},\"pattern\":{\"fillmode\":\"overlay\",\"size\":10,\"solidity\":0.2}},\"type\":\"bar\"}],\"barpolar\":[{\"marker\":{\"line\":{\"color\":\"#E5ECF6\",\"width\":0.5},\"pattern\":{\"fillmode\":\"overlay\",\"size\":10,\"solidity\":0.2}},\"type\":\"barpolar\"}],\"carpet\":[{\"aaxis\":{\"endlinecolor\":\"#2a3f5f\",\"gridcolor\":\"white\",\"linecolor\":\"white\",\"minorgridcolor\":\"white\",\"startlinecolor\":\"#2a3f5f\"},\"baxis\":{\"endlinecolor\":\"#2a3f5f\",\"gridcolor\":\"white\",\"linecolor\":\"white\",\"minorgridcolor\":\"white\",\"startlinecolor\":\"#2a3f5f\"},\"type\":\"carpet\"}],\"choropleth\":[{\"colorbar\":{\"outlinewidth\":0,\"ticks\":\"\"},\"type\":\"choropleth\"}],\"contour\":[{\"colorbar\":{\"outlinewidth\":0,\"ticks\":\"\"},\"colorscale\":[[0.0,\"#0d0887\"],[0.1111111111111111,\"#46039f\"],[0.2222222222222222,\"#7201a8\"],[0.3333333333333333,\"#9c179e\"],[0.4444444444444444,\"#bd3786\"],[0.5555555555555556,\"#d8576b\"],[0.6666666666666666,\"#ed7953\"],[0.7777777777777778,\"#fb9f3a\"],[0.8888888888888888,\"#fdca26\"],[1.0,\"#f0f921\"]],\"type\":\"contour\"}],\"contourcarpet\":[{\"colorbar\":{\"outlinewidth\":0,\"ticks\":\"\"},\"type\":\"contourcarpet\"}],\"heatmap\":[{\"colorbar\":{\"outlinewidth\":0,\"ticks\":\"\"},\"colorscale\":[[0.0,\"#0d0887\"],[0.1111111111111111,\"#46039f\"],[0.2222222222222222,\"#7201a8\"],[0.3333333333333333,\"#9c179e\"],[0.4444444444444444,\"#bd3786\"],[0.5555555555555556,\"#d8576b\"],[0.6666666666666666,\"#ed7953\"],[0.7777777777777778,\"#fb9f3a\"],[0.8888888888888888,\"#fdca26\"],[1.0,\"#f0f921\"]],\"type\":\"heatmap\"}],\"heatmapgl\":[{\"colorbar\":{\"outlinewidth\":0,\"ticks\":\"\"},\"colorscale\":[[0.0,\"#0d0887\"],[0.1111111111111111,\"#46039f\"],[0.2222222222222222,\"#7201a8\"],[0.3333333333333333,\"#9c179e\"],[0.4444444444444444,\"#bd3786\"],[0.5555555555555556,\"#d8576b\"],[0.6666666666666666,\"#ed7953\"],[0.7777777777777778,\"#fb9f3a\"],[0.8888888888888888,\"#fdca26\"],[1.0,\"#f0f921\"]],\"type\":\"heatmapgl\"}],\"histogram\":[{\"marker\":{\"pattern\":{\"fillmode\":\"overlay\",\"size\":10,\"solidity\":0.2}},\"type\":\"histogram\"}],\"histogram2d\":[{\"colorbar\":{\"outlinewidth\":0,\"ticks\":\"\"},\"colorscale\":[[0.0,\"#0d0887\"],[0.1111111111111111,\"#46039f\"],[0.2222222222222222,\"#7201a8\"],[0.3333333333333333,\"#9c179e\"],[0.4444444444444444,\"#bd3786\"],[0.5555555555555556,\"#d8576b\"],[0.6666666666666666,\"#ed7953\"],[0.7777777777777778,\"#fb9f3a\"],[0.8888888888888888,\"#fdca26\"],[1.0,\"#f0f921\"]],\"type\":\"histogram2d\"}],\"histogram2dcontour\":[{\"colorbar\":{\"outlinewidth\":0,\"ticks\":\"\"},\"colorscale\":[[0.0,\"#0d0887\"],[0.1111111111111111,\"#46039f\"],[0.2222222222222222,\"#7201a8\"],[0.3333333333333333,\"#9c179e\"],[0.4444444444444444,\"#bd3786\"],[0.5555555555555556,\"#d8576b\"],[0.6666666666666666,\"#ed7953\"],[0.7777777777777778,\"#fb9f3a\"],[0.8888888888888888,\"#fdca26\"],[1.0,\"#f0f921\"]],\"type\":\"histogram2dcontour\"}],\"mesh3d\":[{\"colorbar\":{\"outlinewidth\":0,\"ticks\":\"\"},\"type\":\"mesh3d\"}],\"parcoords\":[{\"line\":{\"colorbar\":{\"outlinewidth\":0,\"ticks\":\"\"}},\"type\":\"parcoords\"}],\"pie\":[{\"automargin\":true,\"type\":\"pie\"}],\"scatter\":[{\"marker\":{\"colorbar\":{\"outlinewidth\":0,\"ticks\":\"\"}},\"type\":\"scatter\"}],\"scatter3d\":[{\"line\":{\"colorbar\":{\"outlinewidth\":0,\"ticks\":\"\"}},\"marker\":{\"colorbar\":{\"outlinewidth\":0,\"ticks\":\"\"}},\"type\":\"scatter3d\"}],\"scattercarpet\":[{\"marker\":{\"colorbar\":{\"outlinewidth\":0,\"ticks\":\"\"}},\"type\":\"scattercarpet\"}],\"scattergeo\":[{\"marker\":{\"colorbar\":{\"outlinewidth\":0,\"ticks\":\"\"}},\"type\":\"scattergeo\"}],\"scattergl\":[{\"marker\":{\"colorbar\":{\"outlinewidth\":0,\"ticks\":\"\"}},\"type\":\"scattergl\"}],\"scattermapbox\":[{\"marker\":{\"colorbar\":{\"outlinewidth\":0,\"ticks\":\"\"}},\"type\":\"scattermapbox\"}],\"scatterpolar\":[{\"marker\":{\"colorbar\":{\"outlinewidth\":0,\"ticks\":\"\"}},\"type\":\"scatterpolar\"}],\"scatterpolargl\":[{\"marker\":{\"colorbar\":{\"outlinewidth\":0,\"ticks\":\"\"}},\"type\":\"scatterpolargl\"}],\"scatterternary\":[{\"marker\":{\"colorbar\":{\"outlinewidth\":0,\"ticks\":\"\"}},\"type\":\"scatterternary\"}],\"surface\":[{\"colorbar\":{\"outlinewidth\":0,\"ticks\":\"\"},\"colorscale\":[[0.0,\"#0d0887\"],[0.1111111111111111,\"#46039f\"],[0.2222222222222222,\"#7201a8\"],[0.3333333333333333,\"#9c179e\"],[0.4444444444444444,\"#bd3786\"],[0.5555555555555556,\"#d8576b\"],[0.6666666666666666,\"#ed7953\"],[0.7777777777777778,\"#fb9f3a\"],[0.8888888888888888,\"#fdca26\"],[1.0,\"#f0f921\"]],\"type\":\"surface\"}],\"table\":[{\"cells\":{\"fill\":{\"color\":\"#EBF0F8\"},\"line\":{\"color\":\"white\"}},\"header\":{\"fill\":{\"color\":\"#C8D4E3\"},\"line\":{\"color\":\"white\"}},\"type\":\"table\"}]},\"layout\":{\"annotationdefaults\":{\"arrowcolor\":\"#2a3f5f\",\"arrowhead\":0,\"arrowwidth\":1},\"autotypenumbers\":\"strict\",\"coloraxis\":{\"colorbar\":{\"outlinewidth\":0,\"ticks\":\"\"}},\"colorscale\":{\"diverging\":[[0,\"#8e0152\"],[0.1,\"#c51b7d\"],[0.2,\"#de77ae\"],[0.3,\"#f1b6da\"],[0.4,\"#fde0ef\"],[0.5,\"#f7f7f7\"],[0.6,\"#e6f5d0\"],[0.7,\"#b8e186\"],[0.8,\"#7fbc41\"],[0.9,\"#4d9221\"],[1,\"#276419\"]],\"sequential\":[[0.0,\"#0d0887\"],[0.1111111111111111,\"#46039f\"],[0.2222222222222222,\"#7201a8\"],[0.3333333333333333,\"#9c179e\"],[0.4444444444444444,\"#bd3786\"],[0.5555555555555556,\"#d8576b\"],[0.6666666666666666,\"#ed7953\"],[0.7777777777777778,\"#fb9f3a\"],[0.8888888888888888,\"#fdca26\"],[1.0,\"#f0f921\"]],\"sequentialminus\":[[0.0,\"#0d0887\"],[0.1111111111111111,\"#46039f\"],[0.2222222222222222,\"#7201a8\"],[0.3333333333333333,\"#9c179e\"],[0.4444444444444444,\"#bd3786\"],[0.5555555555555556,\"#d8576b\"],[0.6666666666666666,\"#ed7953\"],[0.7777777777777778,\"#fb9f3a\"],[0.8888888888888888,\"#fdca26\"],[1.0,\"#f0f921\"]]},\"colorway\":[\"#636efa\",\"#EF553B\",\"#00cc96\",\"#ab63fa\",\"#FFA15A\",\"#19d3f3\",\"#FF6692\",\"#B6E880\",\"#FF97FF\",\"#FECB52\"],\"font\":{\"color\":\"#2a3f5f\"},\"geo\":{\"bgcolor\":\"white\",\"lakecolor\":\"white\",\"landcolor\":\"#E5ECF6\",\"showlakes\":true,\"showland\":true,\"subunitcolor\":\"white\"},\"hoverlabel\":{\"align\":\"left\"},\"hovermode\":\"closest\",\"mapbox\":{\"style\":\"light\"},\"paper_bgcolor\":\"white\",\"plot_bgcolor\":\"#E5ECF6\",\"polar\":{\"angularaxis\":{\"gridcolor\":\"white\",\"linecolor\":\"white\",\"ticks\":\"\"},\"bgcolor\":\"#E5ECF6\",\"radialaxis\":{\"gridcolor\":\"white\",\"linecolor\":\"white\",\"ticks\":\"\"}},\"scene\":{\"xaxis\":{\"backgroundcolor\":\"#E5ECF6\",\"gridcolor\":\"white\",\"gridwidth\":2,\"linecolor\":\"white\",\"showbackground\":true,\"ticks\":\"\",\"zerolinecolor\":\"white\"},\"yaxis\":{\"backgroundcolor\":\"#E5ECF6\",\"gridcolor\":\"white\",\"gridwidth\":2,\"linecolor\":\"white\",\"showbackground\":true,\"ticks\":\"\",\"zerolinecolor\":\"white\"},\"zaxis\":{\"backgroundcolor\":\"#E5ECF6\",\"gridcolor\":\"white\",\"gridwidth\":2,\"linecolor\":\"white\",\"showbackground\":true,\"ticks\":\"\",\"zerolinecolor\":\"white\"}},\"shapedefaults\":{\"line\":{\"color\":\"#2a3f5f\"}},\"ternary\":{\"aaxis\":{\"gridcolor\":\"white\",\"linecolor\":\"white\",\"ticks\":\"\"},\"baxis\":{\"gridcolor\":\"white\",\"linecolor\":\"white\",\"ticks\":\"\"},\"bgcolor\":\"#E5ECF6\",\"caxis\":{\"gridcolor\":\"white\",\"linecolor\":\"white\",\"ticks\":\"\"}},\"title\":{\"x\":0.05},\"xaxis\":{\"automargin\":true,\"gridcolor\":\"white\",\"linecolor\":\"white\",\"ticks\":\"\",\"title\":{\"standoff\":15},\"zerolinecolor\":\"white\",\"zerolinewidth\":2},\"yaxis\":{\"automargin\":true,\"gridcolor\":\"white\",\"linecolor\":\"white\",\"ticks\":\"\",\"title\":{\"standoff\":15},\"zerolinecolor\":\"white\",\"zerolinewidth\":2}}}},                        {\"responsive\": true}                    ).then(function(){\n",
       "                            \n",
       "var gd = document.getElementById('de70afe3-92cd-4c30-9fac-8e2f2f1286f9');\n",
       "var x = new MutationObserver(function (mutations, observer) {{\n",
       "        var display = window.getComputedStyle(gd).display;\n",
       "        if (!display || display === 'none') {{\n",
       "            console.log([gd, 'removed!']);\n",
       "            Plotly.purge(gd);\n",
       "            observer.disconnect();\n",
       "        }}\n",
       "}});\n",
       "\n",
       "// Listen for the removal of the full notebook cells\n",
       "var notebookContainer = gd.closest('#notebook-container');\n",
       "if (notebookContainer) {{\n",
       "    x.observe(notebookContainer, {childList: true});\n",
       "}}\n",
       "\n",
       "// Listen for the clearing of the current output cell\n",
       "var outputEl = gd.closest('.output');\n",
       "if (outputEl) {{\n",
       "    x.observe(outputEl, {childList: true});\n",
       "}}\n",
       "\n",
       "                        })                };                });            </script>        </div>"
      ]
     },
     "metadata": {},
     "output_type": "display_data"
    }
   ],
   "source": [
    "parallel_categories()"
   ]
  },
  {
   "cell_type": "code",
   "execution_count": 114,
   "metadata": {},
   "outputs": [
    {
     "data": {
      "application/vnd.plotly.v1+json": {
       "config": {
        "plotlyServerURL": "https://plot.ly"
       },
       "data": [
        {
         "dimensions": [
          {
           "label": "sale_price_sqr_foot",
           "values": [
            903.9932576720645,
            788.8448175872469,
            779.810842264425,
            689.5558168113664,
            687.0875745178323,
            676.5065775293257,
            675.3502120510033,
            665.964041578323,
            662.0136128276529,
            650.1244791945729
           ]
          },
          {
           "label": "housing_units",
           "values": [
            377427.5,
            380348,
            375967.25,
            378401,
            382295,
            378401,
            378401,
            378401,
            378401,
            375805
           ]
          },
          {
           "label": "gross_rent",
           "values": [
            2555.1666666666665,
            3414,
            2155.25,
            2817.285714285714,
            3959,
            2817.285714285714,
            2817.285714285714,
            2817.285714285714,
            2817.285714285714,
            2099
           ]
          }
         ],
         "domain": {
          "x": [
           0,
           1
          ],
          "y": [
           0,
           1
          ]
         },
         "line": {
          "color": [
           903.9932576720645,
           788.8448175872469,
           779.810842264425,
           689.5558168113664,
           687.0875745178323,
           676.5065775293257,
           675.3502120510033,
           665.964041578323,
           662.0136128276529,
           650.1244791945729
          ],
          "coloraxis": "coloraxis"
         },
         "name": "",
         "type": "parcoords"
        }
       ],
       "layout": {
        "autosize": true,
        "coloraxis": {
         "colorbar": {
          "title": {
           "text": "sale_price_sqr_foot"
          }
         },
         "colorscale": [
          [
           0,
           "#0d0887"
          ],
          [
           0.1111111111111111,
           "#46039f"
          ],
          [
           0.2222222222222222,
           "#7201a8"
          ],
          [
           0.3333333333333333,
           "#9c179e"
          ],
          [
           0.4444444444444444,
           "#bd3786"
          ],
          [
           0.5555555555555556,
           "#d8576b"
          ],
          [
           0.6666666666666666,
           "#ed7953"
          ],
          [
           0.7777777777777778,
           "#fb9f3a"
          ],
          [
           0.8888888888888888,
           "#fdca26"
          ],
          [
           1,
           "#f0f921"
          ]
         ]
        },
        "legend": {
         "tracegroupgap": 0
        },
        "margin": {
         "t": 60
        },
        "template": {
         "data": {
          "bar": [
           {
            "error_x": {
             "color": "#2a3f5f"
            },
            "error_y": {
             "color": "#2a3f5f"
            },
            "marker": {
             "line": {
              "color": "#E5ECF6",
              "width": 0.5
             },
             "pattern": {
              "fillmode": "overlay",
              "size": 10,
              "solidity": 0.2
             }
            },
            "type": "bar"
           }
          ],
          "barpolar": [
           {
            "marker": {
             "line": {
              "color": "#E5ECF6",
              "width": 0.5
             },
             "pattern": {
              "fillmode": "overlay",
              "size": 10,
              "solidity": 0.2
             }
            },
            "type": "barpolar"
           }
          ],
          "carpet": [
           {
            "aaxis": {
             "endlinecolor": "#2a3f5f",
             "gridcolor": "white",
             "linecolor": "white",
             "minorgridcolor": "white",
             "startlinecolor": "#2a3f5f"
            },
            "baxis": {
             "endlinecolor": "#2a3f5f",
             "gridcolor": "white",
             "linecolor": "white",
             "minorgridcolor": "white",
             "startlinecolor": "#2a3f5f"
            },
            "type": "carpet"
           }
          ],
          "choropleth": [
           {
            "colorbar": {
             "outlinewidth": 0,
             "ticks": ""
            },
            "type": "choropleth"
           }
          ],
          "contour": [
           {
            "colorbar": {
             "outlinewidth": 0,
             "ticks": ""
            },
            "colorscale": [
             [
              0,
              "#0d0887"
             ],
             [
              0.1111111111111111,
              "#46039f"
             ],
             [
              0.2222222222222222,
              "#7201a8"
             ],
             [
              0.3333333333333333,
              "#9c179e"
             ],
             [
              0.4444444444444444,
              "#bd3786"
             ],
             [
              0.5555555555555556,
              "#d8576b"
             ],
             [
              0.6666666666666666,
              "#ed7953"
             ],
             [
              0.7777777777777778,
              "#fb9f3a"
             ],
             [
              0.8888888888888888,
              "#fdca26"
             ],
             [
              1,
              "#f0f921"
             ]
            ],
            "type": "contour"
           }
          ],
          "contourcarpet": [
           {
            "colorbar": {
             "outlinewidth": 0,
             "ticks": ""
            },
            "type": "contourcarpet"
           }
          ],
          "heatmap": [
           {
            "colorbar": {
             "outlinewidth": 0,
             "ticks": ""
            },
            "colorscale": [
             [
              0,
              "#0d0887"
             ],
             [
              0.1111111111111111,
              "#46039f"
             ],
             [
              0.2222222222222222,
              "#7201a8"
             ],
             [
              0.3333333333333333,
              "#9c179e"
             ],
             [
              0.4444444444444444,
              "#bd3786"
             ],
             [
              0.5555555555555556,
              "#d8576b"
             ],
             [
              0.6666666666666666,
              "#ed7953"
             ],
             [
              0.7777777777777778,
              "#fb9f3a"
             ],
             [
              0.8888888888888888,
              "#fdca26"
             ],
             [
              1,
              "#f0f921"
             ]
            ],
            "type": "heatmap"
           }
          ],
          "heatmapgl": [
           {
            "colorbar": {
             "outlinewidth": 0,
             "ticks": ""
            },
            "colorscale": [
             [
              0,
              "#0d0887"
             ],
             [
              0.1111111111111111,
              "#46039f"
             ],
             [
              0.2222222222222222,
              "#7201a8"
             ],
             [
              0.3333333333333333,
              "#9c179e"
             ],
             [
              0.4444444444444444,
              "#bd3786"
             ],
             [
              0.5555555555555556,
              "#d8576b"
             ],
             [
              0.6666666666666666,
              "#ed7953"
             ],
             [
              0.7777777777777778,
              "#fb9f3a"
             ],
             [
              0.8888888888888888,
              "#fdca26"
             ],
             [
              1,
              "#f0f921"
             ]
            ],
            "type": "heatmapgl"
           }
          ],
          "histogram": [
           {
            "marker": {
             "pattern": {
              "fillmode": "overlay",
              "size": 10,
              "solidity": 0.2
             }
            },
            "type": "histogram"
           }
          ],
          "histogram2d": [
           {
            "colorbar": {
             "outlinewidth": 0,
             "ticks": ""
            },
            "colorscale": [
             [
              0,
              "#0d0887"
             ],
             [
              0.1111111111111111,
              "#46039f"
             ],
             [
              0.2222222222222222,
              "#7201a8"
             ],
             [
              0.3333333333333333,
              "#9c179e"
             ],
             [
              0.4444444444444444,
              "#bd3786"
             ],
             [
              0.5555555555555556,
              "#d8576b"
             ],
             [
              0.6666666666666666,
              "#ed7953"
             ],
             [
              0.7777777777777778,
              "#fb9f3a"
             ],
             [
              0.8888888888888888,
              "#fdca26"
             ],
             [
              1,
              "#f0f921"
             ]
            ],
            "type": "histogram2d"
           }
          ],
          "histogram2dcontour": [
           {
            "colorbar": {
             "outlinewidth": 0,
             "ticks": ""
            },
            "colorscale": [
             [
              0,
              "#0d0887"
             ],
             [
              0.1111111111111111,
              "#46039f"
             ],
             [
              0.2222222222222222,
              "#7201a8"
             ],
             [
              0.3333333333333333,
              "#9c179e"
             ],
             [
              0.4444444444444444,
              "#bd3786"
             ],
             [
              0.5555555555555556,
              "#d8576b"
             ],
             [
              0.6666666666666666,
              "#ed7953"
             ],
             [
              0.7777777777777778,
              "#fb9f3a"
             ],
             [
              0.8888888888888888,
              "#fdca26"
             ],
             [
              1,
              "#f0f921"
             ]
            ],
            "type": "histogram2dcontour"
           }
          ],
          "mesh3d": [
           {
            "colorbar": {
             "outlinewidth": 0,
             "ticks": ""
            },
            "type": "mesh3d"
           }
          ],
          "parcoords": [
           {
            "line": {
             "colorbar": {
              "outlinewidth": 0,
              "ticks": ""
             }
            },
            "type": "parcoords"
           }
          ],
          "pie": [
           {
            "automargin": true,
            "type": "pie"
           }
          ],
          "scatter": [
           {
            "marker": {
             "colorbar": {
              "outlinewidth": 0,
              "ticks": ""
             }
            },
            "type": "scatter"
           }
          ],
          "scatter3d": [
           {
            "line": {
             "colorbar": {
              "outlinewidth": 0,
              "ticks": ""
             }
            },
            "marker": {
             "colorbar": {
              "outlinewidth": 0,
              "ticks": ""
             }
            },
            "type": "scatter3d"
           }
          ],
          "scattercarpet": [
           {
            "marker": {
             "colorbar": {
              "outlinewidth": 0,
              "ticks": ""
             }
            },
            "type": "scattercarpet"
           }
          ],
          "scattergeo": [
           {
            "marker": {
             "colorbar": {
              "outlinewidth": 0,
              "ticks": ""
             }
            },
            "type": "scattergeo"
           }
          ],
          "scattergl": [
           {
            "marker": {
             "colorbar": {
              "outlinewidth": 0,
              "ticks": ""
             }
            },
            "type": "scattergl"
           }
          ],
          "scattermapbox": [
           {
            "marker": {
             "colorbar": {
              "outlinewidth": 0,
              "ticks": ""
             }
            },
            "type": "scattermapbox"
           }
          ],
          "scatterpolar": [
           {
            "marker": {
             "colorbar": {
              "outlinewidth": 0,
              "ticks": ""
             }
            },
            "type": "scatterpolar"
           }
          ],
          "scatterpolargl": [
           {
            "marker": {
             "colorbar": {
              "outlinewidth": 0,
              "ticks": ""
             }
            },
            "type": "scatterpolargl"
           }
          ],
          "scatterternary": [
           {
            "marker": {
             "colorbar": {
              "outlinewidth": 0,
              "ticks": ""
             }
            },
            "type": "scatterternary"
           }
          ],
          "surface": [
           {
            "colorbar": {
             "outlinewidth": 0,
             "ticks": ""
            },
            "colorscale": [
             [
              0,
              "#0d0887"
             ],
             [
              0.1111111111111111,
              "#46039f"
             ],
             [
              0.2222222222222222,
              "#7201a8"
             ],
             [
              0.3333333333333333,
              "#9c179e"
             ],
             [
              0.4444444444444444,
              "#bd3786"
             ],
             [
              0.5555555555555556,
              "#d8576b"
             ],
             [
              0.6666666666666666,
              "#ed7953"
             ],
             [
              0.7777777777777778,
              "#fb9f3a"
             ],
             [
              0.8888888888888888,
              "#fdca26"
             ],
             [
              1,
              "#f0f921"
             ]
            ],
            "type": "surface"
           }
          ],
          "table": [
           {
            "cells": {
             "fill": {
              "color": "#EBF0F8"
             },
             "line": {
              "color": "white"
             }
            },
            "header": {
             "fill": {
              "color": "#C8D4E3"
             },
             "line": {
              "color": "white"
             }
            },
            "type": "table"
           }
          ]
         },
         "layout": {
          "annotationdefaults": {
           "arrowcolor": "#2a3f5f",
           "arrowhead": 0,
           "arrowwidth": 1
          },
          "autotypenumbers": "strict",
          "coloraxis": {
           "colorbar": {
            "outlinewidth": 0,
            "ticks": ""
           }
          },
          "colorscale": {
           "diverging": [
            [
             0,
             "#8e0152"
            ],
            [
             0.1,
             "#c51b7d"
            ],
            [
             0.2,
             "#de77ae"
            ],
            [
             0.3,
             "#f1b6da"
            ],
            [
             0.4,
             "#fde0ef"
            ],
            [
             0.5,
             "#f7f7f7"
            ],
            [
             0.6,
             "#e6f5d0"
            ],
            [
             0.7,
             "#b8e186"
            ],
            [
             0.8,
             "#7fbc41"
            ],
            [
             0.9,
             "#4d9221"
            ],
            [
             1,
             "#276419"
            ]
           ],
           "sequential": [
            [
             0,
             "#0d0887"
            ],
            [
             0.1111111111111111,
             "#46039f"
            ],
            [
             0.2222222222222222,
             "#7201a8"
            ],
            [
             0.3333333333333333,
             "#9c179e"
            ],
            [
             0.4444444444444444,
             "#bd3786"
            ],
            [
             0.5555555555555556,
             "#d8576b"
            ],
            [
             0.6666666666666666,
             "#ed7953"
            ],
            [
             0.7777777777777778,
             "#fb9f3a"
            ],
            [
             0.8888888888888888,
             "#fdca26"
            ],
            [
             1,
             "#f0f921"
            ]
           ],
           "sequentialminus": [
            [
             0,
             "#0d0887"
            ],
            [
             0.1111111111111111,
             "#46039f"
            ],
            [
             0.2222222222222222,
             "#7201a8"
            ],
            [
             0.3333333333333333,
             "#9c179e"
            ],
            [
             0.4444444444444444,
             "#bd3786"
            ],
            [
             0.5555555555555556,
             "#d8576b"
            ],
            [
             0.6666666666666666,
             "#ed7953"
            ],
            [
             0.7777777777777778,
             "#fb9f3a"
            ],
            [
             0.8888888888888888,
             "#fdca26"
            ],
            [
             1,
             "#f0f921"
            ]
           ]
          },
          "colorway": [
           "#636efa",
           "#EF553B",
           "#00cc96",
           "#ab63fa",
           "#FFA15A",
           "#19d3f3",
           "#FF6692",
           "#B6E880",
           "#FF97FF",
           "#FECB52"
          ],
          "font": {
           "color": "#2a3f5f"
          },
          "geo": {
           "bgcolor": "white",
           "lakecolor": "white",
           "landcolor": "#E5ECF6",
           "showlakes": true,
           "showland": true,
           "subunitcolor": "white"
          },
          "hoverlabel": {
           "align": "left"
          },
          "hovermode": "closest",
          "mapbox": {
           "style": "light"
          },
          "paper_bgcolor": "white",
          "plot_bgcolor": "#E5ECF6",
          "polar": {
           "angularaxis": {
            "gridcolor": "white",
            "linecolor": "white",
            "ticks": ""
           },
           "bgcolor": "#E5ECF6",
           "radialaxis": {
            "gridcolor": "white",
            "linecolor": "white",
            "ticks": ""
           }
          },
          "scene": {
           "xaxis": {
            "backgroundcolor": "#E5ECF6",
            "gridcolor": "white",
            "gridwidth": 2,
            "linecolor": "white",
            "showbackground": true,
            "ticks": "",
            "zerolinecolor": "white"
           },
           "yaxis": {
            "backgroundcolor": "#E5ECF6",
            "gridcolor": "white",
            "gridwidth": 2,
            "linecolor": "white",
            "showbackground": true,
            "ticks": "",
            "zerolinecolor": "white"
           },
           "zaxis": {
            "backgroundcolor": "#E5ECF6",
            "gridcolor": "white",
            "gridwidth": 2,
            "linecolor": "white",
            "showbackground": true,
            "ticks": "",
            "zerolinecolor": "white"
           }
          },
          "shapedefaults": {
           "line": {
            "color": "#2a3f5f"
           }
          },
          "ternary": {
           "aaxis": {
            "gridcolor": "white",
            "linecolor": "white",
            "ticks": ""
           },
           "baxis": {
            "gridcolor": "white",
            "linecolor": "white",
            "ticks": ""
           },
           "bgcolor": "#E5ECF6",
           "caxis": {
            "gridcolor": "white",
            "linecolor": "white",
            "ticks": ""
           }
          },
          "title": {
           "x": 0.05
          },
          "xaxis": {
           "automargin": true,
           "gridcolor": "white",
           "linecolor": "white",
           "ticks": "",
           "title": {
            "standoff": 15
           },
           "zerolinecolor": "white",
           "zerolinewidth": 2
          },
          "yaxis": {
           "automargin": true,
           "gridcolor": "white",
           "linecolor": "white",
           "ticks": "",
           "title": {
            "standoff": 15
           },
           "zerolinecolor": "white",
           "zerolinewidth": 2
          }
         }
        }
       }
      },
      "image/png": "[encoded data removed]",
      "text/html": [
       "<div>                            <div id=\"f718a2dc-056c-4bc4-9f14-27dcf7c127ea\" class=\"plotly-graph-div\" style=\"height:525px; width:100%;\"></div>            <script type=\"text/javascript\">                require([\"plotly\"], function(Plotly) {                    window.PLOTLYENV=window.PLOTLYENV || {};                                    if (document.getElementById(\"f718a2dc-056c-4bc4-9f14-27dcf7c127ea\")) {                    Plotly.newPlot(                        \"f718a2dc-056c-4bc4-9f14-27dcf7c127ea\",                        [{\"dimensions\":[{\"label\":\"sale_price_sqr_foot\",\"values\":[903.9932576720645,788.8448175872469,779.810842264425,689.5558168113664,687.0875745178323,676.5065775293257,675.3502120510033,665.964041578323,662.0136128276529,650.1244791945729]},{\"label\":\"housing_units\",\"values\":[377427.5,380348.0,375967.25,378401.0,382295.0,378401.0,378401.0,378401.0,378401.0,375805.0]},{\"label\":\"gross_rent\",\"values\":[2555.1666666666665,3414.0,2155.25,2817.285714285714,3959.0,2817.285714285714,2817.285714285714,2817.285714285714,2817.285714285714,2099.0]}],\"domain\":{\"x\":[0.0,1.0],\"y\":[0.0,1.0]},\"line\":{\"color\":[903.9932576720645,788.8448175872469,779.810842264425,689.5558168113664,687.0875745178323,676.5065775293257,675.3502120510033,665.964041578323,662.0136128276529,650.1244791945729],\"coloraxis\":\"coloraxis\"},\"name\":\"\",\"type\":\"parcoords\"}],                        {\"coloraxis\":{\"colorbar\":{\"title\":{\"text\":\"sale_price_sqr_foot\"}},\"colorscale\":[[0.0,\"#0d0887\"],[0.1111111111111111,\"#46039f\"],[0.2222222222222222,\"#7201a8\"],[0.3333333333333333,\"#9c179e\"],[0.4444444444444444,\"#bd3786\"],[0.5555555555555556,\"#d8576b\"],[0.6666666666666666,\"#ed7953\"],[0.7777777777777778,\"#fb9f3a\"],[0.8888888888888888,\"#fdca26\"],[1.0,\"#f0f921\"]]},\"legend\":{\"tracegroupgap\":0},\"margin\":{\"t\":60},\"template\":{\"data\":{\"bar\":[{\"error_x\":{\"color\":\"#2a3f5f\"},\"error_y\":{\"color\":\"#2a3f5f\"},\"marker\":{\"line\":{\"color\":\"#E5ECF6\",\"width\":0.5},\"pattern\":{\"fillmode\":\"overlay\",\"size\":10,\"solidity\":0.2}},\"type\":\"bar\"}],\"barpolar\":[{\"marker\":{\"line\":{\"color\":\"#E5ECF6\",\"width\":0.5},\"pattern\":{\"fillmode\":\"overlay\",\"size\":10,\"solidity\":0.2}},\"type\":\"barpolar\"}],\"carpet\":[{\"aaxis\":{\"endlinecolor\":\"#2a3f5f\",\"gridcolor\":\"white\",\"linecolor\":\"white\",\"minorgridcolor\":\"white\",\"startlinecolor\":\"#2a3f5f\"},\"baxis\":{\"endlinecolor\":\"#2a3f5f\",\"gridcolor\":\"white\",\"linecolor\":\"white\",\"minorgridcolor\":\"white\",\"startlinecolor\":\"#2a3f5f\"},\"type\":\"carpet\"}],\"choropleth\":[{\"colorbar\":{\"outlinewidth\":0,\"ticks\":\"\"},\"type\":\"choropleth\"}],\"contour\":[{\"colorbar\":{\"outlinewidth\":0,\"ticks\":\"\"},\"colorscale\":[[0.0,\"#0d0887\"],[0.1111111111111111,\"#46039f\"],[0.2222222222222222,\"#7201a8\"],[0.3333333333333333,\"#9c179e\"],[0.4444444444444444,\"#bd3786\"],[0.5555555555555556,\"#d8576b\"],[0.6666666666666666,\"#ed7953\"],[0.7777777777777778,\"#fb9f3a\"],[0.8888888888888888,\"#fdca26\"],[1.0,\"#f0f921\"]],\"type\":\"contour\"}],\"contourcarpet\":[{\"colorbar\":{\"outlinewidth\":0,\"ticks\":\"\"},\"type\":\"contourcarpet\"}],\"heatmap\":[{\"colorbar\":{\"outlinewidth\":0,\"ticks\":\"\"},\"colorscale\":[[0.0,\"#0d0887\"],[0.1111111111111111,\"#46039f\"],[0.2222222222222222,\"#7201a8\"],[0.3333333333333333,\"#9c179e\"],[0.4444444444444444,\"#bd3786\"],[0.5555555555555556,\"#d8576b\"],[0.6666666666666666,\"#ed7953\"],[0.7777777777777778,\"#fb9f3a\"],[0.8888888888888888,\"#fdca26\"],[1.0,\"#f0f921\"]],\"type\":\"heatmap\"}],\"heatmapgl\":[{\"colorbar\":{\"outlinewidth\":0,\"ticks\":\"\"},\"colorscale\":[[0.0,\"#0d0887\"],[0.1111111111111111,\"#46039f\"],[0.2222222222222222,\"#7201a8\"],[0.3333333333333333,\"#9c179e\"],[0.4444444444444444,\"#bd3786\"],[0.5555555555555556,\"#d8576b\"],[0.6666666666666666,\"#ed7953\"],[0.7777777777777778,\"#fb9f3a\"],[0.8888888888888888,\"#fdca26\"],[1.0,\"#f0f921\"]],\"type\":\"heatmapgl\"}],\"histogram\":[{\"marker\":{\"pattern\":{\"fillmode\":\"overlay\",\"size\":10,\"solidity\":0.2}},\"type\":\"histogram\"}],\"histogram2d\":[{\"colorbar\":{\"outlinewidth\":0,\"ticks\":\"\"},\"colorscale\":[[0.0,\"#0d0887\"],[0.1111111111111111,\"#46039f\"],[0.2222222222222222,\"#7201a8\"],[0.3333333333333333,\"#9c179e\"],[0.4444444444444444,\"#bd3786\"],[0.5555555555555556,\"#d8576b\"],[0.6666666666666666,\"#ed7953\"],[0.7777777777777778,\"#fb9f3a\"],[0.8888888888888888,\"#fdca26\"],[1.0,\"#f0f921\"]],\"type\":\"histogram2d\"}],\"histogram2dcontour\":[{\"colorbar\":{\"outlinewidth\":0,\"ticks\":\"\"},\"colorscale\":[[0.0,\"#0d0887\"],[0.1111111111111111,\"#46039f\"],[0.2222222222222222,\"#7201a8\"],[0.3333333333333333,\"#9c179e\"],[0.4444444444444444,\"#bd3786\"],[0.5555555555555556,\"#d8576b\"],[0.6666666666666666,\"#ed7953\"],[0.7777777777777778,\"#fb9f3a\"],[0.8888888888888888,\"#fdca26\"],[1.0,\"#f0f921\"]],\"type\":\"histogram2dcontour\"}],\"mesh3d\":[{\"colorbar\":{\"outlinewidth\":0,\"ticks\":\"\"},\"type\":\"mesh3d\"}],\"parcoords\":[{\"line\":{\"colorbar\":{\"outlinewidth\":0,\"ticks\":\"\"}},\"type\":\"parcoords\"}],\"pie\":[{\"automargin\":true,\"type\":\"pie\"}],\"scatter\":[{\"marker\":{\"colorbar\":{\"outlinewidth\":0,\"ticks\":\"\"}},\"type\":\"scatter\"}],\"scatter3d\":[{\"line\":{\"colorbar\":{\"outlinewidth\":0,\"ticks\":\"\"}},\"marker\":{\"colorbar\":{\"outlinewidth\":0,\"ticks\":\"\"}},\"type\":\"scatter3d\"}],\"scattercarpet\":[{\"marker\":{\"colorbar\":{\"outlinewidth\":0,\"ticks\":\"\"}},\"type\":\"scattercarpet\"}],\"scattergeo\":[{\"marker\":{\"colorbar\":{\"outlinewidth\":0,\"ticks\":\"\"}},\"type\":\"scattergeo\"}],\"scattergl\":[{\"marker\":{\"colorbar\":{\"outlinewidth\":0,\"ticks\":\"\"}},\"type\":\"scattergl\"}],\"scattermapbox\":[{\"marker\":{\"colorbar\":{\"outlinewidth\":0,\"ticks\":\"\"}},\"type\":\"scattermapbox\"}],\"scatterpolar\":[{\"marker\":{\"colorbar\":{\"outlinewidth\":0,\"ticks\":\"\"}},\"type\":\"scatterpolar\"}],\"scatterpolargl\":[{\"marker\":{\"colorbar\":{\"outlinewidth\":0,\"ticks\":\"\"}},\"type\":\"scatterpolargl\"}],\"scatterternary\":[{\"marker\":{\"colorbar\":{\"outlinewidth\":0,\"ticks\":\"\"}},\"type\":\"scatterternary\"}],\"surface\":[{\"colorbar\":{\"outlinewidth\":0,\"ticks\":\"\"},\"colorscale\":[[0.0,\"#0d0887\"],[0.1111111111111111,\"#46039f\"],[0.2222222222222222,\"#7201a8\"],[0.3333333333333333,\"#9c179e\"],[0.4444444444444444,\"#bd3786\"],[0.5555555555555556,\"#d8576b\"],[0.6666666666666666,\"#ed7953\"],[0.7777777777777778,\"#fb9f3a\"],[0.8888888888888888,\"#fdca26\"],[1.0,\"#f0f921\"]],\"type\":\"surface\"}],\"table\":[{\"cells\":{\"fill\":{\"color\":\"#EBF0F8\"},\"line\":{\"color\":\"white\"}},\"header\":{\"fill\":{\"color\":\"#C8D4E3\"},\"line\":{\"color\":\"white\"}},\"type\":\"table\"}]},\"layout\":{\"annotationdefaults\":{\"arrowcolor\":\"#2a3f5f\",\"arrowhead\":0,\"arrowwidth\":1},\"autotypenumbers\":\"strict\",\"coloraxis\":{\"colorbar\":{\"outlinewidth\":0,\"ticks\":\"\"}},\"colorscale\":{\"diverging\":[[0,\"#8e0152\"],[0.1,\"#c51b7d\"],[0.2,\"#de77ae\"],[0.3,\"#f1b6da\"],[0.4,\"#fde0ef\"],[0.5,\"#f7f7f7\"],[0.6,\"#e6f5d0\"],[0.7,\"#b8e186\"],[0.8,\"#7fbc41\"],[0.9,\"#4d9221\"],[1,\"#276419\"]],\"sequential\":[[0.0,\"#0d0887\"],[0.1111111111111111,\"#46039f\"],[0.2222222222222222,\"#7201a8\"],[0.3333333333333333,\"#9c179e\"],[0.4444444444444444,\"#bd3786\"],[0.5555555555555556,\"#d8576b\"],[0.6666666666666666,\"#ed7953\"],[0.7777777777777778,\"#fb9f3a\"],[0.8888888888888888,\"#fdca26\"],[1.0,\"#f0f921\"]],\"sequentialminus\":[[0.0,\"#0d0887\"],[0.1111111111111111,\"#46039f\"],[0.2222222222222222,\"#7201a8\"],[0.3333333333333333,\"#9c179e\"],[0.4444444444444444,\"#bd3786\"],[0.5555555555555556,\"#d8576b\"],[0.6666666666666666,\"#ed7953\"],[0.7777777777777778,\"#fb9f3a\"],[0.8888888888888888,\"#fdca26\"],[1.0,\"#f0f921\"]]},\"colorway\":[\"#636efa\",\"#EF553B\",\"#00cc96\",\"#ab63fa\",\"#FFA15A\",\"#19d3f3\",\"#FF6692\",\"#B6E880\",\"#FF97FF\",\"#FECB52\"],\"font\":{\"color\":\"#2a3f5f\"},\"geo\":{\"bgcolor\":\"white\",\"lakecolor\":\"white\",\"landcolor\":\"#E5ECF6\",\"showlakes\":true,\"showland\":true,\"subunitcolor\":\"white\"},\"hoverlabel\":{\"align\":\"left\"},\"hovermode\":\"closest\",\"mapbox\":{\"style\":\"light\"},\"paper_bgcolor\":\"white\",\"plot_bgcolor\":\"#E5ECF6\",\"polar\":{\"angularaxis\":{\"gridcolor\":\"white\",\"linecolor\":\"white\",\"ticks\":\"\"},\"bgcolor\":\"#E5ECF6\",\"radialaxis\":{\"gridcolor\":\"white\",\"linecolor\":\"white\",\"ticks\":\"\"}},\"scene\":{\"xaxis\":{\"backgroundcolor\":\"#E5ECF6\",\"gridcolor\":\"white\",\"gridwidth\":2,\"linecolor\":\"white\",\"showbackground\":true,\"ticks\":\"\",\"zerolinecolor\":\"white\"},\"yaxis\":{\"backgroundcolor\":\"#E5ECF6\",\"gridcolor\":\"white\",\"gridwidth\":2,\"linecolor\":\"white\",\"showbackground\":true,\"ticks\":\"\",\"zerolinecolor\":\"white\"},\"zaxis\":{\"backgroundcolor\":\"#E5ECF6\",\"gridcolor\":\"white\",\"gridwidth\":2,\"linecolor\":\"white\",\"showbackground\":true,\"ticks\":\"\",\"zerolinecolor\":\"white\"}},\"shapedefaults\":{\"line\":{\"color\":\"#2a3f5f\"}},\"ternary\":{\"aaxis\":{\"gridcolor\":\"white\",\"linecolor\":\"white\",\"ticks\":\"\"},\"baxis\":{\"gridcolor\":\"white\",\"linecolor\":\"white\",\"ticks\":\"\"},\"bgcolor\":\"#E5ECF6\",\"caxis\":{\"gridcolor\":\"white\",\"linecolor\":\"white\",\"ticks\":\"\"}},\"title\":{\"x\":0.05},\"xaxis\":{\"automargin\":true,\"gridcolor\":\"white\",\"linecolor\":\"white\",\"ticks\":\"\",\"title\":{\"standoff\":15},\"zerolinecolor\":\"white\",\"zerolinewidth\":2},\"yaxis\":{\"automargin\":true,\"gridcolor\":\"white\",\"linecolor\":\"white\",\"ticks\":\"\",\"title\":{\"standoff\":15},\"zerolinecolor\":\"white\",\"zerolinewidth\":2}}}},                        {\"responsive\": true}                    ).then(function(){\n",
       "                            \n",
       "var gd = document.getElementById('f718a2dc-056c-4bc4-9f14-27dcf7c127ea');\n",
       "var x = new MutationObserver(function (mutations, observer) {{\n",
       "        var display = window.getComputedStyle(gd).display;\n",
       "        if (!display || display === 'none') {{\n",
       "            console.log([gd, 'removed!']);\n",
       "            Plotly.purge(gd);\n",
       "            observer.disconnect();\n",
       "        }}\n",
       "}});\n",
       "\n",
       "// Listen for the removal of the full notebook cells\n",
       "var notebookContainer = gd.closest('#notebook-container');\n",
       "if (notebookContainer) {{\n",
       "    x.observe(notebookContainer, {childList: true});\n",
       "}}\n",
       "\n",
       "// Listen for the clearing of the current output cell\n",
       "var outputEl = gd.closest('.output');\n",
       "if (outputEl) {{\n",
       "    x.observe(outputEl, {childList: true});\n",
       "}}\n",
       "\n",
       "                        })                };                });            </script>        </div>"
      ]
     },
     "metadata": {},
     "output_type": "display_data"
    }
   ],
   "source": [
    "parallel_coordinates()"
   ]
  },
  {
   "cell_type": "code",
   "execution_count": 115,
   "metadata": {},
   "outputs": [],
   "source": [
    "sunburst()"
   ]
  },
  {
   "cell_type": "code",
   "execution_count": null,
   "metadata": {},
   "outputs": [],
   "source": []
  },
  {
   "cell_type": "code",
   "execution_count": null,
   "metadata": {},
   "outputs": [],
   "source": []
  },
  {
   "cell_type": "code",
   "execution_count": null,
   "metadata": {},
   "outputs": [],
   "source": []
  },
  {
   "cell_type": "code",
   "execution_count": null,
   "metadata": {},
   "outputs": [],
   "source": [
    " "
   ]
  },
  {
   "cell_type": "code",
   "execution_count": null,
   "metadata": {},
   "outputs": [],
   "source": []
  }
 ],
 "metadata": {
  "file_extension": ".py",
  "kernelspec": {
   "display_name": "Python 3",
   "language": "python",
   "name": "python3"
  },
  "language_info": {
   "codemirror_mode": {
    "name": "ipython",
    "version": 3
   },
   "file_extension": ".py",
   "mimetype": "text/x-python",
   "name": "python",
   "nbconvert_exporter": "python",
   "pygments_lexer": "ipython3",
   "version": "3.7.10"
  },
  "mimetype": "text/x-python",
  "name": "python",
  "npconvert_exporter": "python",
  "pygments_lexer": "ipython3",
  "version": 3
 },
 "nbformat": 4,
 "nbformat_minor": 4
}
